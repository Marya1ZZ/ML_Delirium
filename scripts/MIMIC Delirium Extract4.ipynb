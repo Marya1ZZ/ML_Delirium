{
 "cells": [
  {
   "cell_type": "code",
   "execution_count": 1,
   "id": "33976f0f-27f1-43e4-9872-4698a34a9457",
   "metadata": {},
   "outputs": [
    {
     "name": "stdout",
     "output_type": "stream",
     "text": [
      "Memory Usage: 55.8%\n"
     ]
    }
   ],
   "source": [
    "import pandas as pd\n",
    "import os\n",
    "import psutil\n",
    "\n",
    "# Step 1: Define Data Path\n",
    "data_path = \"D:/mimic-iv-3.1\"\n",
    "\n",
    "# Step 2: Check memory usage before loading data\n",
    "def check_memory():\n",
    "    print(f\"Memory Usage: {psutil.virtual_memory().percent}%\")\n",
    "check_memory()\n"
   ]
  },
  {
   "cell_type": "code",
   "execution_count": 289,
   "id": "562cf496-601a-47b8-81ab-bb824e87c270",
   "metadata": {},
   "outputs": [],
   "source": [
    "#DID NOT NEED TO  RUN SKIPP IT # Create an empty DataFrame with the key columns\n",
    "admissions = pd.DataFrame(columns=[\"subject_id\", \"hadm_id\"])\n",
    "diagnosis_count = pd.DataFrame(columns=[\"subject_id\", \"hadm_id\"])\n",
    "diagnoses = pd.DataFrame(columns=[\"subject_id\", \"hadm_id\"])"
   ]
  },
  {
   "cell_type": "code",
   "execution_count": 3,
   "id": "34b22fe1-59fd-43b0-afaa-4077c6a8cfca",
   "metadata": {},
   "outputs": [],
   "source": [
    "# Step 3: Load MIMIC-IV Tables with optimized memory handling\n",
    "# =============================\n",
    "# 1. Load and Process Admissions & Patients (One row per admission)\n",
    "# =============================\n",
    "admissions = pd.read_csv(\n",
    "    os.path.join(data_path, \"hosp/admissions.csv.gz\"),\n",
    "    usecols=[\"subject_id\", \"hadm_id\", \"admission_type\", \"admission_location\", \"discharge_location\", \n",
    "             \"admittime\", \"dischtime\", \"insurance\", \"race\", \"marital_status\", \"edregtime\", \"edouttime\"],\n",
    "    low_memory=False\n",
    ")\n",
    "\n",
    "# Calculate ED time spent (in minutes) and hospital length of stay (in days)\n",
    "admissions[\"ed_time_spent\"] = (pd.to_datetime(admissions[\"edouttime\"]) - pd.to_datetime(admissions[\"edregtime\"])).dt.total_seconds() / 60\n",
    "admissions[\"los_hosp\"] = (pd.to_datetime(admissions[\"dischtime\"]) - pd.to_datetime(admissions[\"admittime\"])).dt.total_seconds() / (60*60*24)\n",
    "\n",
    "# Drop raw timestamp columns to reduce redundancy\n",
    "admissions = admissions.drop(columns=[\"edregtime\", \"edouttime\", \"admittime\", \"dischtime\"], errors=\"ignore\")\n",
    " # Load patient demographics\n",
    "patients = pd.read_csv(\n",
    "    os.path.join(data_path, \"hosp/patients.csv.gz\"),\n",
    "    usecols=[\"subject_id\", \"gender\", \"anchor_age\", \"anchor_year\"],\n",
    "    low_memory=False\n",
    ")"
   ]
  },
  {
   "cell_type": "code",
   "execution_count": 5,
   "id": "0047edcf-fcbf-4d62-a01c-9b35f4efbde4",
   "metadata": {},
   "outputs": [
    {
     "name": "stdout",
     "output_type": "stream",
     "text": [
      "   subject_id   hadm_id  admission_type      admission_location  \\\n",
      "0    10000032  22595853          URGENT  TRANSFER FROM HOSPITAL   \n",
      "1    10000032  22841357        EW EMER.          EMERGENCY ROOM   \n",
      "2    10000032  25742920        EW EMER.          EMERGENCY ROOM   \n",
      "3    10000032  29079034        EW EMER.          EMERGENCY ROOM   \n",
      "4    10000068  25022803  EU OBSERVATION          EMERGENCY ROOM   \n",
      "\n",
      "  discharge_location insurance marital_status   race  ed_time_spent  los_hosp  \n",
      "0               HOME  Medicaid        WIDOWED  WHITE          253.0  0.786111  \n",
      "1               HOME  Medicaid        WIDOWED  WHITE          337.0  1.015278  \n",
      "2            HOSPICE  Medicaid        WIDOWED  WHITE          286.0  1.754167  \n",
      "3               HOME  Medicaid        WIDOWED  WHITE          486.0  2.222222  \n",
      "4                NaN       NaN         SINGLE  WHITE          511.0  0.298611  \n"
     ]
    }
   ],
   "source": [
    "print(admissions.head())  # Show first 5 rows"
   ]
  },
  {
   "cell_type": "code",
   "execution_count": 56,
   "id": "48b4384c-dca2-4bc0-94c4-473913addebd",
   "metadata": {},
   "outputs": [
    {
     "name": "stdout",
     "output_type": "stream",
     "text": [
      "             icd9_code icd10_code flags\n",
      "0  0010  A000    00000        NaN   NaN\n",
      "1  0011  A001    00000        NaN   NaN\n",
      "2  0019  A009    00000        NaN   NaN\n",
      "3  0020  A0100   10000        NaN   NaN\n",
      "4  0021  A011    00000        NaN   NaN\n"
     ]
    }
   ],
   "source": [
    "# =============================\n",
    "# 2A.  Diagnoses Data ICD Codes conversion\n",
    "# =============================\n",
    "# Load GEMs ICD-9 to ICD-10 Mapping File\n",
    "gem_file_path = \"D:/MIMIC-IV-Data-Pipeline/2015_I9gem.txt\"  # Replace with the correct path\n",
    "col_names = [\"icd9_code\", \"icd10_code\", \"flags\"]\n",
    "\n",
    "# Read the file (it's space-separated)\n",
    "icd9_to_icd10_gem = pd.read_csv(gem_file_path, sep=\"\\t\", header=None, names=col_names, dtype=str)\n",
    "\n",
    "# Display first few rows\n",
    "print(icd9_to_icd10_gem.head())\n"
   ]
  },
  {
   "cell_type": "code",
   "execution_count": 88,
   "id": "511d0057-4eb7-481a-ad5b-00a520198c8c",
   "metadata": {},
   "outputs": [
    {
     "name": "stdout",
     "output_type": "stream",
     "text": [
      "  icd9_code icd10_code  flags\n",
      "0      0010       A000  00000\n",
      "1      0011       A001  00000\n",
      "2      0019       A009  00000\n",
      "3      0020      A0100  10000\n",
      "4      0021       A011  00000\n"
     ]
    }
   ],
   "source": [
    "# =============================\n",
    "# 2. Load and Aggregate Diagnoses Data\n",
    "# =============================\n",
    "diagnoses = pd.read_csv(\n",
    "    os.path.join(data_path, \"hosp/diagnoses_icd.csv.gz\"),\n",
    "    usecols=[\"subject_id\", \"hadm_id\", \"icd_code\",\"icd_version\"],\n",
    "    low_memory=False\n",
    ")\n",
    "\n",
    "#=============================\n",
    "# 2A.  Diagnoses Data ICD Codes conversion\n",
    "# =============================\n",
    "# Load GEMs ICD-9 to ICD-10 Mapping File\n",
    "gem_file_path = \"D:/MIMIC-IV-Data-Pipeline/2015_I9gem.txt\"  # Replace with the correct path\n",
    "col_names = [\"icd9_code\", \"icd10_code\", \"flags\"]\n",
    "\n",
    "# Read the file (it's space-separated)\n",
    "icd9_to_icd10_gem = pd.read_csv(gem_file_path, sep=r\"\\s+\", header=None, names=col_names, dtype=str)\n"
   ]
  },
  {
   "cell_type": "code",
   "execution_count": 90,
   "id": "e5ea537f-74cd-4ac7-bacb-a22ed92d32b0",
   "metadata": {},
   "outputs": [
    {
     "name": "stdout",
     "output_type": "stream",
     "text": [
      "  icd9_code icd10_code  flags\n",
      "0      0010       A000  00000\n",
      "1      0011       A001  00000\n",
      "2      0019       A009  00000\n",
      "3      0020      A0100  10000\n",
      "4      0021       A011  00000\n",
      "icd9_code     object\n",
      "icd10_code    object\n",
      "flags         object\n",
      "dtype: object\n"
     ]
    }
   ],
   "source": [
    "# Display first few rows\n",
    "print(icd9_to_icd10_gem.head())\n",
    "print(icd9_to_icd10_gem.dtypes)\n"
   ]
  },
  {
   "cell_type": "code",
   "execution_count": 92,
   "id": "87c46363-6aea-45ab-8ffc-5eb75e0c1d2f",
   "metadata": {},
   "outputs": [
    {
     "name": "stdout",
     "output_type": "stream",
     "text": [
      "Diagnoses Data Shape: (6364488, 4)\n",
      "   subject_id   hadm_id icd_code  icd_version\n",
      "0    10000032  22595853     5723            9\n",
      "1    10000032  22595853    78959            9\n",
      "2    10000032  22595853     5715            9\n",
      "3    10000032  22595853    07070            9\n",
      "4    10000032  22595853      496            9\n",
      "subject_id      int64\n",
      "hadm_id         int64\n",
      "icd_code       object\n",
      "icd_version     int64\n",
      "dtype: object\n",
      "Unique values in icd_version: [ 9 10]\n"
     ]
    }
   ],
   "source": [
    "print(\"Diagnoses Data Shape:\", diagnoses.shape)\n",
    "print(diagnoses.head())\n",
    "print(diagnoses.dtypes)\n",
    "print(\"Unique values in icd_version:\", diagnoses[\"icd_version\"].unique())\n"
   ]
  },
  {
   "cell_type": "code",
   "execution_count": 94,
   "id": "2cc5f8ce-3bdd-4855-b82a-79472cb91734",
   "metadata": {},
   "outputs": [
    {
     "name": "stdout",
     "output_type": "stream",
     "text": [
      "ICD-9 Diagnoses Shape: (2908741, 4)\n",
      "   subject_id   hadm_id icd_code  icd_version\n",
      "0    10000032  22595853     5723            9\n",
      "1    10000032  22595853    78959            9\n",
      "2    10000032  22595853     5715            9\n",
      "3    10000032  22595853    07070            9\n",
      "4    10000032  22595853      496            9\n",
      "Unique ICD-9 codes in Diagnoses: 9143\n"
     ]
    }
   ],
   "source": [
    "icd9_diagnoses = diagnoses[diagnoses[\"icd_version\"] == 9].copy()\n",
    "\n",
    "print(\"ICD-9 Diagnoses Shape:\", icd9_diagnoses.shape)\n",
    "print(icd9_diagnoses.head())\n",
    "print(\"Unique ICD-9 codes in Diagnoses:\", icd9_diagnoses[\"icd_code\"].nunique())\n"
   ]
  },
  {
   "cell_type": "code",
   "execution_count": 96,
   "id": "0ee22ed7-6bba-44bc-a342-e37246b1aba3",
   "metadata": {},
   "outputs": [
    {
     "name": "stdout",
     "output_type": "stream",
     "text": [
      "First 5 ICD-9 codes in Diagnoses (after fix): ['5723' '78959' '5715' '07070' '496']\n",
      "First 5 ICD-9 codes in GEM Mapping (after fix): ['0010' '0011' '0019' '0020' '0021']\n"
     ]
    }
   ],
   "source": [
    "# Remove spaces and ensure consistency\n",
    "icd9_diagnoses[\"icd_code\"] = icd9_diagnoses[\"icd_code\"].str.strip()\n",
    "icd9_to_icd10_gem[\"icd9_code\"] = icd9_to_icd10_gem[\"icd9_code\"].str.strip()\n",
    "\n",
    "# Remove trailing decimals in MIMIC-IV ICD-9 codes (e.g., \"123.0\" → \"123\")\n",
    "icd9_diagnoses[\"icd_code\"] = icd9_diagnoses[\"icd_code\"].str.split(\".\").str[0]\n",
    "\n",
    "# Ensure codes are uppercase (if GEM uses uppercase)\n",
    "icd9_diagnoses[\"icd_code\"] = icd9_diagnoses[\"icd_code\"].str.upper()\n",
    "icd9_to_icd10_gem[\"icd9_code\"] = icd9_to_icd10_gem[\"icd9_code\"].str.upper()\n",
    "\n",
    "# Print unique values after fixing\n",
    "print(\"First 5 ICD-9 codes in Diagnoses (after fix):\", icd9_diagnoses[\"icd_code\"].unique()[:5])\n",
    "print(\"First 5 ICD-9 codes in GEM Mapping (after fix):\", icd9_to_icd10_gem[\"icd9_code\"].unique()[:5])\n"
   ]
  },
  {
   "cell_type": "code",
   "execution_count": 98,
   "id": "63da9e71-96a0-4d5c-8afb-de6c48faf83b",
   "metadata": {},
   "outputs": [
    {
     "name": "stdout",
     "output_type": "stream",
     "text": [
      "First 5 ICD-9 codes in GEM Mapping (after fix): ['10' '11' '19' '20' '21']\n"
     ]
    }
   ],
   "source": [
    "# Remove leading zeros from GEM ICD-9 codes\n",
    "icd9_to_icd10_gem[\"icd9_code\"] = icd9_to_icd10_gem[\"icd9_code\"].astype(str).str.lstrip(\"0\")\n",
    "\n",
    "# Print first 5 values again after fixing\n",
    "print(\"First 5 ICD-9 codes in GEM Mapping (after fix):\", icd9_to_icd10_gem[\"icd9_code\"].unique()[:5])\n"
   ]
  },
  {
   "cell_type": "code",
   "execution_count": 84,
   "id": "af5cf0b0-d1b4-451d-9f69-dd0942c44df8",
   "metadata": {},
   "outputs": [
    {
     "name": "stderr",
     "output_type": "stream",
     "text": [
      "<>:18: SyntaxWarning: invalid escape sequence '\\s'\n",
      "<>:18: SyntaxWarning: invalid escape sequence '\\s'\n",
      "C:\\Users\\truly\\AppData\\Local\\Temp\\ipykernel_10616\\1971824649.py:18: SyntaxWarning: invalid escape sequence '\\s'\n",
      "  icd9_to_icd10_gem = pd.read_csv(gem_file_path, sep=\"\\s+\", header=None, names=col_names, dtype=str)\n"
     ]
    },
    {
     "name": "stdout",
     "output_type": "stream",
     "text": [
      "  icd9_code icd10_code  flags\n",
      "0      0010       A000  00000\n",
      "1      0011       A001  00000\n",
      "2      0019       A009  00000\n",
      "3      0020      A0100  10000\n",
      "4      0021       A011  00000\n",
      "First 5 ICD-9 codes in Diagnoses (after fix): []\n",
      "First 5 ICD-9 codes in GEM Mapping (after fix): ['0010' '0011' '0019' '0020' '0021']\n"
     ]
    }
   ],
   "source": [
    "# =============================\n",
    "# 2B. Perform ICD-9 to ICD-10 Mapping\n",
    "# =============================\n",
    "# Ensure ICD codes are string type\n",
    "diagnoses[\"icd_code\"] = diagnoses[\"icd_code\"].astype(str)\n",
    "\n",
    "# Separate ICD-9 and ICD-10 diagnoses\n",
    "icd9_diagnoses = diagnoses[diagnoses[\"icd_version\"] == \"9\"]\n",
    "icd10_diagnoses = diagnoses[diagnoses[\"icd_version\"] == \"10\"]\n",
    "\n",
    "\n",
    "# QA Steps pre-merge \n",
    "# Remove spaces\n",
    "icd9_diagnoses[\"icd_code\"] = icd9_diagnoses[\"icd_code\"].str.strip()\n",
    "icd9_to_icd10_gem[\"icd9_code\"] = icd9_to_icd10_gem[\"icd9_code\"].str.strip()\n",
    "\n",
    "# Remove trailing decimals in MIMIC-IV ICD-9 codes (if present)\n",
    "icd9_diagnoses[\"icd_code\"] = icd9_diagnoses[\"icd_code\"].str.split(\".\").str[0]\n",
    "\n",
    "# Ensure codes are uppercase (if GEM uses uppercase)\n",
    "icd9_diagnoses[\"icd_code\"] = icd9_diagnoses[\"icd_code\"].str.upper()\n",
    "icd9_to_icd10_gem[\"icd9_code\"] = icd9_to_icd10_gem[\"icd9_code\"].str.upper()\n",
    "\n",
    "# Print unique values again after fixing\n",
    "print(\"First 5 ICD-9 codes in Diagnoses (after fix):\", icd9_diagnoses[\"icd_code\"].unique()[:5])\n",
    "print(\"First 5 ICD-9 codes in GEM Mapping (after fix):\", icd9_to_icd10_gem[\"icd9_code\"].unique()[:5])\n",
    "\n"
   ]
  },
  {
   "cell_type": "code",
   "execution_count": 60,
   "id": "e9f200ed-456a-432b-b58a-029ee7d0196a",
   "metadata": {},
   "outputs": [
    {
     "name": "stdout",
     "output_type": "stream",
     "text": [
      "             icd9_code icd10_code flags\n",
      "0  0010  A000    00000        NaN   NaN\n",
      "1  0011  A001    00000        NaN   NaN\n",
      "2  0019  A009    00000        NaN   NaN\n",
      "3  0020  A0100   10000        NaN   NaN\n",
      "4  0021  A011    00000        NaN   NaN\n"
     ]
    }
   ],
   "source": [
    "\n",
    "#=====================================\n",
    "# Merge ICD-9 diagnoses with GEM mapping\n",
    "mapped_icd10 = icd9_diagnoses.merge(\n",
    "    icd9_to_icd10_gem, left_on=\"icd_code\", right_on=\"icd9_code\", how=\"left\"\n",
    ")\n",
    "\n",
    "# Use ICD-10 codes where available, otherwise keep original ICD-9 codes\n",
    "mapped_icd10[\"final_icd_code\"] = mapped_icd10[\"icd10_code\"].fillna(mapped_icd10[\"icd_code\"])\n",
    "\n",
    "# Keep only relevant columns\n",
    "mapped_icd10 = mapped_icd10[[\"subject_id\", \"hadm_id\", \"final_icd_code\"]]\n",
    "\n",
    "# Rename ICD-10 column for consistency\n",
    "icd10_diagnoses = icd10_diagnoses.rename(columns={\"icd_code\": \"final_icd_code\"})\n",
    "icd10_diagnoses = icd10_diagnoses[[\"subject_id\", \"hadm_id\", \"final_icd_code\"]]\n",
    "\n",
    "# Combine mapped ICD-10 diagnoses with original ICD-10 data\n",
    "final_diagnoses = pd.concat([icd10_diagnoses, mapped_icd10], ignore_index=True)"
   ]
  },
  {
   "cell_type": "code",
   "execution_count": 66,
   "id": "07db7896-3114-4ee4-86ff-e7b165917595",
   "metadata": {},
   "outputs": [
    {
     "name": "stdout",
     "output_type": "stream",
     "text": [
      "Diagnoses Data Shape: (6364488, 4)\n",
      "   subject_id   hadm_id icd_code  icd_version\n",
      "0    10000032  22595853     5723            9\n",
      "1    10000032  22595853    78959            9\n",
      "2    10000032  22595853     5715            9\n",
      "3    10000032  22595853    07070            9\n",
      "4    10000032  22595853      496            9\n"
     ]
    }
   ],
   "source": [
    "print(\"Diagnoses Data Shape:\", diagnoses.shape)\n",
    "print(diagnoses.head())\n"
   ]
  },
  {
   "cell_type": "code",
   "execution_count": 68,
   "id": "8d5abe04-a5b0-41d7-8d5c-da5d48f6025a",
   "metadata": {},
   "outputs": [
    {
     "name": "stdout",
     "output_type": "stream",
     "text": [
      "[ 9 10]\n"
     ]
    }
   ],
   "source": [
    "print(diagnoses[\"icd_version\"].unique())  # Check unique values\n"
   ]
  },
  {
   "cell_type": "code",
   "execution_count": 70,
   "id": "01d4a2c9-5b9d-4cd3-b317-61bead763c2e",
   "metadata": {},
   "outputs": [
    {
     "name": "stdout",
     "output_type": "stream",
     "text": [
      "ICD-9 to ICD-10 GEM Mapping Shape: (23947, 3)\n",
      "             icd9_code icd10_code flags\n",
      "0  0010  A000    00000        NaN   NaN\n",
      "1  0011  A001    00000        NaN   NaN\n",
      "2  0019  A009    00000        NaN   NaN\n",
      "3  0020  A0100   10000        NaN   NaN\n",
      "4  0021  A011    00000        NaN   NaN\n"
     ]
    }
   ],
   "source": [
    "print(\"ICD-9 to ICD-10 GEM Mapping Shape:\", icd9_to_icd10_gem.shape)\n",
    "print(icd9_to_icd10_gem.head())\n"
   ]
  },
  {
   "cell_type": "code",
   "execution_count": 72,
   "id": "d1554662-1972-45d0-9960-cbb0352aba95",
   "metadata": {
    "scrolled": true
   },
   "outputs": [
    {
     "name": "stdout",
     "output_type": "stream",
     "text": [
      "Mapped ICD-10 Diagnoses Shape: (0, 3)\n",
      "Empty DataFrame\n",
      "Columns: [subject_id, hadm_id, final_icd_code]\n",
      "Index: []\n"
     ]
    }
   ],
   "source": [
    "print(\"Mapped ICD-10 Diagnoses Shape:\", mapped_icd10.shape)\n",
    "print(mapped_icd10.head())\n"
   ]
  },
  {
   "cell_type": "code",
   "execution_count": 74,
   "id": "8c802f4d-794f-407f-89ec-6faa24265d19",
   "metadata": {},
   "outputs": [
    {
     "name": "stdout",
     "output_type": "stream",
     "text": [
      "ICD-9 Diagnoses Shape: (0, 4)\n",
      "Empty DataFrame\n",
      "Columns: [subject_id, hadm_id, icd_code, icd_version]\n",
      "Index: []\n",
      "Unique ICD-9 Codes in Diagnoses: 0\n"
     ]
    }
   ],
   "source": [
    "print(\"ICD-9 Diagnoses Shape:\", icd9_diagnoses.shape)\n",
    "print(icd9_diagnoses.head())\n",
    "\n",
    "print(\"Unique ICD-9 Codes in Diagnoses:\", icd9_diagnoses[\"icd_code\"].nunique())\n"
   ]
  },
  {
   "cell_type": "code",
   "execution_count": 76,
   "id": "fcd9e637-984a-43dc-ab25-f6355c57409c",
   "metadata": {},
   "outputs": [
    {
     "name": "stdout",
     "output_type": "stream",
     "text": [
      "GEM Mapping Shape: (23947, 3)\n",
      "             icd9_code icd10_code flags\n",
      "0  0010  A000    00000        NaN   NaN\n",
      "1  0011  A001    00000        NaN   NaN\n",
      "2  0019  A009    00000        NaN   NaN\n",
      "3  0020  A0100   10000        NaN   NaN\n",
      "4  0021  A011    00000        NaN   NaN\n",
      "Unique ICD-9 Codes in GEM Mapping: 23947\n"
     ]
    }
   ],
   "source": [
    "print(\"GEM Mapping Shape:\", icd9_to_icd10_gem.shape)\n",
    "print(icd9_to_icd10_gem.head())\n",
    "\n",
    "print(\"Unique ICD-9 Codes in GEM Mapping:\", icd9_to_icd10_gem[\"icd9_code\"].nunique())\n"
   ]
  },
  {
   "cell_type": "code",
   "execution_count": 78,
   "id": "1c582f14-e2f6-4e1d-95a3-62dd795efc67",
   "metadata": {},
   "outputs": [
    {
     "name": "stdout",
     "output_type": "stream",
     "text": [
      "First 5 ICD-9 codes in Diagnoses: []\n",
      "First 5 ICD-9 codes in GEM Mapping: ['0010  A000    00000' '0011  A001    00000' '0019  A009    00000'\n",
      " '0020  A0100   10000' '0021  A011    00000']\n"
     ]
    }
   ],
   "source": [
    "print(\"First 5 ICD-9 codes in Diagnoses:\", icd9_diagnoses[\"icd_code\"].unique()[:5])\n",
    "print(\"First 5 ICD-9 codes in GEM Mapping:\", icd9_to_icd10_gem[\"icd9_code\"].unique()[:5])\n"
   ]
  },
  {
   "cell_type": "code",
   "execution_count": 80,
   "id": "adc69a4b-3814-4b3e-ad7b-1d64d0b13972",
   "metadata": {},
   "outputs": [
    {
     "name": "stdout",
     "output_type": "stream",
     "text": [
      "[ 9 10]\n"
     ]
    }
   ],
   "source": [
    "print(diagnoses[\"icd_version\"].unique())  # Check unique values\n"
   ]
  },
  {
   "cell_type": "code",
   "execution_count": 62,
   "id": "7683b3ee-eacc-4d29-a4f6-0905a61b8329",
   "metadata": {},
   "outputs": [
    {
     "name": "stdout",
     "output_type": "stream",
     "text": [
      "   subject_id   hadm_id icd_code  icd_version\n",
      "0    10000032  22595853     5723            9\n",
      "1    10000032  22595853    78959            9\n",
      "2    10000032  22595853     5715            9\n",
      "3    10000032  22595853    07070            9\n",
      "4    10000032  22595853      496            9\n"
     ]
    }
   ],
   "source": [
    "print(diagnoses.head())"
   ]
  },
  {
   "cell_type": "code",
   "execution_count": 64,
   "id": "17dac989-e3f4-44af-938d-98557b1c623f",
   "metadata": {},
   "outputs": [
    {
     "name": "stdout",
     "output_type": "stream",
     "text": [
      "Empty DataFrame\n",
      "Columns: [subject_id, hadm_id, final_icd_code]\n",
      "Index: []\n"
     ]
    }
   ],
   "source": [
    "print(final_diagnoses.head())"
   ]
  },
  {
   "cell_type": "code",
   "execution_count": 58,
   "id": "5f55de33-af45-46e1-8956-730ed813271b",
   "metadata": {},
   "outputs": [
    {
     "name": "stdout",
     "output_type": "stream",
     "text": [
      "             icd9_code icd10_code flags\n",
      "0  0010  A000    00000        NaN   NaN\n",
      "1  0011  A001    00000        NaN   NaN\n",
      "2  0019  A009    00000        NaN   NaN\n",
      "3  0020  A0100   10000        NaN   NaN\n",
      "4  0021  A011    00000        NaN   NaN\n"
     ]
    },
    {
     "ename": "KeyError",
     "evalue": "\"Column(s) ['final_icd_code'] do not exist\"",
     "output_type": "error",
     "traceback": [
      "\u001b[1;31m---------------------------------------------------------------------------\u001b[0m",
      "\u001b[1;31mKeyError\u001b[0m                                  Traceback (most recent call last)",
      "Cell \u001b[1;32mIn[58], line 56\u001b[0m\n\u001b[0;32m     49\u001b[0m final_diagnoses \u001b[38;5;241m=\u001b[39m pd\u001b[38;5;241m.\u001b[39mconcat([icd10_diagnoses, mapped_icd10], ignore_index\u001b[38;5;241m=\u001b[39m\u001b[38;5;28;01mTrue\u001b[39;00m)\n\u001b[0;32m     51\u001b[0m \u001b[38;5;66;03m# =====================================\u001b[39;00m\n\u001b[0;32m     52\u001b[0m \u001b[38;5;66;03m# 2C. Aggregate Diagnoses Per Admission\u001b[39;00m\n\u001b[0;32m     53\u001b[0m \u001b[38;5;66;03m# ======================================\u001b[39;00m\n\u001b[0;32m     54\u001b[0m \n\u001b[0;32m     55\u001b[0m \u001b[38;5;66;03m# Aggregate diagnoses per admission: count unique diagnoses and collect all codes as a list\u001b[39;00m\n\u001b[1;32m---> 56\u001b[0m diagnosis_counts \u001b[38;5;241m=\u001b[39m diagnoses\u001b[38;5;241m.\u001b[39mgroupby([\u001b[38;5;124m\"\u001b[39m\u001b[38;5;124msubject_id\u001b[39m\u001b[38;5;124m\"\u001b[39m, \u001b[38;5;124m\"\u001b[39m\u001b[38;5;124mhadm_id\u001b[39m\u001b[38;5;124m\"\u001b[39m])\u001b[38;5;241m.\u001b[39magg(\n\u001b[0;32m     57\u001b[0m     num_comorbidities\u001b[38;5;241m=\u001b[39m(\u001b[38;5;124m'\u001b[39m\u001b[38;5;124mfinal_icd_code\u001b[39m\u001b[38;5;124m'\u001b[39m, \u001b[38;5;124m'\u001b[39m\u001b[38;5;124mnunique\u001b[39m\u001b[38;5;124m'\u001b[39m),\n\u001b[0;32m     58\u001b[0m     diagnosis_list\u001b[38;5;241m=\u001b[39m(\u001b[38;5;124m'\u001b[39m\u001b[38;5;124mfinal_icd_code\u001b[39m\u001b[38;5;124m'\u001b[39m, \u001b[38;5;28;01mlambda\u001b[39;00m x: \u001b[38;5;28mlist\u001b[39m(x))\n\u001b[0;32m     59\u001b[0m )\u001b[38;5;241m.\u001b[39mreset_index()\n\u001b[0;32m     60\u001b[0m \u001b[38;5;66;03m# =============================\u001b[39;00m\n\u001b[0;32m     61\u001b[0m \u001b[38;5;66;03m# 2D. Create Key Clinical Flags\u001b[39;00m\n\u001b[0;32m     62\u001b[0m \u001b[38;5;66;03m# =============================\u001b[39;00m\n\u001b[1;32m   (...)\u001b[0m\n\u001b[0;32m     65\u001b[0m \n\u001b[0;32m     66\u001b[0m \u001b[38;5;66;03m# Palliative Care Flag: 1 if any ICD code in the list matches these codes\u001b[39;00m\n\u001b[0;32m     67\u001b[0m palliative_care_codes \u001b[38;5;241m=\u001b[39m [\u001b[38;5;124m\"\u001b[39m\u001b[38;5;124mZ515\u001b[39m\u001b[38;5;124m\"\u001b[39m, \u001b[38;5;124m\"\u001b[39m\u001b[38;5;124mV667\u001b[39m\u001b[38;5;124m\"\u001b[39m]\n",
      "File \u001b[1;32m~\\anaconda3\\Lib\\site-packages\\pandas\\core\\groupby\\generic.py:1432\u001b[0m, in \u001b[0;36mDataFrameGroupBy.aggregate\u001b[1;34m(self, func, engine, engine_kwargs, *args, **kwargs)\u001b[0m\n\u001b[0;32m   1429\u001b[0m     kwargs[\u001b[38;5;124m\"\u001b[39m\u001b[38;5;124mengine_kwargs\u001b[39m\u001b[38;5;124m\"\u001b[39m] \u001b[38;5;241m=\u001b[39m engine_kwargs\n\u001b[0;32m   1431\u001b[0m op \u001b[38;5;241m=\u001b[39m GroupByApply(\u001b[38;5;28mself\u001b[39m, func, args\u001b[38;5;241m=\u001b[39margs, kwargs\u001b[38;5;241m=\u001b[39mkwargs)\n\u001b[1;32m-> 1432\u001b[0m result \u001b[38;5;241m=\u001b[39m op\u001b[38;5;241m.\u001b[39magg()\n\u001b[0;32m   1433\u001b[0m \u001b[38;5;28;01mif\u001b[39;00m \u001b[38;5;129;01mnot\u001b[39;00m is_dict_like(func) \u001b[38;5;129;01mand\u001b[39;00m result \u001b[38;5;129;01mis\u001b[39;00m \u001b[38;5;129;01mnot\u001b[39;00m \u001b[38;5;28;01mNone\u001b[39;00m:\n\u001b[0;32m   1434\u001b[0m     \u001b[38;5;66;03m# GH #52849\u001b[39;00m\n\u001b[0;32m   1435\u001b[0m     \u001b[38;5;28;01mif\u001b[39;00m \u001b[38;5;129;01mnot\u001b[39;00m \u001b[38;5;28mself\u001b[39m\u001b[38;5;241m.\u001b[39mas_index \u001b[38;5;129;01mand\u001b[39;00m is_list_like(func):\n",
      "File \u001b[1;32m~\\anaconda3\\Lib\\site-packages\\pandas\\core\\apply.py:190\u001b[0m, in \u001b[0;36mApply.agg\u001b[1;34m(self)\u001b[0m\n\u001b[0;32m    187\u001b[0m     \u001b[38;5;28;01mreturn\u001b[39;00m \u001b[38;5;28mself\u001b[39m\u001b[38;5;241m.\u001b[39mapply_str()\n\u001b[0;32m    189\u001b[0m \u001b[38;5;28;01mif\u001b[39;00m is_dict_like(func):\n\u001b[1;32m--> 190\u001b[0m     \u001b[38;5;28;01mreturn\u001b[39;00m \u001b[38;5;28mself\u001b[39m\u001b[38;5;241m.\u001b[39magg_dict_like()\n\u001b[0;32m    191\u001b[0m \u001b[38;5;28;01melif\u001b[39;00m is_list_like(func):\n\u001b[0;32m    192\u001b[0m     \u001b[38;5;66;03m# we require a list, but not a 'str'\u001b[39;00m\n\u001b[0;32m    193\u001b[0m     \u001b[38;5;28;01mreturn\u001b[39;00m \u001b[38;5;28mself\u001b[39m\u001b[38;5;241m.\u001b[39magg_list_like()\n",
      "File \u001b[1;32m~\\anaconda3\\Lib\\site-packages\\pandas\\core\\apply.py:423\u001b[0m, in \u001b[0;36mApply.agg_dict_like\u001b[1;34m(self)\u001b[0m\n\u001b[0;32m    415\u001b[0m \u001b[38;5;28;01mdef\u001b[39;00m \u001b[38;5;21magg_dict_like\u001b[39m(\u001b[38;5;28mself\u001b[39m) \u001b[38;5;241m-\u001b[39m\u001b[38;5;241m>\u001b[39m DataFrame \u001b[38;5;241m|\u001b[39m Series:\n\u001b[0;32m    416\u001b[0m \u001b[38;5;250m    \u001b[39m\u001b[38;5;124;03m\"\"\"\u001b[39;00m\n\u001b[0;32m    417\u001b[0m \u001b[38;5;124;03m    Compute aggregation in the case of a dict-like argument.\u001b[39;00m\n\u001b[0;32m    418\u001b[0m \n\u001b[1;32m   (...)\u001b[0m\n\u001b[0;32m    421\u001b[0m \u001b[38;5;124;03m    Result of aggregation.\u001b[39;00m\n\u001b[0;32m    422\u001b[0m \u001b[38;5;124;03m    \"\"\"\u001b[39;00m\n\u001b[1;32m--> 423\u001b[0m     \u001b[38;5;28;01mreturn\u001b[39;00m \u001b[38;5;28mself\u001b[39m\u001b[38;5;241m.\u001b[39magg_or_apply_dict_like(op_name\u001b[38;5;241m=\u001b[39m\u001b[38;5;124m\"\u001b[39m\u001b[38;5;124magg\u001b[39m\u001b[38;5;124m\"\u001b[39m)\n",
      "File \u001b[1;32m~\\anaconda3\\Lib\\site-packages\\pandas\\core\\apply.py:1608\u001b[0m, in \u001b[0;36mGroupByApply.agg_or_apply_dict_like\u001b[1;34m(self, op_name)\u001b[0m\n\u001b[0;32m   1603\u001b[0m     kwargs\u001b[38;5;241m.\u001b[39mupdate({\u001b[38;5;124m\"\u001b[39m\u001b[38;5;124mengine\u001b[39m\u001b[38;5;124m\"\u001b[39m: engine, \u001b[38;5;124m\"\u001b[39m\u001b[38;5;124mengine_kwargs\u001b[39m\u001b[38;5;124m\"\u001b[39m: engine_kwargs})\n\u001b[0;32m   1605\u001b[0m \u001b[38;5;28;01mwith\u001b[39;00m com\u001b[38;5;241m.\u001b[39mtemp_setattr(\n\u001b[0;32m   1606\u001b[0m     obj, \u001b[38;5;124m\"\u001b[39m\u001b[38;5;124mas_index\u001b[39m\u001b[38;5;124m\"\u001b[39m, \u001b[38;5;28;01mTrue\u001b[39;00m, condition\u001b[38;5;241m=\u001b[39m\u001b[38;5;28mhasattr\u001b[39m(obj, \u001b[38;5;124m\"\u001b[39m\u001b[38;5;124mas_index\u001b[39m\u001b[38;5;124m\"\u001b[39m)\n\u001b[0;32m   1607\u001b[0m ):\n\u001b[1;32m-> 1608\u001b[0m     result_index, result_data \u001b[38;5;241m=\u001b[39m \u001b[38;5;28mself\u001b[39m\u001b[38;5;241m.\u001b[39mcompute_dict_like(\n\u001b[0;32m   1609\u001b[0m         op_name, selected_obj, selection, kwargs\n\u001b[0;32m   1610\u001b[0m     )\n\u001b[0;32m   1611\u001b[0m result \u001b[38;5;241m=\u001b[39m \u001b[38;5;28mself\u001b[39m\u001b[38;5;241m.\u001b[39mwrap_results_dict_like(selected_obj, result_index, result_data)\n\u001b[0;32m   1612\u001b[0m \u001b[38;5;28;01mreturn\u001b[39;00m result\n",
      "File \u001b[1;32m~\\anaconda3\\Lib\\site-packages\\pandas\\core\\apply.py:462\u001b[0m, in \u001b[0;36mApply.compute_dict_like\u001b[1;34m(self, op_name, selected_obj, selection, kwargs)\u001b[0m\n\u001b[0;32m    460\u001b[0m is_groupby \u001b[38;5;241m=\u001b[39m \u001b[38;5;28misinstance\u001b[39m(obj, (DataFrameGroupBy, SeriesGroupBy))\n\u001b[0;32m    461\u001b[0m func \u001b[38;5;241m=\u001b[39m cast(AggFuncTypeDict, \u001b[38;5;28mself\u001b[39m\u001b[38;5;241m.\u001b[39mfunc)\n\u001b[1;32m--> 462\u001b[0m func \u001b[38;5;241m=\u001b[39m \u001b[38;5;28mself\u001b[39m\u001b[38;5;241m.\u001b[39mnormalize_dictlike_arg(op_name, selected_obj, func)\n\u001b[0;32m    464\u001b[0m is_non_unique_col \u001b[38;5;241m=\u001b[39m (\n\u001b[0;32m    465\u001b[0m     selected_obj\u001b[38;5;241m.\u001b[39mndim \u001b[38;5;241m==\u001b[39m \u001b[38;5;241m2\u001b[39m\n\u001b[0;32m    466\u001b[0m     \u001b[38;5;129;01mand\u001b[39;00m selected_obj\u001b[38;5;241m.\u001b[39mcolumns\u001b[38;5;241m.\u001b[39mnunique() \u001b[38;5;241m<\u001b[39m \u001b[38;5;28mlen\u001b[39m(selected_obj\u001b[38;5;241m.\u001b[39mcolumns)\n\u001b[0;32m    467\u001b[0m )\n\u001b[0;32m    469\u001b[0m \u001b[38;5;28;01mif\u001b[39;00m selected_obj\u001b[38;5;241m.\u001b[39mndim \u001b[38;5;241m==\u001b[39m \u001b[38;5;241m1\u001b[39m:\n\u001b[0;32m    470\u001b[0m     \u001b[38;5;66;03m# key only used for output\u001b[39;00m\n",
      "File \u001b[1;32m~\\anaconda3\\Lib\\site-packages\\pandas\\core\\apply.py:663\u001b[0m, in \u001b[0;36mApply.normalize_dictlike_arg\u001b[1;34m(self, how, obj, func)\u001b[0m\n\u001b[0;32m    661\u001b[0m     cols \u001b[38;5;241m=\u001b[39m Index(\u001b[38;5;28mlist\u001b[39m(func\u001b[38;5;241m.\u001b[39mkeys()))\u001b[38;5;241m.\u001b[39mdifference(obj\u001b[38;5;241m.\u001b[39mcolumns, sort\u001b[38;5;241m=\u001b[39m\u001b[38;5;28;01mTrue\u001b[39;00m)\n\u001b[0;32m    662\u001b[0m     \u001b[38;5;28;01mif\u001b[39;00m \u001b[38;5;28mlen\u001b[39m(cols) \u001b[38;5;241m>\u001b[39m \u001b[38;5;241m0\u001b[39m:\n\u001b[1;32m--> 663\u001b[0m         \u001b[38;5;28;01mraise\u001b[39;00m \u001b[38;5;167;01mKeyError\u001b[39;00m(\u001b[38;5;124mf\u001b[39m\u001b[38;5;124m\"\u001b[39m\u001b[38;5;124mColumn(s) \u001b[39m\u001b[38;5;132;01m{\u001b[39;00m\u001b[38;5;28mlist\u001b[39m(cols)\u001b[38;5;132;01m}\u001b[39;00m\u001b[38;5;124m do not exist\u001b[39m\u001b[38;5;124m\"\u001b[39m)\n\u001b[0;32m    665\u001b[0m aggregator_types \u001b[38;5;241m=\u001b[39m (\u001b[38;5;28mlist\u001b[39m, \u001b[38;5;28mtuple\u001b[39m, \u001b[38;5;28mdict\u001b[39m)\n\u001b[0;32m    667\u001b[0m \u001b[38;5;66;03m# if we have a dict of any non-scalars\u001b[39;00m\n\u001b[0;32m    668\u001b[0m \u001b[38;5;66;03m# eg. {'A' : ['mean']}, normalize all to\u001b[39;00m\n\u001b[0;32m    669\u001b[0m \u001b[38;5;66;03m# be list-likes\u001b[39;00m\n\u001b[0;32m    670\u001b[0m \u001b[38;5;66;03m# Cannot use func.values() because arg may be a Series\u001b[39;00m\n",
      "\u001b[1;31mKeyError\u001b[0m: \"Column(s) ['final_icd_code'] do not exist\""
     ]
    }
   ],
   "source": [
    "\n",
    "\n",
    "# =====================================\n",
    "# 2C. Aggregate Diagnoses Per Admission\n",
    "# ======================================\n",
    "\n",
    "# Aggregate diagnoses per admission: count unique diagnoses and collect all codes as a list\n",
    "diagnosis_counts = diagnoses.groupby([\"subject_id\", \"hadm_id\"]).agg(\n",
    "    num_comorbidities=('final_icd_code', 'nunique'),\n",
    "    diagnosis_list=('final_icd_code', lambda x: list(x))\n",
    ").reset_index()\n",
    "# =============================\n",
    "# 2D. Create Key Clinical Flags\n",
    "# =============================\n",
    "# Create key clinical flags based on diagnosis_list\n",
    "# (These lambda functions operate on the aggregated list for each admission.)\n",
    "\n",
    "# Palliative Care Flag: 1 if any ICD code in the list matches these codes\n",
    "palliative_care_codes = [\"Z515\", \"V667\"]\n",
    "diagnosis_counts[\"palliative_care_flag\"] = diagnosis_counts[\"diagnosis_list\"].apply(\n",
    "    lambda x: 1 if any(code in palliative_care_codes for code in x) else 0\n",
    ")\n",
    "\n",
    "# Cognitive Impairment Flag: 1 if any code is in the specified list (ensure codes are strings)\n",
    "cognitive_impairment_codes = [\n",
    "    \"G30\", \"G300\", \"G301\", \"G308\", \"G309\",   # Alzheimer's\n",
    "    \"F0150\", \"F0151\", \"F01.A0\", \"F01A1\", \"F01B0\", \"F01B1\", \"F01C0\", \"F01C1\",  # Vascular Dementia\n",
    "    \"F0280\", \"F0281\",                         # Dementia in other diseases\n",
    "    \"F03\", \"F0390\", \"F0391\",                   # Unspecified Dementia\n",
    "    \"G31\", \"G3184\"                            # Mild Cognitive Impairment\n",
    "]\n",
    "diagnosis_counts[\"cognitive_impairment_flag\"] = diagnosis_counts[\"diagnosis_list\"].apply(\n",
    "    lambda x: 1 if any(str(code) in cognitive_impairment_codes for code in x) else 0\n",
    ")\n",
    "\n",
    "# Delirium Flag: 1 if any code in the list matches these ICD codes\n",
    "delirium_icd_codes = [\"F05\", \"2930\", \"2931\", \"F051\", \"F050\", \"F059\"]\n",
    "diagnosis_counts[\"delirium\"] = diagnosis_counts[\"diagnosis_list\"].apply(\n",
    "    lambda x: 1 if isinstance(x, list) and any(code in delirium_icd_codes for code in x) else 0\n",
    ")"
   ]
  },
  {
   "cell_type": "code",
   "execution_count": null,
   "id": "3175d397-f518-4062-94d0-f5c0125403de",
   "metadata": {},
   "outputs": [],
   "source": [
    "# =============================\n",
    "# 6. Save Final Dataset\n",
    "# =============================\n",
    "import ace_tools as tools\n",
    "tools.display_dataframe_to_user(name=\"Final Diagnosis Data with ICD Mapping\", dataframe=diagnosis_counts)"
   ]
  },
  {
   "cell_type": "code",
   "execution_count": 9,
   "id": "fa0ea364-1e7f-4463-a12d-4680def96764",
   "metadata": {},
   "outputs": [
    {
     "name": "stdout",
     "output_type": "stream",
     "text": [
      "   subject_id   hadm_id  num_comorbidities  \\\n",
      "0    10000032  22595853                  8   \n",
      "1    10000032  22841357                  8   \n",
      "2    10000032  25742920                 10   \n",
      "3    10000032  29079034                 13   \n",
      "4    10000068  25022803                  1   \n",
      "\n",
      "                                      diagnosis_list  palliative_care_flag  \\\n",
      "0  [5723, 78959, 5715, 07070, 496, 29680, 30981, ...                     0   \n",
      "1   [07071, 78959, 2875, 2761, 496, 5715, V08, 3051]                     0   \n",
      "2  [07054, 78959, V462, 5715, 2767, 2761, 496, V0...                     0   \n",
      "3  [45829, 07044, 7994, 2761, 78959, 2767, 3051, ...                     0   \n",
      "4                                            [30500]                     0   \n",
      "\n",
      "   cognitive_impairment_flag  delirium  \n",
      "0                          0         0  \n",
      "1                          0         0  \n",
      "2                          0         0  \n",
      "3                          0         0  \n",
      "4                          0         0  \n"
     ]
    }
   ],
   "source": [
    "print(diagnosis_counts.head())"
   ]
  },
  {
   "cell_type": "code",
   "execution_count": 21,
   "id": "9401e459-e357-4875-a11f-69d9181abcbc",
   "metadata": {},
   "outputs": [
    {
     "name": "stdout",
     "output_type": "stream",
     "text": [
      "ICU pivot shape: (85242, 31)\n",
      "itemid  subject_id   hadm_id  220045  220052  220120  220210  220224  220228  \\\n",
      "0         10000032  29079034    91.0     NaN     NaN    24.0     NaN     NaN   \n",
      "1         10000690  25860671    79.0     NaN     NaN    23.0   123.0     9.5   \n",
      "2         10000980  26913865    77.0     NaN     NaN    23.0     NaN     NaN   \n",
      "3         10001217  24597018    86.0     NaN     NaN    18.0     NaN    11.2   \n",
      "4         10001217  27703517    96.0     NaN     NaN    11.0     NaN    12.3   \n",
      "\n",
      "itemid  220235  220277  ...  223849  223900  223901  224828  225624  225668  \\\n",
      "0          NaN    98.0  ...     NaN     4.0     6.0     NaN    33.0     NaN   \n",
      "1         54.0   100.0  ...     NaN     5.0     6.0     0.0    21.0     NaN   \n",
      "2          NaN   100.0  ...    11.0     5.0     6.0     NaN     NaN     1.7   \n",
      "3          NaN    99.0  ...     NaN     5.0     6.0     NaN     9.0     NaN   \n",
      "4          NaN   100.0  ...     NaN     5.0     6.0     NaN    10.0     NaN   \n",
      "\n",
      "itemid  227442  227443  227457  228096  \n",
      "0          4.7    21.0     NaN     1.0  \n",
      "1          4.4    26.0   199.0     NaN  \n",
      "2          NaN     NaN     NaN     0.0  \n",
      "3          3.6    23.0   285.0    -1.0  \n",
      "4          4.3    24.0   299.0     0.0  \n",
      "\n",
      "[5 rows x 31 columns]\n"
     ]
    }
   ],
   "source": [
    "# # =============================\n",
    "# 3. Load and Aggregate ICU Data\n",
    "# =============================\n",
    "# Load ICU stays and aggregate: keep the first ICU stay per admission.\n",
    "icustays = pd.read_csv(\n",
    "    os.path.join(data_path, \"icu/icustays.csv.gz\"),\n",
    "    usecols=[\"subject_id\", \"hadm_id\", \"stay_id\", \"last_careunit\", \"los\"],\n",
    "    low_memory=False\n",
    ")\n",
    "icustays_agg = icustays.sort_values([\"subject_id\", \"hadm_id\", \"stay_id\"]).groupby(\n",
    "    [\"subject_id\", \"hadm_id\"]\n",
    ").first().reset_index()\n",
    "\n",
    "# Count total ICU stays per patient (for history)\n",
    "icu_history = icustays.groupby(\"subject_id\")[\"stay_id\"].count().reset_index()\n",
    "icu_history.rename(columns={\"stay_id\": \"prior_icu_admissions\"}, inplace=True)\n",
    "\n",
    "# ---- ICU Chartevents: Process only a subset of items ----\n",
    "chunksize = 200000\n",
    "icu_item_ids = [\n",
    "    # 1. Physiological Parameters\n",
    "    \"220045\",  # Heart Rate\n",
    "    \"220052\",  # Mean Arterial Blood Pressure\n",
    "    \"220210\",  # Respiratory Rate\n",
    "    \"220277\",  # Oxygen Saturation (pulseoxymetry)\n",
    "    \"223761\",  # Temperature Fahrenheit\n",
    "    \"220739\",  # GCS – Eye Opening\n",
    "    \"223900\",  # GCS – Verbal Response\n",
    "    \"223901\",  # GCS – Motor Response\n",
    "    \"228096\",  # Richmond-RAS Scale\n",
    "\n",
    "    # 2. Laboratory Results\n",
    "    \"220546\",  # WBC\n",
    "    \"220228\",  # Hemoglobin\n",
    "    \"227457\",  # Platelet Count\n",
    "    \"220645\",  # Sodium (serum)\n",
    "    \"227442\",  # Potassium (serum)\n",
    "    \"220602\",  # Chloride (serum)\n",
    "    \"227443\",  # HCO3 (serum)\n",
    "    \"225624\",  # BUN\n",
    "    \"220615\",  # Creatinine (serum)\n",
    "    \"220621\",  # Glucose (serum)\n",
    "    \"225668\",  # Lactic Acid\n",
    "    \"223830\",  # pH (Arterial)\n",
    "    \"220224\",  # Arterial O2 pressure (PaO2)\n",
    "    \"220235\",  # Arterial CO2 pressure (PaCO2)\n",
    "    \"224828\",  # Arterial Base Excess # 3. Intervention-Based Variables\n",
    "    # 3. Intervention-Based Variables\n",
    "    \"223849\",  # Ventilator Mode\n",
    "    \"223836\",  # Airway Type\n",
    "    \"223835\",  # Inspired O2 Fraction (FiO2)\n",
    "    \"220339\",  # PEEP set\n",
    "    \"227210\",  # Propofol (Intubation)\n",
    "    \"227211\",  # Ketamine (Intubation)\n",
    "    \"227213\",  # Vecuronium (Intubation)\n",
    "    \"220120\"   # Intra-Aortic Balloon Pump (IABP)\n",
    "]\n",
    "\n",
    "chart_file = os.path.join(data_path, \"icu/chartevents.csv.gz\")\n",
    "chart_chunks = []\n",
    "for chunk in pd.read_csv(\n",
    "    chart_file,\n",
    "    usecols=[\"subject_id\", \"hadm_id\", \"stay_id\", \"itemid\", \"charttime\", \"valuenum\"],\n",
    "    chunksize=chunksize,\n",
    "    low_memory=True\n",
    "):\n",
    "    # Filter: convert itemid to string and keep only our subset\n",
    "    chunk = chunk[chunk[\"itemid\"].astype(str).isin(icu_item_ids)]\n",
    "    chart_chunks.append(chunk)\n",
    "icu_chartevents = pd.concat(chart_chunks, ignore_index=True)\n",
    "icu_chartevents.sort_values([\"subject_id\", \"hadm_id\", \"charttime\"], inplace=True)\n",
    "icu_first = icu_chartevents.groupby([\"subject_id\", \"hadm_id\", \"itemid\"]).first().reset_index()\n",
    "\n",
    "# Pivot so that each admission is one row with a column per itemid\n",
    "icu_pivot = icu_first.pivot(\n",
    "    index=[\"subject_id\", \"hadm_id\"],\n",
    "    columns=\"itemid\",\n",
    "    values=\"valuenum\"\n",
    ").reset_index()\n",
    "\n",
    "# (Optional) You may later rename these columns using a mapping if desired.\n",
    "print(\"ICU pivot shape:\", icu_pivot.shape)\n",
    "print(icu_pivot.head())"
   ]
  },
  {
   "cell_type": "code",
   "execution_count": 34,
   "id": "5ded3268-f1b9-4735-aac6-e067de67b775",
   "metadata": {},
   "outputs": [],
   "source": [
    "id_to_label = {\n",
    "    220045: \"heart_rate\",      # Heart Rate\n",
    "    220052: \"map\",             # Mean Arterial Blood Pressure\n",
    "    220210: \"resp_rate\",       # Respiratory Rate\n",
    "    220277: \"spo2\",            # Oxygen Saturation\n",
    "    223761: \"temp\",            # Temperature Fahrenheit\n",
    "    220739: \"gcs_eye\",         # GCS – Eye Opening\n",
    "    223900: \"gcs_verbal\",      # GCS – Verbal Response\n",
    "    223901: \"gcs_motor\",       # GCS – Motor Response\n",
    "    228096: \"ras_scale\",       # Richmond-RAS Scale\n",
    "    220546: \"wbc\",             # White Blood Cell Count\n",
    "    220228: \"hb\",              # Hemoglobin\n",
    "    227457: \"plt\",             # Platelet Count\n",
    "    220645: \"sodium\",          # Sodium (serum)\n",
    "    227442: \"potassium\",       # Potassium (serum)\n",
    "    220602: \"chloride\",        # Chloride (serum)\n",
    "    227443: \"hco3\",            # HCO3 (serum)\n",
    "    225624: \"bun\",             # BUN\n",
    "    220615: \"creatinine\",      # Creatinine (serum)\n",
    "    220621: \"glucose\",         # Glucose (serum)\n",
    "    225668: \"lactate\",         # Lactic Acid\n",
    "    223830: \"ph\",              # pH (Arterial)\n",
    "    220224: \"pao2\",            # Arterial O2 pressure (PaO₂)\n",
    "    220235: \"paco2\",           # Arterial CO₂ pressure (PaCO₂)\n",
    "    224828: \"base_excess\",     # Arterial Base Excess\n",
    "    223849: \"vent_mode\",       # Ventilator Mode\n",
    "    223836: \"airway\",          # Airway Type\n",
    "    223835: \"fio2\",            # Inspired O₂ Fraction (FiO₂)\n",
    "    220339: \"peep\",            # PEEP set\n",
    "    227210: \"propofol\",        # Propofol (Intubation)\n",
    "    227211: \"ketamine\",        # Ketamine (Intubation)\n",
    "    227213: \"vecuronium\",      # Vecuronium (Intubation)\n",
    "    220120: \"iabp\"             # Intra-Aortic Balloon Pump (IABP)\n",
    "}\n",
    "\n",
    "icu_pivot.rename(columns=lambda col: \"icu_\" + id_to_label[col]\n",
    "                                  if col not in [\"subject_id\", \"hadm_id\"] and col in id_to_label\n",
    "                                  else col,\n",
    "                 inplace=True)\n",
    "\n"
   ]
  },
  {
   "cell_type": "code",
   "execution_count": 36,
   "id": "1c411b4a-80f5-4399-9015-3d71fd21d74c",
   "metadata": {},
   "outputs": [
    {
     "name": "stdout",
     "output_type": "stream",
     "text": [
      "ICU pivot shape: (85242, 31)\n",
      "itemid  subject_id   hadm_id  icu_heart_rate  icu_map  icu_iabp  \\\n",
      "0         10000032  29079034            91.0      NaN       NaN   \n",
      "1         10000690  25860671            79.0      NaN       NaN   \n",
      "2         10000980  26913865            77.0      NaN       NaN   \n",
      "3         10001217  24597018            86.0      NaN       NaN   \n",
      "4         10001217  27703517            96.0      NaN       NaN   \n",
      "\n",
      "itemid  icu_resp_rate  icu_pao2  icu_hb  icu_paco2  icu_spo2  ...  \\\n",
      "0                24.0       NaN     NaN        NaN      98.0  ...   \n",
      "1                23.0     123.0     9.5       54.0     100.0  ...   \n",
      "2                23.0       NaN     NaN        NaN     100.0  ...   \n",
      "3                18.0       NaN    11.2        NaN      99.0  ...   \n",
      "4                11.0       NaN    12.3        NaN     100.0  ...   \n",
      "\n",
      "itemid  icu_vent_mode  icu_gcs_verbal  icu_gcs_motor  icu_base_excess  \\\n",
      "0                 NaN             4.0            6.0              NaN   \n",
      "1                 NaN             5.0            6.0              0.0   \n",
      "2                11.0             5.0            6.0              NaN   \n",
      "3                 NaN             5.0            6.0              NaN   \n",
      "4                 NaN             5.0            6.0              NaN   \n",
      "\n",
      "itemid  icu_bun  icu_lactate  icu_potassium  icu_hco3  icu_plt  icu_ras_scale  \n",
      "0          33.0          NaN            4.7      21.0      NaN            1.0  \n",
      "1          21.0          NaN            4.4      26.0    199.0            NaN  \n",
      "2           NaN          1.7            NaN       NaN      NaN            0.0  \n",
      "3           9.0          NaN            3.6      23.0    285.0           -1.0  \n",
      "4          10.0          NaN            4.3      24.0    299.0            0.0  \n",
      "\n",
      "[5 rows x 31 columns]\n"
     ]
    }
   ],
   "source": [
    "print(\"ICU pivot shape:\", icu_pivot.shape)\n",
    "print(icu_pivot.head())"
   ]
  },
  {
   "cell_type": "code",
   "execution_count": 22,
   "id": "c11aa5cb-dc34-44b3-8a05-0f7e1a7008a8",
   "metadata": {},
   "outputs": [],
   "source": [
    "# =============================\n",
    "# 4. Load and Process Lab Data\n",
    "# =============================\n",
    "lab_ids = [\n",
    "    \"51300\",  # WBC Count\n",
    "    \"51111\",  # Hemoglobin\n",
    "    \"51265\",  # Platelet Count\n",
    "    \"52623\",  # Sodium\n",
    "    \"52610\",  # Potassium\n",
    "    \"52535\",  # Chloride\n",
    "    \"51739\",  # Total CO2 (as surrogate for bicarbonate)\n",
    "    \"52569\",  # Glucose\n",
    "    \"52647\",  # BUN\n",
    "    \"52546\",  # Creatinine\n",
    "    \"53084\",  # ALT\n",
    "    \"53088\",  # AST\n",
    "    \"53086\",  # Alkaline Phosphatase\n",
    "    \"53089\",  # Total Bilirubin\n",
    "    \"50889\",  # CRP\n",
    "    \"50862\"   # Albumin\n",
    "]\n",
    "lab_chunks = []\n",
    "lab_file = os.path.join(data_path, \"hosp/labevents.csv.gz\")\n",
    "for chunk in pd.read_csv(\n",
    "    lab_file,\n",
    "    usecols=[\"subject_id\", \"hadm_id\", \"itemid\", \"charttime\", \"valuenum\"],\n",
    "    chunksize=200000,\n",
    "    low_memory=False\n",
    "):\n",
    "    # Filter for desired lab tests (cast itemid to string for safe comparison)\n",
    "    chunk = chunk[chunk[\"itemid\"].astype(str).isin(lab_ids)]\n",
    "    lab_chunks.append(chunk)\n",
    "lab_events = pd.concat(lab_chunks, ignore_index=True)\n",
    "lab_events.sort_values([\"subject_id\", \"hadm_id\", \"charttime\"], inplace=True)\n",
    "# Keep only the first recorded value for each lab test per admission\n",
    "lab_first = lab_events.groupby([\"subject_id\", \"hadm_id\", \"itemid\"]).first().reset_index()\n",
    "lab_pivot = lab_first.pivot(\n",
    "    index=[\"subject_id\", \"hadm_id\"],\n",
    "    columns=\"itemid\",\n",
    "    values=\"valuenum\"\n",
    ").reset_index()\n",
    "# Rename lab columns using a mapping for clarity\n",
    "lab_pivot.rename(columns={\n",
    "    50862: \"LabH_Alb\",\n",
    "    50889: \"LabH_CRP\",\n",
    "    51111: \"LabH_Hb\",\n",
    "    51265: \"LabH_Plt\",\n",
    "    51300: \"LabH_WBC\"\n",
    "}, inplace=True)\n"
   ]
  },
  {
   "cell_type": "code",
   "execution_count": null,
   "id": "0a588def-a3eb-4cd1-8aae-09aa3fd1a373",
   "metadata": {},
   "outputs": [],
   "source": [
    "print(lab_pivot.head())"
   ]
  },
  {
   "cell_type": "code",
   "execution_count": 23,
   "id": "c6ac1d53-6e56-4f90-897b-775f423ed981",
   "metadata": {},
   "outputs": [],
   "source": [
    "# =============================\n",
    "# 5. Load and Aggregate Prescriptions (High-Risk Medications & Drug List)\n",
    "# =============================\n",
    "prescriptions = pd.read_csv(\n",
    "    os.path.join(data_path, \"hosp/prescriptions.csv.gz\"),\n",
    "    usecols=[\"subject_id\", \"hadm_id\", \"drug\"],\n",
    "    low_memory=False\n",
    ")\n",
    "# Standardize drug names\n",
    "prescriptions[\"drug\"] = prescriptions[\"drug\"].astype(str).str.lower().str.strip()\n",
    "\n",
    "# Aggregate all prescribed drugs per admission\n",
    "all_drugs = prescriptions.groupby([\"subject_id\", \"hadm_id\"])[\"drug\"].agg(list).reset_index()\n",
    "\n",
    "# Define expanded high-risk medications list (based on literature)\n",
    "high_risk_meds = [\n",
    "    \"lorazepam\", \"midazolam\", \"diazepam\", \"clonazepam\", \"alprazolam\", \"temazepam\", \"chlordiazepoxide\",\n",
    "    \"morphine\", \"fentanyl\", \"hydromorphone\", \"oxycodone\", \"meperidine\", \"codeine\", \"tramadol\", \"buprenorphine\",\n",
    "    \"propofol\", \"dexmedetomidine\",\n",
    "    \"haloperidol\", \"olanzapine\", \"quetiapine\", \"risperidone\", \"ziprasidone\", \"chlorpromazine\", \"aripiprazole\",\n",
    "    \"diphenhydramine\", \"hydroxyzine\", \"promethazine\", \"oxybutynin\", \"scopolamine\", \"benztropine\", \"atropine\",\n",
    "    \"dexamethasone\", \"prednisone\", \"methylprednisolone\", \"hydrocortisone\",\n",
    "    \"metoclopramide\", \"cyclobenzaprine\", \"baclofen\", \"amantadine\"\n",
    "]\n",
    "prescriptions[\"high_risk_med\"] = prescriptions[\"drug\"].apply(\n",
    "    lambda x: 1 if any(med in x for med in high_risk_meds) else 0\n",
    ")\n",
    "# Compute per-admission metrics:\n",
    "unique_high_risk_med = prescriptions[prescriptions[\"high_risk_med\"] == 1].groupby(\n",
    "    [\"subject_id\", \"hadm_id\"]\n",
    ")[\"drug\"].nunique().reset_index(name=\"unique_high_risk_med\")\n",
    "high_risk_med_count = prescriptions.groupby(\n",
    "    [\"subject_id\", \"hadm_id\"]\n",
    ")[\"high_risk_med\"].sum().reset_index(name=\"high_risk_med_count\")\n",
    "high_risk_med_flag = prescriptions.groupby(\n",
    "    [\"subject_id\", \"hadm_id\"]\n",
    ")[\"high_risk_med\"].max().reset_index(name=\"high_risk_med_flag\")\n",
    "high_risk_med_summary = high_risk_med_flag.merge(\n",
    "    unique_high_risk_med, on=[\"subject_id\", \"hadm_id\"], how=\"left\"\n",
    ").merge(high_risk_med_count, on=[\"subject_id\", \"hadm_id\"], how=\"left\")\n",
    "high_risk_med_summary[\"unique_high_risk_med\"] = high_risk_med_summary[\"unique_high_risk_med\"].fillna(0).astype(int)\n"
   ]
  },
  {
   "cell_type": "code",
   "execution_count": 38,
   "id": "49e817b1-e974-4ec4-a87e-29d18c01c66c",
   "metadata": {},
   "outputs": [],
   "source": [
    "# Create an empty DataFrame with the key columns\n",
    "core_data = pd.DataFrame(columns=[\"subject_id\", \"hadm_id\"])"
   ]
  },
  {
   "cell_type": "code",
   "execution_count": 40,
   "id": "4066f434-813c-41b0-8c9b-935ba8ac44d3",
   "metadata": {},
   "outputs": [],
   "source": [
    "# =============================\n",
    "# 6. Merge All Components into a Final Core Dataset\n",
    "# =============================\n",
    "\n",
    "# Start with admissions merged with patients (ensuring one row per admission)\n",
    "core_data = admissions.merge(patients, on=\"subject_id\", how=\"inner\")\n",
    "\n",
    "# Merge aggregated diagnosis_counts (one row per admission)\n",
    "core_data = core_data.merge(\n",
    "    diagnosis_counts[[\"subject_id\", \"hadm_id\", \"palliative_care_flag\", \"delirium\", \"cognitive_impairment_flag\", \"num_comorbidities\"]],\n",
    "    on=[\"subject_id\", \"hadm_id\"],\n",
    "    how=\"left\"\n",
    ")\n",
    "# Fill missing flag values with 0 and convert to integer\n",
    "core_data[\"palliative_care_flag\"] = core_data[\"palliative_care_flag\"].fillna(0).astype(int)\n",
    "core_data[\"delirium\"] = core_data[\"delirium\"].fillna(0).astype(int)\n",
    "core_data[\"cognitive_impairment_flag\"] = core_data[\"cognitive_impairment_flag\"].fillna(0).astype(int)\n",
    "\n",
    "# (Optional) Avoid merging raw diagnoses to prevent duplication\n",
    "# core_data = core_data.merge(diagnoses, on=[\"subject_id\", \"hadm_id\"], how=\"left\")\n",
    "\n",
    "# Merge aggregated ICU stays (first ICU stay per admission)\n",
    "core_data = core_data.merge(icustays_agg, on=[\"subject_id\", \"hadm_id\"], how=\"left\")\n",
    "\n",
    "# Merge ICU history (number of ICU stays per patient)\n",
    "core_data = core_data.merge(icu_history, on=\"subject_id\", how=\"left\")\n",
    "\n",
    "# Merge aggregated ICU vitals (icu_pivot)\n",
    "core_data = core_data.merge(icu_pivot, on=[\"subject_id\", \"hadm_id\"], how=\"left\")\n",
    "\n",
    "# Merge high-risk medication summary and the full drug list (all_drugs)\n",
    "core_data = core_data.merge(high_risk_med_summary, on=[\"subject_id\", \"hadm_id\"], how=\"left\")\n",
    "core_data = core_data.merge(all_drugs, on=[\"subject_id\", \"hadm_id\"], how=\"left\")\n",
    "\n",
    "# Merge aggregated lab results (lab_pivot)\n",
    "core_data = core_data.merge(lab_pivot, on=[\"subject_id\", \"hadm_id\"], how=\"left\")\n",
    "\n",
    "# Fill any remaining missing numeric fields\n",
    "core_data[\"num_comorbidities\"] = core_data[\"num_comorbidities\"].fillna(0).astype(int)\n",
    "core_data[\"prior_icu_admissions\"] = core_data[\"prior_icu_admissions\"].fillna(0).astype(int)\n"
   ]
  },
  {
   "cell_type": "code",
   "execution_count": 42,
   "id": "fad1145a-093c-4118-9bcd-6b7d06b3d942",
   "metadata": {},
   "outputs": [
    {
     "name": "stdout",
     "output_type": "stream",
     "text": [
      "🔍 Number of Unique Patients: 223452\n",
      "🔍 Total Rows in Dataset: 546028\n",
      "🔍 Distribution of Patient Admissions:\n",
      "count    223452.000000\n",
      "mean          2.443603\n",
      "std           3.574410\n",
      "min           1.000000\n",
      "25%           1.000000\n",
      "50%           1.000000\n",
      "75%           3.000000\n",
      "max         238.000000\n",
      "Name: count, dtype: float64\n"
     ]
    }
   ],
   "source": [
    "#Linkage Data Quality \n",
    "df=core_data\n",
    "#Count occurrences of each patient (subject_id)\n",
    "patient_counts = df[\"subject_id\"].value_counts()\n",
    "\n",
    "# Display summary\n",
    "print(\"🔍 Number of Unique Patients:\", df[\"subject_id\"].nunique())\n",
    "print(\"🔍 Total Rows in Dataset:\", df.shape[0])\n",
    "print(\"🔍 Distribution of Patient Admissions:\")\n",
    "print(patient_counts.describe())  # Summary statistics for occurrences"
   ]
  },
  {
   "cell_type": "code",
   "execution_count": 48,
   "id": "c526e429-50e3-4d30-bf70-93f6d842eeba",
   "metadata": {},
   "outputs": [
    {
     "name": "stdout",
     "output_type": "stream",
     "text": [
      "0\n"
     ]
    }
   ],
   "source": [
    "#test any merge issues\n",
    "print(diagnosis_counts.duplicated(subset=[\"subject_id\", \"hadm_id\"]).sum())\n"
   ]
  },
  {
   "cell_type": "code",
   "execution_count": 50,
   "id": "7693eb20-8ffb-4fa2-aa4e-429c0f33d514",
   "metadata": {},
   "outputs": [
    {
     "name": "stdout",
     "output_type": "stream",
     "text": [
      "Index(['subject_id', 'hadm_id', 'admission_type', 'admission_location',\n",
      "       'discharge_location', 'insurance', 'marital_status', 'race',\n",
      "       'ed_time_spent', 'los_hosp', 'gender', 'anchor_age', 'anchor_year',\n",
      "       'palliative_care_flag', 'delirium', 'cognitive_impairment_flag',\n",
      "       'num_comorbidities', 'stay_id', 'last_careunit', 'los',\n",
      "       'prior_icu_admissions', 'icu_heart_rate', 'icu_map', 'icu_iabp',\n",
      "       'icu_resp_rate', 'icu_pao2', 'icu_hb', 'icu_paco2', 'icu_spo2',\n",
      "       'icu_peep', 'icu_wbc', 'icu_chloride', 'icu_creatinine', 'icu_glucose',\n",
      "       'icu_sodium', 'icu_gcs_eye', 'icu_temp', 'icu_ph', 'icu_fio2',\n",
      "       'icu_airway', 'icu_vent_mode', 'icu_gcs_verbal', 'icu_gcs_motor',\n",
      "       'icu_base_excess', 'icu_bun', 'icu_lactate', 'icu_potassium',\n",
      "       'icu_hco3', 'icu_plt', 'icu_ras_scale', 'high_risk_med_flag',\n",
      "       'unique_high_risk_med', 'high_risk_med_count', 'drug', 'LabH_Alb',\n",
      "       'LabH_CRP', 'LabH_Hb', 'LabH_Plt', 'LabH_WBC'],\n",
      "      dtype='object')\n",
      "   subject_id   hadm_id  admission_type      admission_location  \\\n",
      "0    10000032  22595853          URGENT  TRANSFER FROM HOSPITAL   \n",
      "1    10000032  22841357        EW EMER.          EMERGENCY ROOM   \n",
      "2    10000032  25742920        EW EMER.          EMERGENCY ROOM   \n",
      "3    10000032  29079034        EW EMER.          EMERGENCY ROOM   \n",
      "4    10000068  25022803  EU OBSERVATION          EMERGENCY ROOM   \n",
      "\n",
      "  discharge_location insurance marital_status   race  ed_time_spent  los_hosp  \\\n",
      "0               HOME  Medicaid        WIDOWED  WHITE          253.0  0.786111   \n",
      "1               HOME  Medicaid        WIDOWED  WHITE          337.0  1.015278   \n",
      "2            HOSPICE  Medicaid        WIDOWED  WHITE          286.0  1.754167   \n",
      "3               HOME  Medicaid        WIDOWED  WHITE          486.0  2.222222   \n",
      "4                NaN       NaN         SINGLE  WHITE          511.0  0.298611   \n",
      "\n",
      "   ... icu_ras_scale  high_risk_med_flag  unique_high_risk_med  \\\n",
      "0  ...           NaN                 0.0                   0.0   \n",
      "1  ...           NaN                 0.0                   0.0   \n",
      "2  ...           NaN                 1.0                   2.0   \n",
      "3  ...           1.0                 1.0                   1.0   \n",
      "4  ...           NaN                 NaN                   NaN   \n",
      "\n",
      "   high_risk_med_count                                               drug  \\\n",
      "0                  0.0  [furosemide, ipratropium bromide neb, furosemi...   \n",
      "1                  0.0  [furosemide, rifaximin, sodium chloride 0.9%  ...   \n",
      "2                  3.0  [sodium chloride 0.9%  flush, 0.9% sodium chlo...   \n",
      "3                  2.0  [bisacodyl, bisacodyl, senna, calcium carbonat...   \n",
      "4                  NaN                                                NaN   \n",
      "\n",
      "   LabH_Alb  LabH_CRP  LabH_Hb LabH_Plt  LabH_WBC  \n",
      "0       NaN       NaN      NaN     71.0       NaN  \n",
      "1       2.7       NaN      NaN    137.0       NaN  \n",
      "2       3.5       NaN      NaN    133.0       NaN  \n",
      "3       3.8       NaN      NaN     94.0       NaN  \n",
      "4       NaN       NaN      NaN      NaN       NaN  \n",
      "\n",
      "[5 rows x 59 columns]\n",
      "<class 'pandas.core.frame.DataFrame'>\n",
      "RangeIndex: 546028 entries, 0 to 546027\n",
      "Data columns (total 59 columns):\n",
      " #   Column                     Non-Null Count   Dtype  \n",
      "---  ------                     --------------   -----  \n",
      " 0   subject_id                 546028 non-null  int64  \n",
      " 1   hadm_id                    546028 non-null  int64  \n",
      " 2   admission_type             546028 non-null  object \n",
      " 3   admission_location         546027 non-null  object \n",
      " 4   discharge_location         396210 non-null  object \n",
      " 5   insurance                  536673 non-null  object \n",
      " 6   marital_status             532409 non-null  object \n",
      " 7   race                       546028 non-null  object \n",
      " 8   ed_time_spent              379240 non-null  float64\n",
      " 9   los_hosp                   546028 non-null  float64\n",
      " 10  gender                     546028 non-null  object \n",
      " 11  anchor_age                 546028 non-null  int64  \n",
      " 12  anchor_year                546028 non-null  int64  \n",
      " 13  palliative_care_flag       546028 non-null  int32  \n",
      " 14  delirium                   546028 non-null  int32  \n",
      " 15  cognitive_impairment_flag  546028 non-null  int32  \n",
      " 16  num_comorbidities          546028 non-null  int32  \n",
      " 17  stay_id                    85242 non-null   float64\n",
      " 18  last_careunit              85242 non-null   object \n",
      " 19  los                        85229 non-null   float64\n",
      " 20  prior_icu_admissions       546028 non-null  int32  \n",
      " 21  icu_heart_rate             85240 non-null   float64\n",
      " 22  icu_map                    34493 non-null   float64\n",
      " 23  icu_iabp                   51 non-null      float64\n",
      " 24  icu_resp_rate              85156 non-null   float64\n",
      " 25  icu_pao2                   39494 non-null   float64\n",
      " 26  icu_hb                     82599 non-null   float64\n",
      " 27  icu_paco2                  39491 non-null   float64\n",
      " 28  icu_spo2                   85146 non-null   float64\n",
      " 29  icu_peep                   37316 non-null   float64\n",
      " 30  icu_wbc                    82567 non-null   float64\n",
      " 31  icu_chloride               82908 non-null   float64\n",
      " 32  icu_creatinine             82894 non-null   float64\n",
      " 33  icu_glucose                82781 non-null   float64\n",
      " 34  icu_sodium                 82917 non-null   float64\n",
      " 35  icu_gcs_eye                85033 non-null   float64\n",
      " 36  icu_temp                   84073 non-null   float64\n",
      " 37  icu_ph                     39723 non-null   float64\n",
      " 38  icu_fio2                   43735 non-null   float64\n",
      " 39  icu_airway                 0 non-null       float64\n",
      " 40  icu_vent_mode              23543 non-null   float64\n",
      " 41  icu_gcs_verbal             85025 non-null   float64\n",
      " 42  icu_gcs_motor              85016 non-null   float64\n",
      " 43  icu_base_excess            39487 non-null   float64\n",
      " 44  icu_bun                    82878 non-null   float64\n",
      " 45  icu_lactate                51577 non-null   float64\n",
      " 46  icu_potassium              82910 non-null   float64\n",
      " 47  icu_hco3                   82875 non-null   float64\n",
      " 48  icu_plt                    82575 non-null   float64\n",
      " 49  icu_ras_scale              75705 non-null   float64\n",
      " 50  high_risk_med_flag         463328 non-null  float64\n",
      " 51  unique_high_risk_med       463328 non-null  float64\n",
      " 52  high_risk_med_count        463328 non-null  float64\n",
      " 53  drug                       463328 non-null  object \n",
      " 54  LabH_Alb                   151817 non-null  float64\n",
      " 55  LabH_CRP                   32902 non-null   float64\n",
      " 56  LabH_Hb                    229 non-null     float64\n",
      " 57  LabH_Plt                   423985 non-null  float64\n",
      " 58  LabH_WBC                   2288 non-null    float64\n",
      "dtypes: float64(41), int32(5), int64(4), object(9)\n",
      "memory usage: 235.4+ MB\n",
      "None\n"
     ]
    }
   ],
   "source": [
    "# Print the column names\n",
    "print(core_data.columns)\n",
    "\n",
    "# Display the first 5 rows\n",
    "print(core_data.head())\n",
    "\n",
    "# Alternatively, get a concise summary including non-null counts and dtypes\n",
    "print(core_data.info())\n"
   ]
  },
  {
   "cell_type": "code",
   "execution_count": 52,
   "id": "77f73229-9583-49bc-8554-a4ea77bed198",
   "metadata": {},
   "outputs": [
    {
     "name": "stdout",
     "output_type": "stream",
     "text": [
      "✅ Cleaned dataset prepared. One row per admission.\n",
      "Unique Patients: 223452\n",
      "Total Rows: 546028\n",
      "✅ Cleaned dataset saved successfully!\n"
     ]
    }
   ],
   "source": [
    "# =============================\n",
    "# 7. Final Summary and Save Output\n",
    "# =============================\n",
    "print(\"✅ Cleaned dataset prepared. One row per admission.\")\n",
    "print(\"Unique Patients:\", core_data[\"subject_id\"].nunique())\n",
    "print(\"Total Rows:\", core_data.shape[0])\n",
    "\n",
    "# Optionally, save the final dataset (compressed CSV)\n",
    "output_path = \"D:/MIMIC-IV-Data-Pipeline/processed_data\"\n",
    "os.makedirs(output_path, exist_ok=True)\n",
    "core_data.to_csv(os.path.join(output_path, \"delirium_prediction_data_v7.csv.gz\"), index=False, compression=\"gzip\")\n",
    "print(\"✅ Cleaned dataset saved successfully!\")"
   ]
  },
  {
   "cell_type": "code",
   "execution_count": null,
   "id": "95407233-226a-4e15-997f-2071cdfaab45",
   "metadata": {},
   "outputs": [],
   "source": []
  }
 ],
 "metadata": {
  "kernelspec": {
   "display_name": "Python [conda env:base] *",
   "language": "python",
   "name": "conda-base-py"
  },
  "language_info": {
   "codemirror_mode": {
    "name": "ipython",
    "version": 3
   },
   "file_extension": ".py",
   "mimetype": "text/x-python",
   "name": "python",
   "nbconvert_exporter": "python",
   "pygments_lexer": "ipython3",
   "version": "3.12.7"
  }
 },
 "nbformat": 4,
 "nbformat_minor": 5
}
