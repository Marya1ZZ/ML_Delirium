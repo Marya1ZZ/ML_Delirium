{
 "cells": [
  {
   "cell_type": "markdown",
   "metadata": {
    "id": "Yz8_HG9GtDkP"
   },
   "source": [
    "## **Deliruim Data Cohort from MIMIC-IV-3.2 **\n",
    "Data Downloaded February 8th , 2025\n",
    "\n",
    "Phase 1 Data Extraction\n",
    "https://colab.research.google.com/drive/1IIYkR_CSGwakQJ5g47gtY1TnQIs91T02#scrollTo=71f2964d-361e-4a8a-b59f-429624b6e1ce\n",
    "\n",
    "# Phase 2 Extracted Dataset Mounted  \n",
    "Nth Attempt Feb 22, 24\n",
    "\n"
   ]
  },
  {
   "cell_type": "code",
   "execution_count": 52,
   "metadata": {
    "colab": {
     "base_uri": "https://localhost:8080/"
    },
    "id": "jwKCnH8XrilJ",
    "outputId": "dd0f532c-6eb8-4a40-e780-0e75e531e9a6"
   },
   "outputs": [
    {
     "name": "stdout",
     "output_type": "stream",
     "text": [
      "File Exists: True\n"
     ]
    }
   ],
   "source": [
    " # Define file path\n",
    "file_path = \"D:/MIMIC-IV-Data-Pipeline/processed_data/delirium_prediction_data_v3.csv.gz\"\n",
    "\n",
    "# Check if the file exists\n",
    "import os\n",
    "print(\"File Exists:\", os.path.exists(file_path))\n"
   ]
  },
  {
   "cell_type": "code",
   "execution_count": 54,
   "metadata": {
    "colab": {
     "base_uri": "https://localhost:8080/"
    },
    "id": "nOaBt-iQuQL9",
    "outputId": "9e4922c2-deb3-4ace-9bb5-8d40a8d98848"
   },
   "outputs": [
    {
     "name": "stdout",
     "output_type": "stream",
     "text": [
      "✅ Data Loaded! Shape: (555244, 20)\n",
      "   subject_id   hadm_id  admission_type      admission_location  \\\n",
      "0    10000032  22595853          URGENT  TRANSFER FROM HOSPITAL   \n",
      "1    10000032  22841357        EW EMER.          EMERGENCY ROOM   \n",
      "2    10000032  25742920        EW EMER.          EMERGENCY ROOM   \n",
      "3    10000032  29079034        EW EMER.          EMERGENCY ROOM   \n",
      "4    10000068  25022803  EU OBSERVATION          EMERGENCY ROOM   \n",
      "\n",
      "  discharge_location insurance marital_status   race  ed_time_spent gender  \\\n",
      "0               HOME  Medicaid        WIDOWED  WHITE          253.0      F   \n",
      "1               HOME  Medicaid        WIDOWED  WHITE          337.0      F   \n",
      "2            HOSPICE  Medicaid        WIDOWED  WHITE          286.0      F   \n",
      "3               HOME  Medicaid        WIDOWED  WHITE          486.0      F   \n",
      "4                NaN       NaN         SINGLE  WHITE          511.0      F   \n",
      "\n",
      "   anchor_age  anchor_year     stay_id                       last_careunit  \\\n",
      "0          52         2180         NaN                                 NaN   \n",
      "1          52         2180         NaN                                 NaN   \n",
      "2          52         2180         NaN                                 NaN   \n",
      "3          52         2180  39553978.0  Medical Intensive Care Unit (MICU)   \n",
      "4          19         2160         NaN                                 NaN   \n",
      "\n",
      "        los  num_comorbidities  \\\n",
      "0       NaN                8.0   \n",
      "1       NaN                8.0   \n",
      "2       NaN               10.0   \n",
      "3  0.410266               13.0   \n",
      "4       NaN                1.0   \n",
      "\n",
      "                                      diagnosis_list  palliative_care_flag  \\\n",
      "0  ['5723', '78959', '5715', '07070', '496', '296...                   0.0   \n",
      "1  ['07071', '78959', '2875', '2761', '496', '571...                   0.0   \n",
      "2  ['07054', '78959', 'V462', '5715', '2767', '27...                   0.0   \n",
      "3  ['45829', '07044', '7994', '2761', '78959', '2...                   0.0   \n",
      "4                                          ['30500']                   0.0   \n",
      "\n",
      "   delirium  high_risk_med  \n",
      "0       0.0            0.0  \n",
      "1       0.0            0.0  \n",
      "2       0.0            1.0  \n",
      "3       0.0            1.0  \n",
      "4       0.0            NaN  \n"
     ]
    }
   ],
   "source": [
    "import pandas as pd\n",
    "\n",
    "file_path = \"D:/MIMIC-IV-Data-Pipeline/processed_data/delirium_prediction_data_v3.csv.gz\"\n",
    "\n",
    "# Load dataset\n",
    "df = pd.read_csv(file_path, compression=\"gzip\", low_memory=False)\n",
    "\n",
    "print(\"✅ Data Loaded! Shape:\", df.shape)\n",
    "print(df.head())  # Show first 5 rows\n"
   ]
  },
  {
   "cell_type": "code",
   "execution_count": 56,
   "metadata": {
    "colab": {
     "base_uri": "https://localhost:8080/"
    },
    "id": "WzQ37M4V2b06",
    "outputId": "fad203f6-6317-4b99-f730-fe159ef06896"
   },
   "outputs": [
    {
     "name": "stdout",
     "output_type": "stream",
     "text": [
      "🔍 Dataset Overview:\n",
      "<class 'pandas.core.frame.DataFrame'>\n",
      "RangeIndex: 555244 entries, 0 to 555243\n",
      "Data columns (total 20 columns):\n",
      " #   Column                Non-Null Count   Dtype  \n",
      "---  ------                --------------   -----  \n",
      " 0   subject_id            555244 non-null  int64  \n",
      " 1   hadm_id               555244 non-null  int64  \n",
      " 2   admission_type        555244 non-null  object \n",
      " 3   admission_location    555243 non-null  object \n",
      " 4   discharge_location    405420 non-null  object \n",
      " 5   insurance             545797 non-null  object \n",
      " 6   marital_status        540815 non-null  object \n",
      " 7   race                  555244 non-null  object \n",
      " 8   ed_time_spent         385225 non-null  float64\n",
      " 9   gender                555244 non-null  object \n",
      " 10  anchor_age            555244 non-null  int64  \n",
      " 11  anchor_year           555244 non-null  int64  \n",
      " 12  stay_id               94458 non-null   float64\n",
      " 13  last_careunit         94458 non-null   object \n",
      " 14  los                   94444 non-null   float64\n",
      " 15  num_comorbidities     554713 non-null  float64\n",
      " 16  diagnosis_list        554713 non-null  object \n",
      " 17  palliative_care_flag  554713 non-null  float64\n",
      " 18  delirium              554713 non-null  float64\n",
      " 19  high_risk_med         472524 non-null  float64\n",
      "dtypes: float64(7), int64(4), object(9)\n",
      "memory usage: 84.7+ MB\n",
      "None\n",
      "\n",
      "Missing Values:\n",
      " subject_id                   0\n",
      "hadm_id                      0\n",
      "admission_type               0\n",
      "admission_location           1\n",
      "discharge_location      149824\n",
      "insurance                 9447\n",
      "marital_status           14429\n",
      "race                         0\n",
      "ed_time_spent           170019\n",
      "gender                       0\n",
      "anchor_age                   0\n",
      "anchor_year                  0\n",
      "stay_id                 460786\n",
      "last_careunit           460786\n",
      "los                     460800\n",
      "num_comorbidities          531\n",
      "diagnosis_list             531\n",
      "palliative_care_flag       531\n",
      "delirium                   531\n",
      "high_risk_med            82720\n",
      "dtype: int64\n"
     ]
    }
   ],
   "source": [
    "print(\"🔍 Dataset Overview:\")\n",
    "print(df.info())  # Check column types and memory usage\n",
    "print(\"\\nMissing Values:\\n\", df.isnull().sum())  # Count missing values\n"
   ]
  },
  {
   "cell_type": "markdown",
   "metadata": {
    "id": "UBbOx_pTDah_"
   },
   "source": [
    " Feature Category\tColumn Name\n",
    "🔹 Identifiers\tsubject_id\n",
    "\thadm_id\n",
    "\tstay_id\n",
    "🔹 Patient Demographics\tgender\n",
    "\tanchor_age\n",
    "\tanchor_year\n",
    "\trace\n",
    "\tmarital_status\n",
    "🔹 Admission & Hospitalization Details\tadmission_type\n",
    "\tadmission_location\n",
    "\tdischarge_location\n",
    "\tinsurance\n",
    "\ted_time_spent\n",
    "🔹 ICU Stay Details\tlast_careunit\n",
    "\tlos_icu\n",
    "🔹 Diagnoses & Comorbidities\tnum_comorbidities\n",
    "\tdiagnosis_list\n",
    "\tpalliative_care_flag\n",
    "🔹 Delirium Outcome\tdelirium\n",
    "🔹 Medication Exposure\thigh_risk_med\n"
   ]
  },
  {
   "cell_type": "markdown",
   "metadata": {
    "id": "F_XiO6IhERKX"
   },
   "source": [
    "✅ Insights from Dataset Overview\n",
    "Your dataset now has 555,244 rows (one per admission), but some columns have missing values. Below are the key observations:\n",
    "\n",
    "🔍 Key Observations\n",
    "Missing ICU Stay Information:\n",
    "\n",
    "stay_id, last_careunit, and los are missing in ~460,000 rows.\n",
    "This suggests that many admissions were NOT ICU stays.\n",
    "Missing Emergency Department (ED) Time:\n",
    "\n",
    "ed_time_spent is missing for ~170,000 admissions.\n",
    "Likely because not all patients enter via ED.\n",
    "Palliative & Delirium Flags Have Small Missingness:\n",
    "\n",
    "531 missing values in:\n",
    "diagnosis_list\n",
    "num_comorbidities\n",
    "palliative_care_flag\n",
    "delirium\n",
    "These could be from admissions without recorded diagnoses.\n",
    "High-Risk Medications Have Missing Values:\n",
    "\n",
    "~82,720 rows are missing high_risk_med.\n",
    "This likely means that some patients had no prescriptions.\n"
   ]
  },
  {
   "cell_type": "markdown",
   "metadata": {
    "id": "TsX6iCPiEU7r"
   },
   "source": [
    "✅ Next Steps: Handling Missing Data\n",
    "\n"
   ]
  },
  {
   "cell_type": "code",
   "execution_count": 20,
   "metadata": {
    "id": "MVzqHvFQDd0R"
   },
   "outputs": [],
   "source": [
    "#1️⃣ Fill or Remove Missing diagnosis_list Entries\n",
    "\n",
    "# Since diagnoses drive delirium and palliative_care_flag, replace missing lists with an empty list:\n",
    "\n",
    "df[\"diagnosis_list\"] = df[\"diagnosis_list\"].apply(lambda x: x if isinstance(x, list) else [])\n",
    "\n",
    "# 2️⃣ Fill palliative_care_flag and delirium with 0\n",
    "#If a patient has no diagnosis data, assume 0 for both:\n",
    "df[\"palliative_care_flag\"] = df[\"palliative_care_flag\"].fillna(0).astype(int)\n",
    "df[\"delirium\"] = df[\"delirium\"].fillna(0).astype(int)\n",
    "\n",
    "# 3️⃣ Fill high_risk_med with 0\n",
    "# Missing values likely mean no high-risk medications were prescribed.\n",
    "\n",
    "df[\"high_risk_med\"] = df[\"high_risk_med\"].fillna(0).astype(int)\n"
   ]
  },
  {
   "cell_type": "code",
   "execution_count": 22,
   "metadata": {
    "id": "_-TdSdDNJu4X"
   },
   "outputs": [],
   "source": [
    "#4️⃣ Handle Missing ICU Data (stay_id, last_careunit, los)\n",
    "#Since not all patients were in the ICU, replace missing values with \"Not ICU\" or 0:\n",
    "df[\"stay_id\"] = df[\"stay_id\"].fillna(\"Not ICU\")\n",
    "df[\"last_careunit\"] = df[\"last_careunit\"].fillna(\"Not ICU\")\n",
    "# This didnt work #df[\"los_icu\"] = df[\"los_icu\"].fillna(0)\n"
   ]
  },
  {
   "cell_type": "code",
   "execution_count": 24,
   "metadata": {
    "id": "6PWFKubZKB-g"
   },
   "outputs": [],
   "source": [
    "# 5️⃣ Handle Missing ed_time_spent\n",
    "#Patients missing ed_time_spent likely didn’t enter via the ED.\n",
    "#Fill missing values with 0:\n",
    "df[\"ed_time_spent\"] = df[\"ed_time_spent\"].fillna(0)"
   ]
  },
  {
   "cell_type": "code",
   "execution_count": 26,
   "metadata": {
    "colab": {
     "base_uri": "https://localhost:8080/"
    },
    "id": "uMcb9mwANRmp",
    "outputId": "b5926d7f-7999-4d00-a4ba-d0acdebf0263"
   },
   "outputs": [
    {
     "name": "stdout",
     "output_type": "stream",
     "text": [
      "🔍 Dataset Overview:\n",
      "<class 'pandas.core.frame.DataFrame'>\n",
      "RangeIndex: 555244 entries, 0 to 555243\n",
      "Data columns (total 20 columns):\n",
      " #   Column                Non-Null Count   Dtype  \n",
      "---  ------                --------------   -----  \n",
      " 0   subject_id            555244 non-null  int64  \n",
      " 1   hadm_id               555244 non-null  int64  \n",
      " 2   admission_type        555244 non-null  object \n",
      " 3   admission_location    555243 non-null  object \n",
      " 4   discharge_location    405420 non-null  object \n",
      " 5   insurance             545797 non-null  object \n",
      " 6   marital_status        540815 non-null  object \n",
      " 7   race                  555244 non-null  object \n",
      " 8   ed_time_spent         555244 non-null  float64\n",
      " 9   gender                555244 non-null  object \n",
      " 10  anchor_age            555244 non-null  int64  \n",
      " 11  anchor_year           555244 non-null  int64  \n",
      " 12  stay_id               555244 non-null  object \n",
      " 13  last_careunit         555244 non-null  object \n",
      " 14  icu_los               94444 non-null   float64\n",
      " 15  num_comorbidities     554713 non-null  float64\n",
      " 16  diagnosis_list        555244 non-null  object \n",
      " 17  palliative_care_flag  555244 non-null  int32  \n",
      " 18  delirium              555244 non-null  int32  \n",
      " 19  high_risk_med         555244 non-null  int32  \n",
      "dtypes: float64(3), int32(3), int64(4), object(10)\n",
      "memory usage: 78.4+ MB\n",
      "None\n",
      "\n",
      "Missing Values:\n",
      " subject_id                   0\n",
      "hadm_id                      0\n",
      "admission_type               0\n",
      "admission_location           1\n",
      "discharge_location      149824\n",
      "insurance                 9447\n",
      "marital_status           14429\n",
      "race                         0\n",
      "ed_time_spent                0\n",
      "gender                       0\n",
      "anchor_age                   0\n",
      "anchor_year                  0\n",
      "stay_id                      0\n",
      "last_careunit                0\n",
      "icu_los                 460800\n",
      "num_comorbidities          531\n",
      "diagnosis_list               0\n",
      "palliative_care_flag         0\n",
      "delirium                     0\n",
      "high_risk_med                0\n",
      "dtype: int64\n"
     ]
    }
   ],
   "source": [
    "print(\"🔍 Dataset Overview:\")\n",
    "print(df.info())  # Check column types and memory usage\n",
    "print(\"\\nMissing Values:\\n\", df.isnull().sum())  # Count missing values"
   ]
  },
  {
   "cell_type": "code",
   "execution_count": 34,
   "metadata": {
    "id": "BH3nR65MQ_Td"
   },
   "outputs": [],
   "source": [
    "#Step 1 : Feature Engineering\n",
    "#1️⃣ Encode Categorical Variables\n",
    "categorical_cols = [\"admission_type\", \"admission_location\", \"discharge_location\", \"insurance\", \"race\", \"gender\", \"marital_status\"]\n",
    "df = pd.get_dummies(df, columns=categorical_cols, drop_first=True)\n",
    "#Why? One-hot encoding allows models to use categorical variables in numerical format.\n",
    "#2️⃣ Handle Missing Values in Numerical Columns\n",
    "df[\"icu_los\"] = df[\"icu_los\"].fillna(0)  # Fill missing ICU LOS with 0 (non-ICU admissions)\n",
    "df[\"num_comorbidities\"] = df[\"num_comorbidities\"].fillna(0)\n",
    "#Why? Keeps numerical data clean for modeling.\n",
    "\n",
    "#3️⃣ Drop Unnecessary Identifiers\n",
    "df = df.drop(columns=[\"subject_id\", \"hadm_id\", \"stay_id\", \"anchor_year\"])\n",
    "#Why? These IDs don't contribute to prediction.  Not considering repeated patient admissions as each admission should be treated seprately?"
   ]
  },
  {
   "cell_type": "code",
   "execution_count": 36,
   "metadata": {
    "colab": {
     "base_uri": "https://localhost:8080/"
    },
    "id": "MTaZyV-aU1Tl",
    "outputId": "710eebaa-4cdb-4178-ee31-e560bbdc645a"
   },
   "outputs": [
    {
     "name": "stdout",
     "output_type": "stream",
     "text": [
      "✅ Categorical variables converted to numeric!\n"
     ]
    }
   ],
   "source": [
    "# Identify categorical columns that may still contain text\n",
    "categorical_cols = [\"last_careunit\"]\n",
    "\n",
    "# Convert categorical columns to numerical encoding\n",
    "df[categorical_cols] = df[categorical_cols].astype(\"category\").apply(lambda x: x.cat.codes)\n",
    "\n",
    "print(\"✅ Categorical variables converted to numeric!\")\n"
   ]
  },
  {
   "cell_type": "code",
   "execution_count": 38,
   "metadata": {
    "colab": {
     "base_uri": "https://localhost:8080/"
    },
    "id": "uURoVAv9VQKX",
    "outputId": "97d59f36-37f1-4067-8d79-2dbd6a3b9808"
   },
   "outputs": [
    {
     "name": "stdout",
     "output_type": "stream",
     "text": [
      "✅ Removed non-numeric columns before SMOTE.\n"
     ]
    }
   ],
   "source": [
    "# Drop non-numeric columns before applying SMOTE\n",
    "\n",
    "df = df.drop(columns=[\"diagnosis_list\"])\n",
    "\n",
    "print(\"✅ Removed non-numeric columns before SMOTE.\")\n"
   ]
  },
  {
   "cell_type": "code",
   "execution_count": 40,
   "metadata": {},
   "outputs": [
    {
     "name": "stdout",
     "output_type": "stream",
     "text": [
      "✅ Train-test split completed!\n"
     ]
    }
   ],
   "source": [
    "from sklearn.model_selection import train_test_split\n",
    "\n",
    "# Define target variable\n",
    "y = df[\"delirium\"]\n",
    "X = df.drop(columns=[\"delirium\"])\n",
    "\n",
    "# Perform train-test split\n",
    "X_train, X_test, y_train, y_test = train_test_split(\n",
    "    X, y, test_size=0.2, stratify=y, random_state=42\n",
    ")\n",
    "\n",
    "print(\"✅ Train-test split completed!\")\n"
   ]
  },
  {
   "cell_type": "code",
   "execution_count": 42,
   "metadata": {},
   "outputs": [
    {
     "name": "stderr",
     "output_type": "stream",
     "text": [
      "C:\\Users\\truly\\anaconda3\\Lib\\site-packages\\joblib\\externals\\loky\\backend\\context.py:136: UserWarning: Could not find the number of physical cores for the following reason:\n",
      "[WinError 2] The system cannot find the file specified\n",
      "Returning the number of logical cores instead. You can silence this warning by setting LOKY_MAX_CPU_COUNT to the number of cores you want to use.\n",
      "  warnings.warn(\n",
      "  File \"C:\\Users\\truly\\anaconda3\\Lib\\site-packages\\joblib\\externals\\loky\\backend\\context.py\", line 257, in _count_physical_cores\n",
      "    cpu_info = subprocess.run(\n",
      "               ^^^^^^^^^^^^^^^\n",
      "  File \"C:\\Users\\truly\\anaconda3\\Lib\\subprocess.py\", line 548, in run\n",
      "    with Popen(*popenargs, **kwargs) as process:\n",
      "         ^^^^^^^^^^^^^^^^^^^^^^^^^^^\n",
      "  File \"C:\\Users\\truly\\anaconda3\\Lib\\subprocess.py\", line 1026, in __init__\n",
      "    self._execute_child(args, executable, preexec_fn, close_fds,\n",
      "  File \"C:\\Users\\truly\\anaconda3\\Lib\\subprocess.py\", line 1538, in _execute_child\n",
      "    hp, ht, pid, tid = _winapi.CreateProcess(executable, args,\n",
      "                       ^^^^^^^^^^^^^^^^^^^^^^^^^^^^^^^^^^^^^^^\n"
     ]
    },
    {
     "name": "stdout",
     "output_type": "stream",
     "text": [
      "✅ SMOTE applied! New class distribution:\n",
      "delirium\n",
      "0    0.5\n",
      "1    0.5\n",
      "Name: proportion, dtype: float64\n"
     ]
    }
   ],
   "source": [
    "from imblearn.over_sampling import SMOTE\n",
    "\n",
    "# Initialize SMOTE\n",
    "smote = SMOTE(random_state=42)\n",
    "\n",
    "# Apply SMOTE to training data\n",
    "X_train_resampled, y_train_resampled = smote.fit_resample(X_train, y_train)\n",
    "\n",
    "print(\"✅ SMOTE applied! New class distribution:\")\n",
    "print(pd.Series(y_train_resampled).value_counts(normalize=True))\n"
   ]
  },
  {
   "cell_type": "code",
   "execution_count": 44,
   "metadata": {},
   "outputs": [
    {
     "name": "stdout",
     "output_type": "stream",
     "text": [
      "✅ Features normalized for Naïve Bayes!\n"
     ]
    }
   ],
   "source": [
    "from sklearn.preprocessing import MinMaxScaler\n",
    "\n",
    "# Identify numerical columns\n",
    "numeric_cols = [\"anchor_age\", \"num_comorbidities\", \"ed_time_spent\", \"icu_los\"]\n",
    "\n",
    "# Apply MinMaxScaler (scales values between 0 and 1)\n",
    "scaler = MinMaxScaler()\n",
    "X_train_resampled[numeric_cols] = scaler.fit_transform(X_train_resampled[numeric_cols])\n",
    "X_test[numeric_cols] = scaler.transform(X_test[numeric_cols])\n",
    "\n",
    "print(\"✅ Features normalized for Naïve Bayes!\")\n"
   ]
  },
  {
   "cell_type": "code",
   "execution_count": 46,
   "metadata": {},
   "outputs": [
    {
     "name": "stdout",
     "output_type": "stream",
     "text": [
      "✅ Naïve Bayes Model Performance:\n",
      "              precision    recall  f1-score   support\n",
      "\n",
      "           0       0.99      0.84      0.91    108918\n",
      "           1       0.06      0.56      0.12      2131\n",
      "\n",
      "    accuracy                           0.84    111049\n",
      "   macro avg       0.53      0.70      0.51    111049\n",
      "weighted avg       0.97      0.84      0.89    111049\n",
      "\n"
     ]
    }
   ],
   "source": [
    "from sklearn.naive_bayes import GaussianNB\n",
    "from sklearn.metrics import classification_report\n",
    "\n",
    "# Initialize and train Naïve Bayes model\n",
    "nb_model = GaussianNB()\n",
    "nb_model.fit(X_train_resampled, y_train_resampled)\n",
    "\n",
    "# Make predictions\n",
    "y_pred_nb = nb_model.predict(X_test)\n",
    "\n",
    "# Evaluate performance\n",
    "print(\"✅ Naïve Bayes Model Performance:\")\n",
    "print(classification_report(y_test, y_pred_nb))\n",
    "\n"
   ]
  },
  {
   "cell_type": "code",
   "execution_count": 48,
   "metadata": {},
   "outputs": [
    {
     "name": "stdout",
     "output_type": "stream",
     "text": [
      "              precision    recall  f1-score   support\n",
      "\n",
      "           0       0.99      0.80      0.89    108918\n",
      "           1       0.06      0.69      0.12      2131\n",
      "\n",
      "    accuracy                           0.80    111049\n",
      "   macro avg       0.53      0.75      0.50    111049\n",
      "weighted avg       0.97      0.80      0.87    111049\n",
      "\n"
     ]
    }
   ],
   "source": [
    "from sklearn.naive_bayes import MultinomialNB\n",
    "\n",
    "nb_model = MultinomialNB()\n",
    "nb_model.fit(X_train_resampled, y_train_resampled)\n",
    "\n",
    "y_pred_nb = nb_model.predict(X_test)\n",
    "print(classification_report(y_test, y_pred_nb))\n"
   ]
  }
 ],
 "metadata": {
  "colab": {
   "provenance": []
  },
  "kernelspec": {
   "display_name": "Python [conda env:base] *",
   "language": "python",
   "name": "conda-base-py"
  },
  "language_info": {
   "codemirror_mode": {
    "name": "ipython",
    "version": 3
   },
   "file_extension": ".py",
   "mimetype": "text/x-python",
   "name": "python",
   "nbconvert_exporter": "python",
   "pygments_lexer": "ipython3",
   "version": "3.12.7"
  }
 },
 "nbformat": 4,
 "nbformat_minor": 4
}
