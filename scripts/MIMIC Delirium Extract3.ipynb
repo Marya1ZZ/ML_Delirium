{
 "cells": [
  {
   "cell_type": "code",
   "execution_count": 3,
   "id": "33976f0f-27f1-43e4-9872-4698a34a9457",
   "metadata": {},
   "outputs": [
    {
     "name": "stdout",
     "output_type": "stream",
     "text": [
      "Memory Usage: 42.1%\n"
     ]
    }
   ],
   "source": [
    "import pandas as pd\n",
    "import os\n",
    "import psutil\n",
    "\n",
    "# Step 1: Define Data Path\n",
    "data_path = \"D:/mimic-iv-3.1\"\n",
    "\n",
    "# Step 2: Check memory usage before loading data\n",
    "def check_memory():\n",
    "    print(f\"Memory Usage: {psutil.virtual_memory().percent}%\")\n",
    "check_memory()\n"
   ]
  },
  {
   "cell_type": "code",
   "execution_count": 289,
   "id": "562cf496-601a-47b8-81ab-bb824e87c270",
   "metadata": {},
   "outputs": [],
   "source": [
    "# Create an empty DataFrame with the key columns\n",
    "admissions = pd.DataFrame(columns=[\"subject_id\", \"hadm_id\"])\n",
    "diagnosis_count = pd.DataFrame(columns=[\"subject_id\", \"hadm_id\"])\n",
    "diagnoses = pd.DataFrame(columns=[\"subject_id\", \"hadm_id\"])"
   ]
  },
  {
   "cell_type": "code",
   "execution_count": 291,
   "id": "34b22fe1-59fd-43b0-afaa-4077c6a8cfca",
   "metadata": {},
   "outputs": [],
   "source": [
    "# Step 3: Load MIMIC-IV Tables with optimized memory handling\n",
    "# Load small tables directly\n",
    "admissions = pd.read_csv(os.path.join(data_path, \"hosp/admissions.csv.gz\"), \n",
    "                          usecols=[\"subject_id\", \"hadm_id\", \"admission_type\", \"admission_location\", \"discharge_location\", \"admittime\", \"dischtime\",\"insurance\", \"race\", \"marital_status\", \"edregtime\", \"edouttime\"], \n",
    "                          low_memory=False)\n",
    "\n",
    "# Calculate time spent in ED before admission\n",
    "admissions[\"ed_time_spent\"] = (pd.to_datetime(admissions[\"edouttime\"]) - pd.to_datetime(admissions[\"edregtime\"])).dt.total_seconds() / 60  # Convert to minutes\n",
    "\n",
    "# Drop original ED timestamps\n",
    "admissions = admissions.drop(columns=[\"edregtime\", \"edouttime\"], errors=\"ignore\")\n",
    "\n",
    "# Compute hospital length of stay (LOS) in days\n",
    "admissions[\"los_hosp\"] = (pd.to_datetime(admissions[\"dischtime\"]) - pd.to_datetime(admissions[\"admittime\"])).dt.total_seconds() / (60 * 60 * 24)\n",
    "\n",
    "# Drop original timestamps\n",
    "admissions = admissions.drop(columns=[\"admittime\", \"dischtime\"], errors=\"ignore\")\n"
   ]
  },
  {
   "cell_type": "code",
   "execution_count": 7,
   "id": "0047edcf-fcbf-4d62-a01c-9b35f4efbde4",
   "metadata": {},
   "outputs": [
    {
     "name": "stdout",
     "output_type": "stream",
     "text": [
      "   subject_id   hadm_id  admission_type      admission_location  \\\n",
      "0    10000032  22595853          URGENT  TRANSFER FROM HOSPITAL   \n",
      "1    10000032  22841357        EW EMER.          EMERGENCY ROOM   \n",
      "2    10000032  25742920        EW EMER.          EMERGENCY ROOM   \n",
      "3    10000032  29079034        EW EMER.          EMERGENCY ROOM   \n",
      "4    10000068  25022803  EU OBSERVATION          EMERGENCY ROOM   \n",
      "\n",
      "  discharge_location insurance marital_status   race  ed_time_spent  los_hosp  \n",
      "0               HOME  Medicaid        WIDOWED  WHITE          253.0  0.786111  \n",
      "1               HOME  Medicaid        WIDOWED  WHITE          337.0  1.015278  \n",
      "2            HOSPICE  Medicaid        WIDOWED  WHITE          286.0  1.754167  \n",
      "3               HOME  Medicaid        WIDOWED  WHITE          486.0  2.222222  \n",
      "4                NaN       NaN         SINGLE  WHITE          511.0  0.298611  \n"
     ]
    }
   ],
   "source": [
    "print(admissions.head())  # Show first 5 rows"
   ]
  },
  {
   "cell_type": "code",
   "execution_count": 9,
   "id": "b1fc9906-0d7e-493e-963c-b8d81fb8034e",
   "metadata": {},
   "outputs": [],
   "source": [
    " # Load patient demographics\n",
    "patients = pd.read_csv(os.path.join(data_path, \"hosp/patients.csv.gz\"),\n",
    "                        usecols=[\"subject_id\", \"gender\", \"anchor_age\", \"anchor_year\"],\n",
    "                        low_memory=False)\n"
   ]
  },
  {
   "cell_type": "code",
   "execution_count": 11,
   "id": "1d3141a9-0a7a-4798-a9ae-096a62ff6a2e",
   "metadata": {},
   "outputs": [
    {
     "name": "stdout",
     "output_type": "stream",
     "text": [
      "   subject_id gender  anchor_age  anchor_year\n",
      "0    10000032      F          52         2180\n",
      "1    10000048      F          23         2126\n",
      "2    10000058      F          33         2168\n",
      "3    10000068      F          19         2160\n",
      "4    10000084      M          72         2160\n"
     ]
    }
   ],
   "source": [
    "print(patients.head())"
   ]
  },
  {
   "cell_type": "code",
   "execution_count": 293,
   "id": "12467d20-0fc7-4736-a3ab-ccfab28174c1",
   "metadata": {},
   "outputs": [],
   "source": [
    "# Load diagnoses and count unique conditions per admission\n",
    "diagnoses = pd.read_csv(os.path.join(data_path, \"hosp/diagnoses_icd.csv.gz\"),\n",
    "                         usecols=[\"subject_id\", \"hadm_id\", \"icd_code\"],\n",
    "                         low_memory=False)\n",
    "\n",
    "diagnosis_counts = diagnoses.groupby([\"subject_id\", \"hadm_id\"]).agg(\n",
    "    num_comorbidities=('icd_code', 'nunique'),  # Count unique diagnoses\n",
    "    diagnosis_list=('icd_code', lambda x: list(x))  # Retain list of all diagnoses for admission\n",
    ").reset_index()"
   ]
  },
  {
   "cell_type": "code",
   "execution_count": 295,
   "id": "7683b3ee-eacc-4d29-a4f6-0905a61b8329",
   "metadata": {},
   "outputs": [
    {
     "name": "stdout",
     "output_type": "stream",
     "text": [
      "   subject_id   hadm_id icd_code\n",
      "0    10000032  22595853     5723\n",
      "1    10000032  22595853    78959\n",
      "2    10000032  22595853     5715\n",
      "3    10000032  22595853    07070\n",
      "4    10000032  22595853      496\n"
     ]
    }
   ],
   "source": [
    "print(diagnoses.head())"
   ]
  },
  {
   "cell_type": "code",
   "execution_count": 297,
   "id": "fa0ea364-1e7f-4463-a12d-4680def96764",
   "metadata": {},
   "outputs": [
    {
     "name": "stdout",
     "output_type": "stream",
     "text": [
      "   subject_id   hadm_id  num_comorbidities  \\\n",
      "0    10000032  22595853                  8   \n",
      "1    10000032  22841357                  8   \n",
      "2    10000032  25742920                 10   \n",
      "3    10000032  29079034                 13   \n",
      "4    10000068  25022803                  1   \n",
      "\n",
      "                                      diagnosis_list  \n",
      "0  [5723, 78959, 5715, 07070, 496, 29680, 30981, ...  \n",
      "1   [07071, 78959, 2875, 2761, 496, 5715, V08, 3051]  \n",
      "2  [07054, 78959, V462, 5715, 2767, 2761, 496, V0...  \n",
      "3  [45829, 07044, 7994, 2761, 78959, 2767, 3051, ...  \n",
      "4                                            [30500]  \n"
     ]
    }
   ],
   "source": [
    "print(diagnosis_counts.head())"
   ]
  },
  {
   "cell_type": "code",
   "execution_count": 25,
   "id": "9401e459-e357-4875-a11f-69d9181abcbc",
   "metadata": {},
   "outputs": [],
   "source": [
    "# Load ICU stays with length of stay\n",
    "icustays = pd.read_csv(os.path.join(data_path, \"icu/icustays.csv.gz\"),\n",
    "                        usecols=[\"subject_id\", \"hadm_id\", \"stay_id\", \"last_careunit\", \"los\"],\n",
    "                        low_memory=False)\n",
    "\n",
    "# Count previous ICU admissions per patient\n",
    "icu_history = icustays.groupby(\"subject_id\")[\"stay_id\"].count().reset_index()\n",
    "icu_history.rename(columns={\"stay_id\": \"prior_icu_admissions\"}, inplace=True)\n"
   ]
  },
  {
   "cell_type": "code",
   "execution_count": 27,
   "id": "8dabc515-eeb4-49bd-b2cd-4e63ea573a5d",
   "metadata": {},
   "outputs": [
    {
     "name": "stdout",
     "output_type": "stream",
     "text": [
      "   subject_id   hadm_id   stay_id                        last_careunit  \\\n",
      "0    10000032  29079034  39553978   Medical Intensive Care Unit (MICU)   \n",
      "1    10000690  25860671  37081114   Medical Intensive Care Unit (MICU)   \n",
      "2    10000980  26913865  39765666   Medical Intensive Care Unit (MICU)   \n",
      "3    10001217  24597018  37067082  Surgical Intensive Care Unit (SICU)   \n",
      "4    10001217  27703517  34592300  Surgical Intensive Care Unit (SICU)   \n",
      "\n",
      "        los  \n",
      "0  0.410266  \n",
      "1  3.893252  \n",
      "2  0.497535  \n",
      "3  1.118032  \n",
      "4  0.948113  \n"
     ]
    }
   ],
   "source": [
    "print(icustays.head())"
   ]
  },
  {
   "cell_type": "code",
   "execution_count": 37,
   "id": "7d40f91d-a3cc-491d-a73b-61b115c78a07",
   "metadata": {
    "scrolled": true
   },
   "outputs": [
    {
     "name": "stdout",
     "output_type": "stream",
     "text": [
      "   subject_id  prior_icu_admissions\n",
      "0    10000032                     1\n",
      "1    10000690                     1\n",
      "2    10000980                     1\n",
      "3    10001217                     2\n",
      "4    10001725                     1\n"
     ]
    }
   ],
   "source": [
    "print(icu_history.head())"
   ]
  },
  {
   "cell_type": "code",
   "execution_count": 85,
   "id": "c11aa5cb-dc34-44b3-8a05-0f7e1a7008a8",
   "metadata": {},
   "outputs": [],
   "source": [
    "chunksize = 200000\n",
    "# List of lab item IDs for the desired tests\n",
    "lab_ids = [\n",
    "    \"51300\",  # WBC Count\n",
    "    \"51111\",  # Hemoglobin\n",
    "    \"51265\",  # Platelet Count\n",
    "    \"52623\",  # Sodium\n",
    "    \"52610\",  # Potassium\n",
    "    \"52535\",  # Chloride\n",
    "    \"51739\",  # Total CO2 (surrogate for bicarbonate)\n",
    "    \"52569\",  # Glucose\n",
    "    \"52647\",  # Urea Nitrogen (BUN)\n",
    "    \"52546\",  # Creatinine\n",
    "    \"53084\",  # ALT\n",
    "    \"53088\",  # AST\n",
    "    \"53086\",  # Alkaline Phosphatase\n",
    "    \"53089\",  # Total Bilirubin\n",
    "    \"50889\",  # C-Reactive Protein (CRP)\n",
    "    \"50862\"   # Albumin\n",
    "]   # these tests werent extracted as \n",
    "\n",
    "# ---   Process Lab Events from hosp/labevents.csv.gz ---\n",
    "lab_chunks = []\n",
    "lab_file = os.path.join(data_path, \"hosp/labevents.csv.gz\")\n",
    "for chunk in pd.read_csv(\n",
    "        lab_file,\n",
    "        usecols=[\"subject_id\", \"hadm_id\", \"itemid\", \"charttime\", \"valuenum\"],\n",
    "        chunksize=chunksize,\n",
    "        low_memory=False):\n",
    "    # Filter for only the desired tests by itemid (cast to str for safe comparison)\n",
    "    chunk = chunk[chunk[\"itemid\"].astype(str).isin(lab_ids)]\n",
    "    lab_chunks.append(chunk)\n",
    "\n",
    "# Concatenate all filtered chunks\n",
    "lab_events = pd.concat(lab_chunks, ignore_index=True)\n",
    "lab_events.sort_values([\"subject_id\", \"hadm_id\", \"charttime\"], inplace=True)\n",
    "\n",
    "# Group by (subject_id, hadm_id, itemid) and keep only the first recorded value per test\n",
    "lab_first = lab_events.groupby([\"subject_id\", \"hadm_id\", \"itemid\"]).first().reset_index()"
   ]
  },
  {
   "cell_type": "code",
   "execution_count": 87,
   "id": "0a588def-a3eb-4cd1-8aae-09aa3fd1a373",
   "metadata": {},
   "outputs": [
    {
     "name": "stdout",
     "output_type": "stream",
     "text": [
      "    subject_id     hadm_id  itemid            charttime  valuenum\n",
      "4     10000032  22595853.0   51265  2180-05-07 05:05:00      71.0\n",
      "9     10000032  22841357.0   51265  2180-06-27 05:10:00     137.0\n",
      "10    10000032  22841357.0   50862  2180-06-27 05:10:00       2.7\n",
      "18    10000032  25742920.0   51265  2180-08-06 06:36:00     133.0\n",
      "19    10000032  25742920.0   50862  2180-08-06 06:36:00       3.5\n"
     ]
    }
   ],
   "source": [
    "print(lab_events.head())"
   ]
  },
  {
   "cell_type": "code",
   "execution_count": 105,
   "id": "c6ac1d53-6e56-4f90-897b-775f423ed981",
   "metadata": {},
   "outputs": [
    {
     "name": "stdout",
     "output_type": "stream",
     "text": [
      "(425393, 7)\n",
      "itemid  subject_id     hadm_id  Alb  CRP  Hb    Plt  WBC\n",
      "0         10000032  22595853.0  NaN  NaN NaN   71.0  NaN\n",
      "1         10000032  22841357.0  2.7  NaN NaN  137.0  NaN\n",
      "2         10000032  25742920.0  3.5  NaN NaN  133.0  NaN\n",
      "3         10000032  29079034.0  3.8  NaN NaN   94.0  NaN\n",
      "4         10000084  23052089.0  4.0  NaN NaN  263.0  NaN\n"
     ]
    }
   ],
   "source": [
    "# ---  Pivot the lab  data ---\n",
    "# Pivot on itemid (which is unique) to avoid duplicate errors,\n",
    "\n",
    "lab_pivot = lab_first.pivot(\n",
    "    index=[\"subject_id\", \"hadm_id\"],\n",
    "    columns=\"itemid\",\n",
    "    values=\"valuenum\"\n",
    ").reset_index()\n",
    "# rename columns using the abbreviation mapping\n",
    "lab_pivot.rename(columns={\n",
    "    50862: \"Alb\",    # Albumin: serum albumin concentration, a nutritional/inflammatory marker\n",
    "    50889: \"CRP\",    # CRP: C-Reactive Protein, an acute-phase reactant indicating inflammation\n",
    "    51111: \"Hb\",     # Hb: Hemoglobin, for oxygen-carrying capacity (assesses anemia)\n",
    "    51265: \"Plt\",    # Plt: Platelet Count, for clotting function\n",
    "    51300: \"WBC\"     # WBC: White Blood Cell Count, for immune/inflammatory status\n",
    "}, inplace=True)\n",
    "print(lab_pivot.shape)\n",
    "print(lab_pivot.head())\n"
   ]
  },
  {
   "cell_type": "code",
   "execution_count": 111,
   "id": "c44b104a-e303-4098-a07b-b14e7287d861",
   "metadata": {},
   "outputs": [],
   "source": [
    "chunksize = 200000\n",
    "\n",
    "# 1. Read the d_items table to get item metadata, focusing on abbreviation, unit, etc.\n",
    "d_items = pd.read_csv(\n",
    "    os.path.join(data_path, \"icu/d_items.csv.gz\"),\n",
    "    usecols=[\"itemid\", \"abbreviation\", \"category\", \"unitname\", \"param_type\"]\n",
    ")\n",
    "\n",
    "# 2. Read chartevents in chunks, storing them in a list\n",
    "chart_file = os.path.join(data_path, \"icu/chartevents.csv.gz\")\n",
    "chart_chunks = []\n",
    "\n",
    "for chunk in pd.read_csv(\n",
    "    chart_file,\n",
    "    usecols=[\"subject_id\", \"hadm_id\", \"stay_id\", \"itemid\", \"charttime\", \"valuenum\"],\n",
    "    chunksize=chunksize,\n",
    "    low_memory=True\n",
    "):\n",
    "    chart_chunks.append(chunk)\n",
    "\n",
    "# Concatenate all chunks\n",
    "chartevents = pd.concat(chart_chunks, ignore_index=True)\n",
    "\n",
    "# 3. Sort and group to keep only the first recorded value per (subject, hadm, itemid)\n",
    "chartevents.sort_values([\"subject_id\", \"hadm_id\", \"charttime\"], inplace=True)\n",
    "chartevents_first = chartevents.groupby([\"subject_id\", \"hadm_id\", \"itemid\"]).first().reset_index()\n",
    "\n",
    "# 4. Merge with d_items at the end to attach abbreviations and other metadata\n",
    "chartevents_first = chartevents_first.merge(d_items, on=\"itemid\", how=\"left\")"
   ]
  },
  {
   "cell_type": "code",
   "execution_count": 116,
   "id": "129ef90c-24c7-4c51-b4c1-6266bca14f18",
   "metadata": {},
   "outputs": [
    {
     "name": "stdout",
     "output_type": "stream",
     "text": [
      "(85242, 2313)\n",
      "itemid  subject_id   hadm_id  Problem List    HR  HR Alarm - High  \\\n",
      "0         10000032  29079034           NaN  91.0            120.0   \n",
      "1         10000690  25860671           NaN  79.0            120.0   \n",
      "2         10000980  26913865           NaN  77.0              NaN   \n",
      "3         10001217  24597018           NaN  86.0            120.0   \n",
      "4         10001217  27703517           NaN  96.0            120.0   \n",
      "\n",
      "itemid  HR Alarm - Low  Heart Rhythm  ABPs  ABPd  ABPm  ...  \\\n",
      "0                 60.0           NaN   NaN   NaN   NaN  ...   \n",
      "1                 50.0           NaN   NaN   NaN   NaN  ...   \n",
      "2                  NaN           NaN   NaN   NaN   NaN  ...   \n",
      "3                 60.0           NaN   NaN   NaN   NaN  ...   \n",
      "4                 60.0           NaN   NaN   NaN   NaN  ...   \n",
      "\n",
      "itemid  TUN SecurePort IV  Suction events  (L)  Internal FMS Care  \\\n",
      "0                     NaN                  NaN                NaN   \n",
      "1                     NaN                  NaN                NaN   \n",
      "2                     NaN                  NaN                NaN   \n",
      "3                     NaN                  NaN                NaN   \n",
      "4                     NaN                  NaN                NaN   \n",
      "\n",
      "itemid  Safety Related to  Safe Room  Safe Patient  Safe Staff  \\\n",
      "0                     NaN        NaN           NaN         NaN   \n",
      "1                     NaN        NaN           NaN         NaN   \n",
      "2                     NaN        NaN           NaN         NaN   \n",
      "3                     NaN        NaN           NaN         NaN   \n",
      "4                     NaN        NaN           NaN         NaN   \n",
      "\n",
      "itemid  Unable to assess reproductive  \\\n",
      "0                                 NaN   \n",
      "1                                 NaN   \n",
      "2                                 NaN   \n",
      "3                                 NaN   \n",
      "4                                 NaN   \n",
      "\n",
      "itemid  Pain Level Acceptable (PreIntervention)  P0.1  \n",
      "0                                           NaN   NaN  \n",
      "1                                           NaN   NaN  \n",
      "2                                           NaN   NaN  \n",
      "3                                           NaN   NaN  \n",
      "4                                           NaN   NaN  \n",
      "\n",
      "[5 rows x 2313 columns]\n"
     ]
    }
   ],
   "source": [
    "# 5. Pivot on the unique itemid to avoid duplicate abbreviation issues.\n",
    "chartevents_pivot = chartevents_first.pivot(\n",
    "    index=[\"subject_id\", \"hadm_id\"],\n",
    "    columns=\"itemid\",\n",
    "    values=\"valuenum\"\n",
    ").reset_index()\n",
    "\n",
    "# 6. Create a mapping from itemid to abbreviation.\n",
    "id_to_abbr = d_items.set_index(\"itemid\")[\"abbreviation\"].to_dict()\n",
    "\n",
    "# 7. Rename the pivoted columns using the mapping.\n",
    "chartevents_pivot.rename(columns=id_to_abbr, inplace=True)\n",
    "\n",
    "print(chartevents_pivot.shape)\n",
    "print(chartevents_pivot.head())"
   ]
  },
  {
   "cell_type": "code",
   "execution_count": 240,
   "id": "b7cff3ce-3636-4a78-b8c0-e90af23dca51",
   "metadata": {},
   "outputs": [
    {
     "name": "stdout",
     "output_type": "stream",
     "text": [
      "(85242, 31)\n",
      "itemid  subject_id   hadm_id  220045  220052  220120  220210  220224  220228  \\\n",
      "0         10000032  29079034    91.0     NaN     NaN    24.0     NaN     NaN   \n",
      "1         10000690  25860671    79.0     NaN     NaN    23.0   123.0     9.5   \n",
      "2         10000980  26913865    77.0     NaN     NaN    23.0     NaN     NaN   \n",
      "3         10001217  24597018    86.0     NaN     NaN    18.0     NaN    11.2   \n",
      "4         10001217  27703517    96.0     NaN     NaN    11.0     NaN    12.3   \n",
      "\n",
      "itemid  220235  220277  ...  223849  223900  223901  224828  225624  225668  \\\n",
      "0          NaN    98.0  ...     NaN     4.0     6.0     NaN    33.0     NaN   \n",
      "1         54.0   100.0  ...     NaN     5.0     6.0     0.0    21.0     NaN   \n",
      "2          NaN   100.0  ...    11.0     5.0     6.0     NaN     NaN     1.7   \n",
      "3          NaN    99.0  ...     NaN     5.0     6.0     NaN     9.0     NaN   \n",
      "4          NaN   100.0  ...     NaN     5.0     6.0     NaN    10.0     NaN   \n",
      "\n",
      "itemid  227442  227443  227457  228096  \n",
      "0          4.7    21.0     NaN     1.0  \n",
      "1          4.4    26.0   199.0     NaN  \n",
      "2          NaN     NaN     NaN     0.0  \n",
      "3          3.6    23.0   285.0    -1.0  \n",
      "4          4.3    24.0   299.0     0.0  \n",
      "\n",
      "[5 rows x 31 columns]\n"
     ]
    }
   ],
   "source": [
    "chunksize = 200000\n",
    "\n",
    "# List of item IDs to extract, based on your provided list\n",
    "icu_item_ids = [\n",
    "    # 1. Physiological Parameters\n",
    "    \"220045\",  # Heart Rate\n",
    "    \"220052\",  # Mean Arterial Blood Pressure\n",
    "    \"220210\",  # Respiratory Rate\n",
    "    \"220277\",  # Oxygen Saturation (pulseoxymetry)\n",
    "    \"223761\",  # Temperature Fahrenheit\n",
    "    \"220739\",  # GCS – Eye Opening\n",
    "    \"223900\",  # GCS – Verbal Response\n",
    "    \"223901\",  # GCS – Motor Response\n",
    "    \"228096\",  # Richmond-RAS Scale\n",
    "\n",
    "    # 2. Laboratory Results\n",
    "    \"220546\",  # WBC\n",
    "    \"220228\",  # Hemoglobin\n",
    "    \"227457\",  # Platelet Count\n",
    "    \"220645\",  # Sodium (serum)\n",
    "    \"227442\",  # Potassium (serum)\n",
    "    \"220602\",  # Chloride (serum)\n",
    "    \"227443\",  # HCO3 (serum)\n",
    "    \"225624\",  # BUN\n",
    "    \"220615\",  # Creatinine (serum)\n",
    "    \"220621\",  # Glucose (serum)\n",
    "    \"225668\",  # Lactic Acid\n",
    "    \"223830\",  # pH (Arterial)\n",
    "    \"220224\",  # Arterial O2 pressure (PaO2)\n",
    "    \"220235\",  # Arterial CO2 pressure (PaCO2)\n",
    "    \"224828\",  # Arterial Base Excess\n",
    "\n",
    "    # 3. Intervention-Based Variables\n",
    "    \"223849\",  # Ventilator Mode\n",
    "    \"223836\",  # Airway Type\n",
    "    \"223835\",  # Inspired O2 Fraction (FiO2)\n",
    "    \"220339\",  # PEEP set\n",
    "    \"227210\",  # Propofol (Intubation)\n",
    "    \"227211\",  # Ketamine (Intubation)\n",
    "    \"227213\",  # Vecuronium (Intubation)\n",
    "    \"220120\"   # Intra-Aortic Balloon Pump (IABP)\n",
    "]\n",
    "\n",
    "# Read the ICU chartevents in chunks and filter to only include our items of interest\n",
    "chart_file = os.path.join(data_path, \"icu/chartevents.csv.gz\")\n",
    "chart_chunks = []\n",
    "for chunk in pd.read_csv(\n",
    "    chart_file,\n",
    "    usecols=[\"subject_id\", \"hadm_id\", \"stay_id\", \"itemid\", \"charttime\", \"valuenum\"],\n",
    "    chunksize=chunksize,\n",
    "    low_memory=True\n",
    "):\n",
    "    # Convert itemid to string for safe matching, then filter\n",
    "    chunk = chunk[chunk[\"itemid\"].astype(str).isin(icu_item_ids)]\n",
    "    chart_chunks.append(chunk)\n",
    "\n",
    "# Concatenate all filtered chunks\n",
    "icu_chartevents = pd.concat(chart_chunks, ignore_index=True)\n",
    "\n",
    "#  sort by subject, admission, and charttime, then keep the first recorded value per (subject, hadm, itemid)\n",
    "icu_chartevents.sort_values([\"subject_id\", \"hadm_id\", \"charttime\"], inplace=True)\n",
    "icu_first = icu_chartevents.groupby([\"subject_id\", \"hadm_id\", \"itemid\"]).first().reset_index()\n",
    "\n",
    "# Optional: Pivot so that each admission is one row with a column per itemid\n",
    "icu_pivot = icu_first.pivot(\n",
    "    index=[\"subject_id\", \"hadm_id\"],\n",
    "    columns=\"itemid\",\n",
    "    values=\"valuenum\"\n",
    ").reset_index()\n",
    "\n",
    "print(icu_pivot.shape)\n",
    "print(icu_pivot.head())"
   ]
  },
  {
   "cell_type": "code",
   "execution_count": 248,
   "id": "4066f434-813c-41b0-8c9b-935ba8ac44d3",
   "metadata": {},
   "outputs": [],
   "source": [
    "id_to_label = {\n",
    "    220045: \"heart_rate\",      # Heart Rate\n",
    "    220052: \"map\",             # Mean Arterial Blood Pressure\n",
    "    220210: \"resp_rate\",       # Respiratory Rate\n",
    "    220277: \"spo2\",            # Oxygen Saturation\n",
    "    223761: \"temp\",            # Temperature Fahrenheit\n",
    "    220739: \"gcs_eye\",         # GCS – Eye Opening\n",
    "    223900: \"gcs_verbal\",      # GCS – Verbal Response\n",
    "    223901: \"gcs_motor\",       # GCS – Motor Response\n",
    "    228096: \"ras_scale\",       # Richmond-RAS Scale\n",
    "    220546: \"wbc\",             # White Blood Cell Count\n",
    "    220228: \"hb\",              # Hemoglobin\n",
    "    227457: \"plt\",             # Platelet Count\n",
    "    220645: \"sodium\",          # Sodium (serum)\n",
    "    227442: \"potassium\",       # Potassium (serum)\n",
    "    220602: \"chloride\",        # Chloride (serum)\n",
    "    227443: \"hco3\",            # HCO3 (serum)\n",
    "    225624: \"bun\",             # BUN\n",
    "    220615: \"creatinine\",      # Creatinine (serum)\n",
    "    220621: \"glucose\",         # Glucose (serum)\n",
    "    225668: \"lactate\",         # Lactic Acid\n",
    "    223830: \"ph\",              # pH (Arterial)\n",
    "    220224: \"pao2\",            # Arterial O2 pressure (PaO₂)\n",
    "    220235: \"paco2\",           # Arterial CO₂ pressure (PaCO₂)\n",
    "    224828: \"base_excess\",     # Arterial Base Excess\n",
    "    223849: \"vent_mode\",       # Ventilator Mode\n",
    "    223836: \"airway\",          # Airway Type\n",
    "    223835: \"fio2\",            # Inspired O₂ Fraction (FiO₂)\n",
    "    220339: \"peep\",            # PEEP set\n",
    "    227210: \"propofol\",        # Propofol (Intubation)\n",
    "    227211: \"ketamine\",        # Ketamine (Intubation)\n",
    "    227213: \"vecuronium\",      # Vecuronium (Intubation)\n",
    "    220120: \"iabp\"             # Intra-Aortic Balloon Pump (IABP)\n",
    "}\n",
    "\n",
    "icu_pivot.rename(columns=lambda col: \"icu_\" + id_to_label[col]\n",
    "                                  if col not in [\"subject_id\", \"hadm_id\"] and col in id_to_label\n",
    "                                  else col,\n",
    "                 inplace=True)\n",
    "\n"
   ]
  },
  {
   "cell_type": "code",
   "execution_count": 250,
   "id": "33e42947-4c65-4234-866a-f5b65e28cdf2",
   "metadata": {},
   "outputs": [
    {
     "name": "stdout",
     "output_type": "stream",
     "text": [
      "(85242, 31)\n",
      "itemid  subject_id   hadm_id  icu_hr  icu_map  icu_iabp  icu_rr  icu_pao2  \\\n",
      "0         10000032  29079034    91.0      NaN       NaN    24.0       NaN   \n",
      "1         10000690  25860671    79.0      NaN       NaN    23.0     123.0   \n",
      "2         10000980  26913865    77.0      NaN       NaN    23.0       NaN   \n",
      "3         10001217  24597018    86.0      NaN       NaN    18.0       NaN   \n",
      "4         10001217  27703517    96.0      NaN       NaN    11.0       NaN   \n",
      "\n",
      "itemid  icu_hb  icu_paco2  icu_spo2  ...  icu_vent_mode  icu_gcs_verbal  \\\n",
      "0          NaN        NaN      98.0  ...            NaN             4.0   \n",
      "1          9.5       54.0     100.0  ...            NaN             5.0   \n",
      "2          NaN        NaN     100.0  ...           11.0             5.0   \n",
      "3         11.2        NaN      99.0  ...            NaN             5.0   \n",
      "4         12.3        NaN     100.0  ...            NaN             5.0   \n",
      "\n",
      "itemid  icu_gcs_motor  icu_base_excess  icu_bun  icu_lactate  icu_potassium  \\\n",
      "0                 6.0              NaN     33.0          NaN            4.7   \n",
      "1                 6.0              0.0     21.0          NaN            4.4   \n",
      "2                 6.0              NaN      NaN          1.7            NaN   \n",
      "3                 6.0              NaN      9.0          NaN            3.6   \n",
      "4                 6.0              NaN     10.0          NaN            4.3   \n",
      "\n",
      "itemid  icu_hco3  icu_plt  icu_rass  \n",
      "0           21.0      NaN       1.0  \n",
      "1           26.0    199.0       NaN  \n",
      "2            NaN      NaN       0.0  \n",
      "3           23.0    285.0      -1.0  \n",
      "4           24.0    299.0       0.0  \n",
      "\n",
      "[5 rows x 31 columns]\n"
     ]
    }
   ],
   "source": [
    "print(icu_pivot.shape)\n",
    "print(icu_pivot.head())"
   ]
  },
  {
   "cell_type": "code",
   "execution_count": 120,
   "id": "44f48eba-6de2-4f58-9b7b-86126ce74059",
   "metadata": {},
   "outputs": [],
   "source": [
    "# Load prescriptions and flag high-risk medications\n",
    "prescriptions = pd.read_csv(os.path.join(data_path, \"hosp/prescriptions.csv.gz\"),\n",
    "                            usecols=[\"subject_id\", \"hadm_id\", \"drug\"],\n",
    "                            low_memory=False)\n",
    "# Standardize the drug names\n",
    "prescriptions[\"drug\"] = prescriptions[\"drug\"].astype(str).str.lower().str.strip()\n",
    "\n",
    "# Retain a list of all drugs per admission\n",
    "all_drugs = prescriptions.groupby([\"subject_id\", \"hadm_id\"])[\"drug\"].agg(list).reset_index()\n",
    "\n",
    "# Define expanded high-risk medications list based on literature\n",
    "high_risk_meds = [\n",
    "    \"lorazepam\", \"midazolam\", \"diazepam\", \"clonazepam\", \"alprazolam\", \"temazepam\", \"chlordiazepoxide\",\n",
    "    \"morphine\", \"fentanyl\", \"hydromorphone\", \"oxycodone\", \"meperidine\", \"codeine\", \"tramadol\", \"buprenorphine\",\n",
    "    \"propofol\", \"dexmedetomidine\",\n",
    "    \"haloperidol\", \"olanzapine\", \"quetiapine\", \"risperidone\", \"ziprasidone\", \"chlorpromazine\", \"aripiprazole\",\n",
    "    \"diphenhydramine\", \"hydroxyzine\", \"promethazine\", \"oxybutynin\", \"scopolamine\", \"benztropine\", \"atropine\",\n",
    "    \"dexamethasone\", \"prednisone\", \"methylprednisolone\", \"hydrocortisone\",\n",
    "    \"metoclopramide\", \"cyclobenzaprine\", \"baclofen\", \"amantadine\"\n",
    "]\n",
    "\n",
    "# Flag high-risk medications\n",
    "prescriptions[\"high_risk_med\"] = prescriptions[\"drug\"].apply(\n",
    "    lambda x: 1 if any(med in x for med in high_risk_meds) else 0\n",
    ")\n",
    " "
   ]
  },
  {
   "cell_type": "code",
   "execution_count": 150,
   "id": "e9975420-c020-40b1-a2a7-93c0695b7862",
   "metadata": {},
   "outputs": [],
   "source": [
    "# --- 4. Compute Metrics per Admission ---\n",
    "# a) Unique count of high-risk medications per admission\n",
    "unique_high_risk_med = prescriptions[prescriptions[\"high_risk_med\"] == 1] \\\n",
    "    .groupby([\"subject_id\", \"hadm_id\"])[\"drug\"] \\\n",
    "    .nunique().reset_index(name=\"unique_high_risk_med\")\n",
    "\n",
    "# b) Total count of high-risk medication prescriptions per admission\n",
    "high_risk_med_count = prescriptions.groupby([\"subject_id\", \"hadm_id\"])[\"high_risk_med\"] \\\n",
    "    .sum().reset_index(name=\"high_risk_med_count\")\n",
    "\n",
    "# c) Binary flag: 1 if any high-risk medication was prescribed, else 0.\n",
    "high_risk_med_flag = prescriptions.groupby([\"subject_id\", \"hadm_id\"])[\"high_risk_med\"] \\\n",
    "    .max().reset_index(name=\"high_risk_med_flag\")\n",
    "\n",
    "# --- 5. Merge the Metrics into a Single Summary DataFrame ---\n",
    "high_risk_med_summary = high_risk_med_flag.merge(unique_high_risk_med, on=[\"subject_id\", \"hadm_id\"], how=\"left\") \\\n",
    "                                      .merge(high_risk_med_count, on=[\"subject_id\", \"hadm_id\"], how=\"left\")\n",
    "\n",
    "# Fill missing unique_high_risk_count with 0 (for admissions with no high-risk meds)\n",
    "high_risk_med_summary[\"unique_high_risk_med\"] = high_risk_med_summary[\"unique_high_risk_med\"].fillna(0).astype(int)\n"
   ]
  },
  {
   "cell_type": "code",
   "execution_count": 136,
   "id": "ccc3a0d7-24e3-4589-a58e-490f73790b1a",
   "metadata": {},
   "outputs": [
    {
     "name": "stdout",
     "output_type": "stream",
     "text": [
      "   subject_id   hadm_id                                               drug\n",
      "0    10000032  22595853  [furosemide, ipratropium bromide neb, furosemi...\n",
      "1    10000032  22841357  [furosemide, rifaximin, sodium chloride 0.9%  ...\n",
      "2    10000032  25742920  [sodium chloride 0.9%  flush, 0.9% sodium chlo...\n",
      "3    10000032  29079034  [bisacodyl, bisacodyl, senna, calcium carbonat...\n",
      "4    10000084  23052089  [pramipexole, pravastatin, rivastigmine, senna...\n"
     ]
    }
   ],
   "source": [
    "print(all_drugs.head())"
   ]
  },
  {
   "cell_type": "code",
   "execution_count": 158,
   "id": "96e63b3a-bd33-421d-bbd1-4cae12779a67",
   "metadata": {},
   "outputs": [
    {
     "name": "stdout",
     "output_type": "stream",
     "text": [
      "🔍  high_risk_med_counts:\n",
      "unique_high_risk_med\n",
      "1     0.210220\n",
      "2     0.206627\n",
      "0     0.196643\n",
      "3     0.143022\n",
      "4     0.092807\n",
      "5     0.058902\n",
      "6     0.036326\n",
      "7     0.021836\n",
      "8     0.012941\n",
      "9     0.007811\n",
      "10    0.004884\n",
      "11    0.003080\n",
      "12    0.001960\n",
      "13    0.001256\n",
      "14    0.000676\n",
      "15    0.000442\n",
      "16    0.000257\n",
      "17    0.000149\n",
      "18    0.000047\n",
      "20    0.000032\n",
      "19    0.000030\n",
      "21    0.000024\n",
      "22    0.000015\n",
      "26    0.000004\n",
      "23    0.000004\n",
      "24    0.000004\n",
      "Name: proportion, dtype: float64\n",
      "   subject_id   hadm_id  high_risk_med_flag  unique_high_risk_med  \\\n",
      "0    10000032  22595853                   0                     0   \n",
      "1    10000032  22841357                   0                     0   \n",
      "2    10000032  25742920                   1                     2   \n",
      "3    10000032  29079034                   1                     1   \n",
      "4    10000084  23052089                   1                     1   \n",
      "\n",
      "   high_risk_med_count  \n",
      "0                    0  \n",
      "1                    0  \n",
      "2                    3  \n",
      "3                    2  \n",
      "4                    2  \n"
     ]
    }
   ],
   "source": [
    "print(\"🔍  high_risk_med_counts:\")\n",
    "print(high_risk_med_summary[\"unique_high_risk_med\"].value_counts(normalize=True)) \n",
    "print(high_risk_med_summary.head()) "
   ]
  },
  {
   "cell_type": "code",
   "execution_count": 299,
   "id": "efdca566-46ba-451a-9d51-8300515204d4",
   "metadata": {},
   "outputs": [],
   "source": [
    "# Define Palliative Care ICD Codes in Diagnosis Table \n",
    "palliative_care_codes = [\"Z515\", \"V667\"]\n",
    "\n",
    "# Create Palliative Care Flag Based on Diagnoses\n",
    "diagnosis_counts[\"palliative_care_flag\"] = diagnosis_counts[\"diagnosis_list\"].apply(\n",
    "    lambda x: 1 if any(code in palliative_care_codes for code in x) else 0\n",
    ")"
   ]
  },
  {
   "cell_type": "code",
   "execution_count": 301,
   "id": "dd736e82-2fc3-45d2-8f15-619d560a91a2",
   "metadata": {},
   "outputs": [
    {
     "name": "stdout",
     "output_type": "stream",
     "text": [
      "0\n"
     ]
    }
   ],
   "source": [
    "print(diagnosis_counts.duplicated(subset=[\"subject_id\", \"hadm_id\"]).sum())\n"
   ]
  },
  {
   "cell_type": "code",
   "execution_count": 265,
   "id": "89ee5048-f463-463c-8545-b7b5a6ba4e85",
   "metadata": {},
   "outputs": [
    {
     "name": "stdout",
     "output_type": "stream",
     "text": [
      "🔍 Palliative Care Flag Distribution:\n",
      "palliative_care_flag\n",
      "0    0.976385\n",
      "1    0.023615\n",
      "Name: proportion, dtype: float64\n"
     ]
    }
   ],
   "source": [
    "print(\"🔍 Palliative Care Flag Distribution:\")\n",
    "print(diagnosis_counts[\"palliative_care_flag\"].value_counts(normalize=True))\n"
   ]
  },
  {
   "cell_type": "code",
   "execution_count": 267,
   "id": "cb0980a9-9bff-4b32-941d-cce964d2611f",
   "metadata": {},
   "outputs": [],
   "source": [
    "# Define ICD codes for cognitive impairment (e.g., Dementia, Alzheimer's) \n",
    "# Alzheimer's Disease\n",
    "cognitive_impairment_codes = [\n",
    "    \"G30\", \"G300\", \"G301\", \"G308\", \"G309\",  # Alzheimer's disease\n",
    "]\n",
    "# Vascular Dementia\n",
    "cognitive_impairment_codes += [\n",
    "    \"F0150\", \"F0151\", \"F01.A0\", \"F01A1\", \"F01B0\", \"F01B1\", \"F01C0\", \"F01C1\",  # Vascular dementia\n",
    "]\n",
    "# Dementia in Other Diseases\n",
    "cognitive_impairment_codes += [\n",
    "    \"F0280\", \"F0281\"  # Dementia in other diseases classified elsewhere\n",
    "]\n",
    "# Unspecified Dementia\n",
    "cognitive_impairment_codes += [\n",
    "    \"F03\", \"F0390\", \"F0391\"  # Unspecified dementia\n",
    "]\n",
    "# Mild Cognitive Impairment\n",
    "cognitive_impairment_codes += [\n",
    "    \"G31\", \"G3184\"  # Mild cognitive impairment\n",
    "]"
   ]
  },
  {
   "cell_type": "code",
   "execution_count": 303,
   "id": "e90d9a22-cd1a-41bd-b979-f5e9f82cdb0d",
   "metadata": {},
   "outputs": [],
   "source": [
    "# Create flag for cognitive impairment\n",
    "diagnosis_counts[\"cognitive_impairment_flag\"] = diagnosis_counts[\"diagnosis_list\"].apply(\n",
    "    lambda x: 1 if any(str(code) in cognitive_impairment_codes for code in x) else 0\n",
    ") "
   ]
  },
  {
   "cell_type": "code",
   "execution_count": 270,
   "id": "3a47f5f4-b15f-4d5e-ad77-19520d800ab5",
   "metadata": {},
   "outputs": [
    {
     "name": "stdout",
     "output_type": "stream",
     "text": [
      "🔍 cognitive_impairment_flag Flag Distribution:\n",
      "cognitive_impairment_flag\n",
      "0    0.976255\n",
      "1    0.023745\n",
      "Name: proportion, dtype: float64\n"
     ]
    }
   ],
   "source": [
    "print(\"🔍 cognitive_impairment_flag Flag Distribution:\")\n",
    "print(diagnosis_counts[\"cognitive_impairment_flag\"].value_counts(normalize=True))\n"
   ]
  },
  {
   "cell_type": "code",
   "execution_count": 305,
   "id": "a9ccacc8-be3c-457d-b418-60b77b86c22d",
   "metadata": {},
   "outputs": [],
   "source": [
    "# Define ICD Codes for Delirium\n",
    "delirium_icd_codes = [\"F05\", \"2930\", \"2931\",\"F051\",\"F050\",\"F059\" ]  # ICD-10 & ICD-9 Codes\n",
    "# Ensure diagnosis_list is a list, and handle missing values\n",
    "diagnosis_counts[\"delirium\"] = diagnosis_counts[\"diagnosis_list\"].apply(\n",
    "    lambda x: 1 if isinstance(x, list) and any(code in delirium_icd_codes for code in x) else 0\n",
    ")"
   ]
  },
  {
   "cell_type": "code",
   "execution_count": 307,
   "id": "c526e429-50e3-4d30-bf70-93f6d842eeba",
   "metadata": {},
   "outputs": [
    {
     "name": "stdout",
     "output_type": "stream",
     "text": [
      "0\n"
     ]
    }
   ],
   "source": [
    "#test merge issue\n",
    "print(diagnosis_counts.duplicated(subset=[\"subject_id\", \"hadm_id\"]).sum())\n"
   ]
  },
  {
   "cell_type": "code",
   "execution_count": 275,
   "id": "24979b71-11cd-4e47-9d99-ee5426460ae3",
   "metadata": {},
   "outputs": [
    {
     "name": "stdout",
     "output_type": "stream",
     "text": [
      "delirium\n",
      "0    0.982277\n",
      "1    0.017723\n",
      "Name: proportion, dtype: float64\n"
     ]
    }
   ],
   "source": [
    "print(diagnosis_counts[\"delirium\"].value_counts(normalize=True))"
   ]
  },
  {
   "cell_type": "code",
   "execution_count": 309,
   "id": "19506779-921a-4e54-b2bb-97b8922c4cdd",
   "metadata": {},
   "outputs": [],
   "source": [
    "# Create an empty DataFrame with the key columns\n",
    "core_data = pd.DataFrame(columns=[\"subject_id\", \"hadm_id\"])\n"
   ]
  },
  {
   "cell_type": "code",
   "execution_count": 287,
   "id": "100cee1d-266f-4155-aaa7-44c8e5a75305",
   "metadata": {},
   "outputs": [
    {
     "name": "stdout",
     "output_type": "stream",
     "text": [
      "count    545497.000000\n",
      "mean         11.667320\n",
      "std           7.625992\n",
      "min           1.000000\n",
      "25%           6.000000\n",
      "50%          10.000000\n",
      "75%          16.000000\n",
      "max          57.000000\n",
      "dtype: float64\n"
     ]
    }
   ],
   "source": [
    "print(diagnoses.groupby([\"subject_id\", \"hadm_id\"]).size().describe())\n"
   ]
  },
  {
   "cell_type": "code",
   "execution_count": 311,
   "id": "2bdc4956-2f9d-496b-a8c7-54231ab1d22e",
   "metadata": {},
   "outputs": [],
   "source": [
    "# 1. Create core_data as the base using admissions and patients (one row per admission)\n",
    "core_data = admissions.merge(patients, on=\"subject_id\", how=\"inner\")\n",
    "\n",
    "# 2. Merge diagnosis_counts for key flags (palliative care, delirium, cognitive impairment)\n",
    "core_data = core_data.merge(\n",
    "    diagnosis_counts[[\"subject_id\", \"hadm_id\", \"palliative_care_flag\", \"delirium\", \"cognitive_impairment_flag\",\"num_comorbidities\"]],\n",
    "    on=[\"subject_id\", \"hadm_id\"],\n",
    "    how=\"left\"\n",
    ")\n",
    "\n",
    "# Fill missing values for these flags\n",
    "core_data[\"palliative_care_flag\"] = core_data[\"palliative_care_flag\"].fillna(0).astype(int)\n",
    "core_data[\"delirium\"] = core_data[\"delirium\"].fillna(0).astype(int)\n",
    "core_data[\"cognitive_impairment_flag\"] = core_data[\"cognitive_impairment_flag\"].fillna(0).astype(int)\n",
    "\n",
    "# 3. Merge diagnoses if needed\n",
    "core_data = core_data.merge(diagnoses, on=[\"subject_id\", \"hadm_id\"], how=\"left\")\n",
    "\n",
    "# 4. Merge ICU data\n",
    "core_data = core_data.merge(icustays, on=[\"subject_id\", \"hadm_id\"], how=\"left\")\n",
    "core_data = core_data.merge(icu_history, on=\"subject_id\", how=\"left\")\n",
    "#  ICU vitals + other icu chart events \n",
    "core_data = core_data.merge(icu_pivot, on=[\"subject_id\", \"hadm_id\"], how=\"left\")\n",
    "\n",
    "# 5. Merge high-risk medication summary and all_drugs\n",
    "core_data = core_data.merge(high_risk_med_summary, on=[\"subject_id\", \"hadm_id\"], how=\"left\")\n",
    "core_data = core_data.merge(all_drugs, on=[\"subject_id\", \"hadm_id\"], how=\"left\")\n",
    "\n",
    "# 6. Merge lab results\n",
    "core_data = core_data.merge(lab_pivot, on=[\"subject_id\", \"hadm_id\"], how=\"left\")\n",
    "\n",
    "\n",
    "\n",
    "# (Optional) Fill additional missing values if needed\n",
    "core_data[\"num_comorbidities\"] = core_data[\"num_comorbidities\"].fillna(0).astype(int)\n",
    "core_data[\"prior_icu_admissions\"] = core_data[\"prior_icu_admissions\"].fillna(0).astype(int)\n"
   ]
  },
  {
   "cell_type": "code",
   "execution_count": 312,
   "id": "7693eb20-8ffb-4fa2-aa4e-429c0f33d514",
   "metadata": {},
   "outputs": [
    {
     "name": "stdout",
     "output_type": "stream",
     "text": [
      "Index(['subject_id', 'hadm_id', 'admission_type', 'admission_location',\n",
      "       'discharge_location', 'insurance', 'marital_status', 'race',\n",
      "       'ed_time_spent', 'los_hosp', 'gender', 'anchor_age', 'anchor_year',\n",
      "       'palliative_care_flag', 'delirium', 'cognitive_impairment_flag',\n",
      "       'num_comorbidities', 'icd_code', 'stay_id', 'last_careunit', 'los',\n",
      "       'prior_icu_admissions', 'icu_hr', 'icu_map', 'icu_iabp', 'icu_rr',\n",
      "       'icu_pao2', 'icu_hb', 'icu_paco2', 'icu_spo2', 'icu_peep', 'icu_wbc',\n",
      "       'icu_chloride', 'icu_creatinine', 'icu_glucose', 'icu_sodium',\n",
      "       'icu_gcs_eye', 'icu_temp', 'icu_ph', 'icu_fio2', 'icu_airway',\n",
      "       'icu_vent_mode', 'icu_gcs_verbal', 'icu_gcs_motor', 'icu_base_excess',\n",
      "       'icu_bun', 'icu_lactate', 'icu_potassium', 'icu_hco3', 'icu_plt',\n",
      "       'icu_rass', 'high_risk_med_flag', 'unique_high_risk_med',\n",
      "       'high_risk_med_count', 'drug', 'Alb', 'CRP', 'Hb', 'Plt', 'WBC'],\n",
      "      dtype='object')\n",
      "   subject_id   hadm_id admission_type      admission_location  \\\n",
      "0    10000032  22595853         URGENT  TRANSFER FROM HOSPITAL   \n",
      "1    10000032  22595853         URGENT  TRANSFER FROM HOSPITAL   \n",
      "2    10000032  22595853         URGENT  TRANSFER FROM HOSPITAL   \n",
      "3    10000032  22595853         URGENT  TRANSFER FROM HOSPITAL   \n",
      "4    10000032  22595853         URGENT  TRANSFER FROM HOSPITAL   \n",
      "\n",
      "  discharge_location insurance marital_status   race  ed_time_spent  los_hosp  \\\n",
      "0               HOME  Medicaid        WIDOWED  WHITE          253.0  0.786111   \n",
      "1               HOME  Medicaid        WIDOWED  WHITE          253.0  0.786111   \n",
      "2               HOME  Medicaid        WIDOWED  WHITE          253.0  0.786111   \n",
      "3               HOME  Medicaid        WIDOWED  WHITE          253.0  0.786111   \n",
      "4               HOME  Medicaid        WIDOWED  WHITE          253.0  0.786111   \n",
      "\n",
      "   ... icu_rass  high_risk_med_flag  unique_high_risk_med  \\\n",
      "0  ...      NaN                 0.0                   0.0   \n",
      "1  ...      NaN                 0.0                   0.0   \n",
      "2  ...      NaN                 0.0                   0.0   \n",
      "3  ...      NaN                 0.0                   0.0   \n",
      "4  ...      NaN                 0.0                   0.0   \n",
      "\n",
      "   high_risk_med_count                                               drug  \\\n",
      "0                  0.0  [furosemide, ipratropium bromide neb, furosemi...   \n",
      "1                  0.0  [furosemide, ipratropium bromide neb, furosemi...   \n",
      "2                  0.0  [furosemide, ipratropium bromide neb, furosemi...   \n",
      "3                  0.0  [furosemide, ipratropium bromide neb, furosemi...   \n",
      "4                  0.0  [furosemide, ipratropium bromide neb, furosemi...   \n",
      "\n",
      "   Alb  CRP  Hb   Plt WBC  \n",
      "0  NaN  NaN NaN  71.0 NaN  \n",
      "1  NaN  NaN NaN  71.0 NaN  \n",
      "2  NaN  NaN NaN  71.0 NaN  \n",
      "3  NaN  NaN NaN  71.0 NaN  \n",
      "4  NaN  NaN NaN  71.0 NaN  \n",
      "\n",
      "[5 rows x 60 columns]\n",
      "<class 'pandas.core.frame.DataFrame'>\n",
      "RangeIndex: 6599888 entries, 0 to 6599887\n",
      "Data columns (total 60 columns):\n",
      " #   Column                     Dtype  \n",
      "---  ------                     -----  \n",
      " 0   subject_id                 int64  \n",
      " 1   hadm_id                    int64  \n",
      " 2   admission_type             object \n",
      " 3   admission_location         object \n",
      " 4   discharge_location         object \n",
      " 5   insurance                  object \n",
      " 6   marital_status             object \n",
      " 7   race                       object \n",
      " 8   ed_time_spent              float64\n",
      " 9   los_hosp                   float64\n",
      " 10  gender                     object \n",
      " 11  anchor_age                 int64  \n",
      " 12  anchor_year                int64  \n",
      " 13  palliative_care_flag       int32  \n",
      " 14  delirium                   int32  \n",
      " 15  cognitive_impairment_flag  int32  \n",
      " 16  num_comorbidities          int32  \n",
      " 17  icd_code                   object \n",
      " 18  stay_id                    float64\n",
      " 19  last_careunit              object \n",
      " 20  los                        float64\n",
      " 21  prior_icu_admissions       int32  \n",
      " 22  icu_hr                     float64\n",
      " 23  icu_map                    float64\n",
      " 24  icu_iabp                   float64\n",
      " 25  icu_rr                     float64\n",
      " 26  icu_pao2                   float64\n",
      " 27  icu_hb                     float64\n",
      " 28  icu_paco2                  float64\n",
      " 29  icu_spo2                   float64\n",
      " 30  icu_peep                   float64\n",
      " 31  icu_wbc                    float64\n",
      " 32  icu_chloride               float64\n",
      " 33  icu_creatinine             float64\n",
      " 34  icu_glucose                float64\n",
      " 35  icu_sodium                 float64\n",
      " 36  icu_gcs_eye                float64\n",
      " 37  icu_temp                   float64\n",
      " 38  icu_ph                     float64\n",
      " 39  icu_fio2                   float64\n",
      " 40  icu_airway                 float64\n",
      " 41  icu_vent_mode              float64\n",
      " 42  icu_gcs_verbal             float64\n",
      " 43  icu_gcs_motor              float64\n",
      " 44  icu_base_excess            float64\n",
      " 45  icu_bun                    float64\n",
      " 46  icu_lactate                float64\n",
      " 47  icu_potassium              float64\n",
      " 48  icu_hco3                   float64\n",
      " 49  icu_plt                    float64\n",
      " 50  icu_rass                   float64\n",
      " 51  high_risk_med_flag         float64\n",
      " 52  unique_high_risk_med       float64\n",
      " 53  high_risk_med_count        float64\n",
      " 54  drug                       object \n",
      " 55  Alb                        float64\n",
      " 56  CRP                        float64\n",
      " 57  Hb                         float64\n",
      " 58  Plt                        float64\n",
      " 59  WBC                        float64\n",
      "dtypes: float64(41), int32(5), int64(4), object(10)\n",
      "memory usage: 2.8+ GB\n",
      "None\n"
     ]
    }
   ],
   "source": [
    "# Print the column names\n",
    "print(core_data.columns)\n",
    "\n",
    "# Display the first 5 rows\n",
    "print(core_data.head())\n",
    "\n",
    "# Alternatively, get a concise summary including non-null counts and dtypes\n",
    "print(core_data.info())\n"
   ]
  },
  {
   "cell_type": "code",
   "execution_count": 316,
   "id": "fad1145a-093c-4118-9bcd-6b7d06b3d942",
   "metadata": {},
   "outputs": [
    {
     "name": "stdout",
     "output_type": "stream",
     "text": [
      "🔍 Number of Unique Patients: 223452\n",
      "🔍 Total Rows in Dataset: 6599888\n",
      "🔍 Distribution of Patient Admissions:\n",
      "count    223452.000000\n",
      "mean         29.536044\n",
      "std          56.473785\n",
      "min           1.000000\n",
      "25%           6.000000\n",
      "50%          13.000000\n",
      "75%          30.000000\n",
      "max        2570.000000\n",
      "Name: count, dtype: float64\n"
     ]
    }
   ],
   "source": [
    "#Linkage Data Quality \n",
    "df=core_data\n",
    "#Count occurrences of each patient (subject_id)\n",
    "patient_counts = df[\"subject_id\"].value_counts()\n",
    "\n",
    "# Display summary\n",
    "print(\"🔍 Number of Unique Patients:\", df[\"subject_id\"].nunique())\n",
    "print(\"🔍 Total Rows in Dataset:\", df.shape[0])\n",
    "print(\"🔍 Distribution of Patient Admissions:\")\n",
    "print(patient_counts.describe())  # Summary statistics for occurrences"
   ]
  },
  {
   "cell_type": "code",
   "execution_count": 283,
   "id": "04deb95c-5856-4f7e-851c-d61948c7f784",
   "metadata": {},
   "outputs": [
    {
     "name": "stdout",
     "output_type": "stream",
     "text": [
      "✅ Cleaned dataset saved successfully! One row per admission.\n"
     ]
    }
   ],
   "source": [
    "# Step 4: Save Processed Data for ML Modeling\n",
    "output_path = \"D:/MIMIC-IV-Data-Pipeline/processed_data\"\n",
    "os.makedirs(output_path, exist_ok=True)\n",
    "core_data.to_csv(os.path.join(output_path, \"delirium_prediction_data_v6.csv.gz\"), index=False, compression='gzip')\n",
    "\n",
    "print(\"✅ Cleaned dataset saved successfully! One row per admission.\")"
   ]
  },
  {
   "cell_type": "code",
   "execution_count": null,
   "id": "95407233-226a-4e15-997f-2071cdfaab45",
   "metadata": {},
   "outputs": [],
   "source": []
  }
 ],
 "metadata": {
  "kernelspec": {
   "display_name": "Python [conda env:base] *",
   "language": "python",
   "name": "conda-base-py"
  },
  "language_info": {
   "codemirror_mode": {
    "name": "ipython",
    "version": 3
   },
   "file_extension": ".py",
   "mimetype": "text/x-python",
   "name": "python",
   "nbconvert_exporter": "python",
   "pygments_lexer": "ipython3",
   "version": "3.12.7"
  }
 },
 "nbformat": 4,
 "nbformat_minor": 5
}
