{
 "cells": [
  {
   "cell_type": "code",
   "execution_count": 17,
   "id": "bf435af2-866d-49f1-97d2-0e8e0fa8e0c0",
   "metadata": {},
   "outputs": [
    {
     "name": "stdout",
     "output_type": "stream",
     "text": [
      "📊 Model performance data has been successfully saved to Excel: D:/MIMIC-IV-Data-Pipeline/model_performance.xlsx\n",
      "                  Model  Accuracy  Precision (Delirium = 1)  \\\n",
      "0               XGBoost  0.825275                  0.081160   \n",
      "1      LogisticReg_Base  0.981897                  0.420168   \n",
      "2      LogisticReg_Base  0.981897                  0.420168   \n",
      "3     LogisticReg_SMOTE  0.814763                  0.076177   \n",
      "4  LogisticReg_Balanced  0.815761                  0.077038   \n",
      "\n",
      "   Recall (Delirium = 1)  F1-Score (Delirium = 1) Confusion Matrix  \\\n",
      "0               0.847293                 0.148132              NaN   \n",
      "1               0.025536                 0.048146              NaN   \n",
      "2               0.025536                 0.048146              NaN   \n",
      "3               0.838611                 0.139667              NaN   \n",
      "4               0.844740                 0.141199              NaN   \n",
      "\n",
      "   ROC AUC Score ROC Curve Path Best Parameters  \n",
      "0            NaN            NaN             NaN  \n",
      "1            NaN            NaN             NaN  \n",
      "2            NaN            NaN             NaN  \n",
      "3            NaN            NaN             NaN  \n",
      "4            NaN            NaN             NaN  \n"
     ]
    }
   ],
   "source": [
    "import json\n",
    "import pandas as pd\n",
    "\n",
    "# Define file paths\n",
    "performance_file = \"D:/MIMIC-IV-Data-Pipeline/model_performance.json\"  # JSON file\n",
    "output_excel = \"D:/MIMIC-IV-Data-Pipeline/model_performance.xlsx\"  # Output Excel file\n",
    "\n",
    "# Load JSON data\n",
    "with open(performance_file, \"r\") as file:\n",
    "    model_performance = json.load(file)\n",
    "\n",
    "# Convert JSON data to DataFrame\n",
    "df = pd.DataFrame(model_performance)\n",
    "\n",
    "# Save DataFrame to Excel\n",
    "df.to_excel(output_excel, index=False)\n",
    "\n",
    "print(f\"📊 Model performance data has been successfully saved to Excel: {output_excel}\")\n",
    "\n",
    "# Display the first few rows\n",
    "print(df.head())\n",
    "\n"
   ]
  },
  {
   "cell_type": "code",
   "execution_count": null,
   "id": "ff3fc84c-318e-477b-a6d6-241eb405880a",
   "metadata": {},
   "outputs": [],
   "source": []
  }
 ],
 "metadata": {
  "kernelspec": {
   "display_name": "Python [conda env:base] *",
   "language": "python",
   "name": "conda-base-py"
  },
  "language_info": {
   "codemirror_mode": {
    "name": "ipython",
    "version": 3
   },
   "file_extension": ".py",
   "mimetype": "text/x-python",
   "name": "python",
   "nbconvert_exporter": "python",
   "pygments_lexer": "ipython3",
   "version": "3.12.7"
  }
 },
 "nbformat": 4,
 "nbformat_minor": 5
}
