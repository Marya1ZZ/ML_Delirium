{
 "cells": [
  {
   "cell_type": "markdown",
   "metadata": {
    "id": "Yz8_HG9GtDkP"
   },
   "source": [
    "## **Deliruim Data Cohort from MIMIC-IV-3.2 **\n",
    "Data Downloaded February 8th , 2025\n",
    "\n",
    "Phase 1 Data Extraction\n",
    "https://colab.research.google.com/drive/1IIYkR_CSGwakQJ5g47gtY1TnQIs91T02#scrollTo=71f2964d-361e-4a8a-b59f-429624b6e1ce\n",
    "\n",
    "# Phase 2 Extracted Dataset Mounted  \n",
    "Nth Attempt Feb 22, 24\n",
    "\n"
   ]
  },
  {
   "cell_type": "code",
   "execution_count": 1,
   "metadata": {
    "colab": {
     "base_uri": "https://localhost:8080/"
    },
    "id": "jwKCnH8XrilJ",
    "outputId": "dd0f532c-6eb8-4a40-e780-0e75e531e9a6"
   },
   "outputs": [
    {
     "name": "stdout",
     "output_type": "stream",
     "text": [
      "File Exists: True\n"
     ]
    }
   ],
   "source": [
    " \n",
    " \n",
    "\n",
    "# Define file path\n",
    "file_path = \"D:/MIMIC-IV-Data-Pipeline/processed_data/delirium_prediction_data_v3.csv.gz\"\n",
    "\n",
    "# Check if the file exists\n",
    "import os\n",
    "print(\"File Exists:\", os.path.exists(file_path))\n"
   ]
  },
  {
   "cell_type": "code",
   "execution_count": 3,
   "metadata": {
    "colab": {
     "base_uri": "https://localhost:8080/"
    },
    "id": "nOaBt-iQuQL9",
    "outputId": "9e4922c2-deb3-4ace-9bb5-8d40a8d98848"
   },
   "outputs": [
    {
     "name": "stdout",
     "output_type": "stream",
     "text": [
      "✅ Data Loaded! Shape: (555244, 20)\n",
      "   subject_id   hadm_id  admission_type      admission_location  \\\n",
      "0    10000032  22595853          URGENT  TRANSFER FROM HOSPITAL   \n",
      "1    10000032  22841357        EW EMER.          EMERGENCY ROOM   \n",
      "2    10000032  25742920        EW EMER.          EMERGENCY ROOM   \n",
      "3    10000032  29079034        EW EMER.          EMERGENCY ROOM   \n",
      "4    10000068  25022803  EU OBSERVATION          EMERGENCY ROOM   \n",
      "\n",
      "  discharge_location insurance marital_status   race  ed_time_spent gender  \\\n",
      "0               HOME  Medicaid        WIDOWED  WHITE          253.0      F   \n",
      "1               HOME  Medicaid        WIDOWED  WHITE          337.0      F   \n",
      "2            HOSPICE  Medicaid        WIDOWED  WHITE          286.0      F   \n",
      "3               HOME  Medicaid        WIDOWED  WHITE          486.0      F   \n",
      "4                NaN       NaN         SINGLE  WHITE          511.0      F   \n",
      "\n",
      "   anchor_age  anchor_year     stay_id                       last_careunit  \\\n",
      "0          52         2180         NaN                                 NaN   \n",
      "1          52         2180         NaN                                 NaN   \n",
      "2          52         2180         NaN                                 NaN   \n",
      "3          52         2180  39553978.0  Medical Intensive Care Unit (MICU)   \n",
      "4          19         2160         NaN                                 NaN   \n",
      "\n",
      "        los  num_comorbidities  \\\n",
      "0       NaN                8.0   \n",
      "1       NaN                8.0   \n",
      "2       NaN               10.0   \n",
      "3  0.410266               13.0   \n",
      "4       NaN                1.0   \n",
      "\n",
      "                                      diagnosis_list  palliative_care_flag  \\\n",
      "0  ['5723', '78959', '5715', '07070', '496', '296...                   0.0   \n",
      "1  ['07071', '78959', '2875', '2761', '496', '571...                   0.0   \n",
      "2  ['07054', '78959', 'V462', '5715', '2767', '27...                   0.0   \n",
      "3  ['45829', '07044', '7994', '2761', '78959', '2...                   0.0   \n",
      "4                                          ['30500']                   0.0   \n",
      "\n",
      "   delirium  high_risk_med  \n",
      "0       0.0            0.0  \n",
      "1       0.0            0.0  \n",
      "2       0.0            1.0  \n",
      "3       0.0            1.0  \n",
      "4       0.0            NaN  \n"
     ]
    }
   ],
   "source": [
    "import pandas as pd\n",
    "\n",
    "file_path = \"D:/MIMIC-IV-Data-Pipeline/processed_data/delirium_prediction_data_v3.csv.gz\"\n",
    "\n",
    "# Load dataset\n",
    "df = pd.read_csv(file_path, compression=\"gzip\", low_memory=False)\n",
    "\n",
    "print(\"✅ Data Loaded! Shape:\", df.shape)\n",
    "print(df.head())  # Show first 5 rows\n"
   ]
  },
  {
   "cell_type": "code",
   "execution_count": 5,
   "metadata": {
    "colab": {
     "base_uri": "https://localhost:8080/"
    },
    "id": "WzQ37M4V2b06",
    "outputId": "fad203f6-6317-4b99-f730-fe159ef06896"
   },
   "outputs": [
    {
     "name": "stdout",
     "output_type": "stream",
     "text": [
      "🔍 Dataset Overview:\n",
      "<class 'pandas.core.frame.DataFrame'>\n",
      "RangeIndex: 555244 entries, 0 to 555243\n",
      "Data columns (total 20 columns):\n",
      " #   Column                Non-Null Count   Dtype  \n",
      "---  ------                --------------   -----  \n",
      " 0   subject_id            555244 non-null  int64  \n",
      " 1   hadm_id               555244 non-null  int64  \n",
      " 2   admission_type        555244 non-null  object \n",
      " 3   admission_location    555243 non-null  object \n",
      " 4   discharge_location    405420 non-null  object \n",
      " 5   insurance             545797 non-null  object \n",
      " 6   marital_status        540815 non-null  object \n",
      " 7   race                  555244 non-null  object \n",
      " 8   ed_time_spent         385225 non-null  float64\n",
      " 9   gender                555244 non-null  object \n",
      " 10  anchor_age            555244 non-null  int64  \n",
      " 11  anchor_year           555244 non-null  int64  \n",
      " 12  stay_id               94458 non-null   float64\n",
      " 13  last_careunit         94458 non-null   object \n",
      " 14  los                   94444 non-null   float64\n",
      " 15  num_comorbidities     554713 non-null  float64\n",
      " 16  diagnosis_list        554713 non-null  object \n",
      " 17  palliative_care_flag  554713 non-null  float64\n",
      " 18  delirium              554713 non-null  float64\n",
      " 19  high_risk_med         472524 non-null  float64\n",
      "dtypes: float64(7), int64(4), object(9)\n",
      "memory usage: 84.7+ MB\n",
      "None\n",
      "\n",
      "Missing Values:\n",
      " subject_id                   0\n",
      "hadm_id                      0\n",
      "admission_type               0\n",
      "admission_location           1\n",
      "discharge_location      149824\n",
      "insurance                 9447\n",
      "marital_status           14429\n",
      "race                         0\n",
      "ed_time_spent           170019\n",
      "gender                       0\n",
      "anchor_age                   0\n",
      "anchor_year                  0\n",
      "stay_id                 460786\n",
      "last_careunit           460786\n",
      "los                     460800\n",
      "num_comorbidities          531\n",
      "diagnosis_list             531\n",
      "palliative_care_flag       531\n",
      "delirium                   531\n",
      "high_risk_med            82720\n",
      "dtype: int64\n"
     ]
    }
   ],
   "source": [
    "print(\"🔍 Dataset Overview:\")\n",
    "print(df.info())  # Check column types and memory usage\n",
    "print(\"\\nMissing Values:\\n\", df.isnull().sum())  # Count missing values\n"
   ]
  },
  {
   "cell_type": "code",
   "execution_count": 7,
   "metadata": {
    "colab": {
     "base_uri": "https://localhost:8080/"
    },
    "id": "wvKEa7do2hXF",
    "outputId": "c2542571-5171-4c55-9d29-c525eeab8df0"
   },
   "outputs": [
    {
     "name": "stdout",
     "output_type": "stream",
     "text": [
      "🔍 Delirium Class Distribution:\n",
      "delirium\n",
      "0.0    0.980794\n",
      "1.0    0.019206\n",
      "Name: proportion, dtype: float64\n"
     ]
    }
   ],
   "source": [
    "print(\"🔍 Delirium Class Distribution:\")\n",
    "print(df[\"delirium\"].value_counts(normalize=True))  # % of cases with vs. without delirium\n"
   ]
  },
  {
   "cell_type": "code",
   "execution_count": 9,
   "metadata": {
    "id": "xm7xcBRM_bzo"
   },
   "outputs": [],
   "source": [
    "# prompt: rename los to icu _os\n",
    "\n",
    "df = df.rename(columns={'los': 'icu_los'})\n"
   ]
  },
  {
   "cell_type": "markdown",
   "metadata": {
    "id": "UBbOx_pTDah_"
   },
   "source": [
    " Feature Category\tColumn Name\n",
    "🔹 Identifiers\tsubject_id\n",
    "\thadm_id\n",
    "\tstay_id\n",
    "🔹 Patient Demographics\tgender\n",
    "\tanchor_age\n",
    "\tanchor_year\n",
    "\trace\n",
    "\tmarital_status\n",
    "🔹 Admission & Hospitalization Details\tadmission_type\n",
    "\tadmission_location\n",
    "\tdischarge_location\n",
    "\tinsurance\n",
    "\ted_time_spent\n",
    "🔹 ICU Stay Details\tlast_careunit\n",
    "\tlos_icu\n",
    "🔹 Diagnoses & Comorbidities\tnum_comorbidities\n",
    "\tdiagnosis_list\n",
    "\tpalliative_care_flag\n",
    "🔹 Delirium Outcome\tdelirium\n",
    "🔹 Medication Exposure\thigh_risk_med\n"
   ]
  },
  {
   "cell_type": "markdown",
   "metadata": {
    "id": "F_XiO6IhERKX"
   },
   "source": [
    "✅ Insights from Dataset Overview\n",
    "Your dataset now has 555,244 rows (one per admission), but some columns have missing values. Below are the key observations:\n",
    "\n",
    "🔍 Key Observations\n",
    "Missing ICU Stay Information:\n",
    "\n",
    "stay_id, last_careunit, and los are missing in ~460,000 rows.\n",
    "This suggests that many admissions were NOT ICU stays.\n",
    "Missing Emergency Department (ED) Time:\n",
    "\n",
    "ed_time_spent is missing for ~170,000 admissions.\n",
    "Likely because not all patients enter via ED.\n",
    "Palliative & Delirium Flags Have Small Missingness:\n",
    "\n",
    "531 missing values in:\n",
    "diagnosis_list\n",
    "num_comorbidities\n",
    "palliative_care_flag\n",
    "delirium\n",
    "These could be from admissions without recorded diagnoses.\n",
    "High-Risk Medications Have Missing Values:\n",
    "\n",
    "~82,720 rows are missing high_risk_med.\n",
    "This likely means that some patients had no prescriptions.\n"
   ]
  },
  {
   "cell_type": "code",
   "execution_count": 11,
   "metadata": {
    "colab": {
     "base_uri": "https://localhost:8080/"
    },
    "id": "7rUP0gLGEH4I",
    "outputId": "5658d3c9-9ec3-4e41-9e63-27076f2925e7"
   },
   "outputs": [
    {
     "name": "stdout",
     "output_type": "stream",
     "text": [
      "🔍 Number of Unique Patients: 223452\n",
      "🔍 Total Rows in Dataset: 555244\n",
      "🔍 Distribution of Patient Admissions:\n",
      "count    223452.000000\n",
      "mean          2.484847\n",
      "std           3.622969\n",
      "min           1.000000\n",
      "25%           1.000000\n",
      "50%           1.000000\n",
      "75%           3.000000\n",
      "max         238.000000\n",
      "Name: count, dtype: float64\n"
     ]
    }
   ],
   "source": [
    "# Count occurrences of each patient (subject_id)\n",
    "patient_counts = df[\"subject_id\"].value_counts()\n",
    "\n",
    "# Display summary\n",
    "print(\"🔍 Number of Unique Patients:\", df[\"subject_id\"].nunique())\n",
    "print(\"🔍 Total Rows in Dataset:\", df.shape[0])\n",
    "print(\"🔍 Distribution of Patient Admissions:\")\n",
    "print(patient_counts.describe())  # Summary statistics for occurrences\n"
   ]
  },
  {
   "cell_type": "code",
   "execution_count": null,
   "metadata": {
    "colab": {
     "base_uri": "https://localhost:8080/",
     "height": 930
    },
    "id": "hep0FYXD2nRX",
    "outputId": "56714e3a-af3e-4eb7-fa34-8ed49228342f"
   },
   "outputs": [
    {
     "data": {
      "image/png": "[encoded data removed]",
      "text/plain": [
       "<Figure size 1200x1000 with 12 Axes>"
      ]
     },
     "metadata": {},
     "output_type": "display_data"
    }
   ],
   "source": [
    "import matplotlib.pyplot as plt\n",
    "\n",
    "# Plot histograms for numerical columns\n",
    "df.hist(figsize=(12, 10), bins=30)\n",
    "plt.suptitle(\"Feature Distributions\", fontsize=16)\n",
    "plt.show()\n"
   ]
  },
  {
   "cell_type": "markdown",
   "metadata": {
    "id": "TsX6iCPiEU7r"
   },
   "source": [
    "✅ Next Steps: Handling Missing Data\n",
    "\n"
   ]
  },
  {
   "cell_type": "code",
   "execution_count": 13,
   "metadata": {
    "id": "MVzqHvFQDd0R"
   },
   "outputs": [],
   "source": [
    "#1️⃣ Fill or Remove Missing diagnosis_list Entries\n",
    "\n",
    "# Since diagnoses drive delirium and palliative_care_flag, replace missing lists with an empty list:\n",
    "\n",
    "df[\"diagnosis_list\"] = df[\"diagnosis_list\"].apply(lambda x: x if isinstance(x, list) else [])\n",
    "\n",
    "# 2️⃣ Fill palliative_care_flag and delirium with 0\n",
    "#If a patient has no diagnosis data, assume 0 for both:\n",
    "df[\"palliative_care_flag\"] = df[\"palliative_care_flag\"].fillna(0).astype(int)\n",
    "df[\"delirium\"] = df[\"delirium\"].fillna(0).astype(int)\n",
    "\n",
    "# 3️⃣ Fill high_risk_med with 0\n",
    "# Missing values likely mean no high-risk medications were prescribed.\n",
    "\n",
    "df[\"high_risk_med\"] = df[\"high_risk_med\"].fillna(0).astype(int)\n"
   ]
  },
  {
   "cell_type": "code",
   "execution_count": 15,
   "metadata": {
    "id": "_-TdSdDNJu4X"
   },
   "outputs": [],
   "source": [
    "#4️⃣ Handle Missing ICU Data (stay_id, last_careunit, los)\n",
    "#Since not all patients were in the ICU, replace missing values with \"Not ICU\" or 0:\n",
    "df[\"stay_id\"] = df[\"stay_id\"].fillna(\"Not ICU\")\n",
    "df[\"last_careunit\"] = df[\"last_careunit\"].fillna(\"Not ICU\")\n",
    "# This didnt work #df[\"los_icu\"] = df[\"los_icu\"].fillna(0)\n"
   ]
  },
  {
   "cell_type": "code",
   "execution_count": 17,
   "metadata": {
    "id": "6PWFKubZKB-g"
   },
   "outputs": [],
   "source": [
    "# 5️⃣ Handle Missing ed_time_spent\n",
    "#Patients missing ed_time_spent likely didn’t enter via the ED.\n",
    "#Fill missing values with 0:\n",
    "df[\"ed_time_spent\"] = df[\"ed_time_spent\"].fillna(0)"
   ]
  },
  {
   "cell_type": "code",
   "execution_count": 19,
   "metadata": {
    "colab": {
     "base_uri": "https://localhost:8080/"
    },
    "id": "uMcb9mwANRmp",
    "outputId": "b5926d7f-7999-4d00-a4ba-d0acdebf0263"
   },
   "outputs": [
    {
     "name": "stdout",
     "output_type": "stream",
     "text": [
      "🔍 Dataset Overview:\n",
      "<class 'pandas.core.frame.DataFrame'>\n",
      "RangeIndex: 555244 entries, 0 to 555243\n",
      "Data columns (total 20 columns):\n",
      " #   Column                Non-Null Count   Dtype  \n",
      "---  ------                --------------   -----  \n",
      " 0   subject_id            555244 non-null  int64  \n",
      " 1   hadm_id               555244 non-null  int64  \n",
      " 2   admission_type        555244 non-null  object \n",
      " 3   admission_location    555243 non-null  object \n",
      " 4   discharge_location    405420 non-null  object \n",
      " 5   insurance             545797 non-null  object \n",
      " 6   marital_status        540815 non-null  object \n",
      " 7   race                  555244 non-null  object \n",
      " 8   ed_time_spent         555244 non-null  float64\n",
      " 9   gender                555244 non-null  object \n",
      " 10  anchor_age            555244 non-null  int64  \n",
      " 11  anchor_year           555244 non-null  int64  \n",
      " 12  stay_id               555244 non-null  object \n",
      " 13  last_careunit         555244 non-null  object \n",
      " 14  icu_los               94444 non-null   float64\n",
      " 15  num_comorbidities     554713 non-null  float64\n",
      " 16  diagnosis_list        555244 non-null  object \n",
      " 17  palliative_care_flag  555244 non-null  int32  \n",
      " 18  delirium              555244 non-null  int32  \n",
      " 19  high_risk_med         555244 non-null  int32  \n",
      "dtypes: float64(3), int32(3), int64(4), object(10)\n",
      "memory usage: 78.4+ MB\n",
      "None\n",
      "\n",
      "Missing Values:\n",
      " subject_id                   0\n",
      "hadm_id                      0\n",
      "admission_type               0\n",
      "admission_location           1\n",
      "discharge_location      149824\n",
      "insurance                 9447\n",
      "marital_status           14429\n",
      "race                         0\n",
      "ed_time_spent                0\n",
      "gender                       0\n",
      "anchor_age                   0\n",
      "anchor_year                  0\n",
      "stay_id                      0\n",
      "last_careunit                0\n",
      "icu_los                 460800\n",
      "num_comorbidities          531\n",
      "diagnosis_list               0\n",
      "palliative_care_flag         0\n",
      "delirium                     0\n",
      "high_risk_med                0\n",
      "dtype: int64\n"
     ]
    }
   ],
   "source": [
    "print(\"🔍 Dataset Overview:\")\n",
    "print(df.info())  # Check column types and memory usage\n",
    "print(\"\\nMissing Values:\\n\", df.isnull().sum())  # Count missing values"
   ]
  },
  {
   "cell_type": "code",
   "execution_count": 25,
   "metadata": {
    "colab": {
     "base_uri": "https://localhost:8080/",
     "height": 545
    },
    "id": "hiLb_VkJOJuX",
    "outputId": "38ea9777-3313-4ce6-e4b6-d1e84aa553ad"
   },
   "outputs": [
    {
     "data": {
      "image/png": "[encoded data removed]",
      "text/plain": [
       "<Figure size 640x480 with 1 Axes>"
      ]
     },
     "metadata": {},
     "output_type": "display_data"
    },
    {
     "name": "stdout",
     "output_type": "stream",
     "text": [
      "delirium\n",
      "0    0.980812\n",
      "1    0.019188\n",
      "Name: proportion, dtype: float64\n"
     ]
    }
   ],
   "source": [
    "# EDA Part 2\n",
    "\n",
    "import seaborn as sns\n",
    "import matplotlib.pyplot as plt\n",
    "\n",
    "sns.countplot(x=\"delirium\", data=df)\n",
    "plt.title(\"Delirium Class Distribution\")\n",
    "plt.show()\n",
    "print(df[\"delirium\"].value_counts(normalize=True))  # Class balance check\n"
   ]
  },
  {
   "cell_type": "code",
   "execution_count": 29,
   "metadata": {
    "colab": {
     "base_uri": "https://localhost:8080/",
     "height": 607
    },
    "id": "GN-0ObngQI63",
    "outputId": "506fbf67-6efb-4612-baba-f55d90c5dae7"
   },
   "outputs": [
    {
     "data": {
      "image/png": "[encoded data removed]",
      "text/plain": [
       "<Figure size 1200x600 with 5 Axes>"
      ]
     },
     "metadata": {},
     "output_type": "display_data"
    }
   ],
   "source": [
    "# Explore Key Features by Delirium Status\n",
    "features = [\"anchor_age\", \"num_comorbidities\", \"ed_time_spent\", \"icu_los\",\"high_risk_med\"]\n",
    "plt.figure(figsize=(12, 6))\n",
    "\n",
    "for i, feature in enumerate(features, 1):\n",
    "    plt.subplot(1, len(features), i)\n",
    "    sns.boxplot(x=\"delirium\", y=feature, data=df)\n",
    "    plt.title(f\"{feature} vs Delirium\")\n",
    "\n",
    "plt.tight_layout()\n",
    "plt.show()"
   ]
  },
  {
   "cell_type": "code",
   "execution_count": 31,
   "metadata": {
    "id": "BH3nR65MQ_Td"
   },
   "outputs": [],
   "source": [
    "#Step 1 : Feature Engineering\n",
    "#1️⃣ Encode Categorical Variables\n",
    "categorical_cols = [\"admission_type\", \"admission_location\", \"discharge_location\", \"insurance\", \"race\", \"gender\", \"marital_status\"]\n",
    "df = pd.get_dummies(df, columns=categorical_cols, drop_first=True)\n",
    "#Why? One-hot encoding allows models to use categorical variables in numerical format.\n",
    "#2️⃣ Handle Missing Values in Numerical Columns\n",
    "df[\"icu_los\"] = df[\"icu_los\"].fillna(0)  # Fill missing ICU LOS with 0 (non-ICU admissions)\n",
    "df[\"num_comorbidities\"] = df[\"num_comorbidities\"].fillna(0)\n",
    "#Why? Keeps numerical data clean for modeling.\n",
    "\n",
    "#3️⃣ Drop Unnecessary Identifiers\n",
    "df = df.drop(columns=[\"subject_id\", \"hadm_id\", \"stay_id\", \"anchor_year\"])\n",
    "#Why? These IDs don't contribute to prediction.  Not considering repeated patient admissions as each admission should be treated seprately?"
   ]
  },
  {
   "cell_type": "code",
   "execution_count": 33,
   "metadata": {
    "colab": {
     "base_uri": "https://localhost:8080/"
    },
    "id": "MTaZyV-aU1Tl",
    "outputId": "710eebaa-4cdb-4178-ee31-e560bbdc645a"
   },
   "outputs": [
    {
     "name": "stdout",
     "output_type": "stream",
     "text": [
      "✅ Categorical variables converted to numeric!\n"
     ]
    }
   ],
   "source": [
    "# Identify categorical columns that may still contain text\n",
    "categorical_cols = [\"last_careunit\"]\n",
    "\n",
    "# Convert categorical columns to numerical encoding\n",
    "df[categorical_cols] = df[categorical_cols].astype(\"category\").apply(lambda x: x.cat.codes)\n",
    "\n",
    "print(\"✅ Categorical variables converted to numeric!\")\n"
   ]
  },
  {
   "cell_type": "code",
   "execution_count": 35,
   "metadata": {
    "colab": {
     "base_uri": "https://localhost:8080/"
    },
    "id": "uURoVAv9VQKX",
    "outputId": "97d59f36-37f1-4067-8d79-2dbd6a3b9808"
   },
   "outputs": [
    {
     "name": "stdout",
     "output_type": "stream",
     "text": [
      "✅ Removed non-numeric columns before SMOTE.\n"
     ]
    }
   ],
   "source": [
    "# Drop non-numeric columns before applying SMOTE\n",
    "\n",
    "df = df.drop(columns=[\"diagnosis_list\"])\n",
    "\n",
    "print(\"✅ Removed non-numeric columns before SMOTE.\")\n"
   ]
  },
  {
   "cell_type": "code",
   "execution_count": 37,
   "metadata": {
    "colab": {
     "base_uri": "https://localhost:8080/"
    },
    "id": "3ZoPc-9TRitA",
    "outputId": "e58a2a38-76b2-4698-f379-0e4590fb3e94"
   },
   "outputs": [
    {
     "name": "stdout",
     "output_type": "stream",
     "text": [
      "✅ Train-test split completed!\n",
      "Training Set: (444195, 77), Test Set: (111049, 77)\n"
     ]
    }
   ],
   "source": [
    "#🔹 Step 2: Train-Test Split with SMOTE\n",
    "#1️⃣ Define Features (X) and Target (y)\n",
    "\n",
    "# Define target variable\n",
    "y = df[\"delirium\"]\n",
    "\n",
    "# Drop target column from features\n",
    "X = df.drop(columns=[\"delirium\"])\n",
    "#2️⃣ Split Data into Training & Testing Sets\n",
    "\n",
    "from sklearn.model_selection import train_test_split\n",
    "\n",
    "# Perform train-test split (80% train, 20% test)\n",
    "X_train, X_test, y_train, y_test = train_test_split(\n",
    "    X, y, test_size=0.2, random_state=42, stratify=y\n",
    ")\n",
    "\n",
    "print(\"✅ Train-test split completed!\")\n",
    "print(f\"Training Set: {X_train.shape}, Test Set: {X_test.shape}\")\n",
    "# Why? Stratifying ensures the same delirium proportion in both train and test sets.\n"
   ]
  },
  {
   "cell_type": "code",
   "execution_count": 41,
   "metadata": {},
   "outputs": [],
   "source": [
    "#3️⃣ Apply SMOTE to Handle Class Imbalance\n",
    "\n",
    "from imblearn.over_sampling import SMOTE\n",
    "\n",
    "# Initialize SMOTE\n",
    "smote = SMOTE(random_state=42)"
   ]
  },
  {
   "cell_type": "code",
   "execution_count": 43,
   "metadata": {
    "colab": {
     "base_uri": "https://localhost:8080/"
    },
    "id": "OZgQW3DzUX_w",
    "outputId": "2fe61360-3bd2-4e16-e6ae-b5a713d86fc7"
   },
   "outputs": [
    {
     "name": "stdout",
     "output_type": "stream",
     "text": [
      "✅ SMOTE applied! New class distribution:\n",
      "delirium\n",
      "0    0.5\n",
      "1    0.5\n",
      "Name: proportion, dtype: float64\n"
     ]
    }
   ],
   "source": [
    "# Apply SMOTE only on the training data\n",
    "X_train_resampled, y_train_resampled = smote.fit_resample(X_train, y_train)\n",
    "\n",
    "print(\"✅ SMOTE applied! New class distribution:\")\n",
    "print(pd.Series(y_train_resampled).value_counts(normalize=True))\n",
    "#Why? Ensures balanced training data while keeping test data unchanged for fair evaluation."
   ]
  },
  {
   "cell_type": "markdown",
   "metadata": {
    "id": "zUpn_kJFXKG8"
   },
   "source": [
    "1️⃣ Feature Scaling (Standardization or Normalization)\n",
    "Machine learning models, especially Logistic Regression, SVM, and Neural Networks, benefit from feature scaling.\n",
    "\n",
    "Option 1: Standardization (Recommended for Most Models)\n",
    "Scales numerical features to have mean = 0 and standard deviation = 1."
   ]
  },
  {
   "cell_type": "code",
   "execution_count": 45,
   "metadata": {
    "id": "N3QCzzDuXKUB"
   },
   "outputs": [
    {
     "name": "stdout",
     "output_type": "stream",
     "text": [
      "✅ Features standardized!\n"
     ]
    }
   ],
   "source": [
    "from sklearn.preprocessing import StandardScaler\n",
    "\n",
    "# Identify numerical columns to scale\n",
    "numeric_cols = [\"anchor_age\", \"num_comorbidities\", \"ed_time_spent\", \"icu_los\"]\n",
    "\n",
    "# Apply standardization\n",
    "scaler = StandardScaler()\n",
    "X_train_resampled[numeric_cols] = scaler.fit_transform(X_train_resampled[numeric_cols])\n",
    "X_test[numeric_cols] = scaler.transform(X_test[numeric_cols])\n",
    "\n",
    "print(\"✅ Features standardized!\")\n"
   ]
  },
  {
   "cell_type": "code",
   "execution_count": 47,
   "metadata": {
    "colab": {
     "base_uri": "https://localhost:8080/"
    },
    "id": "FbtSVjEsXTnK",
    "outputId": "24b64cb6-ba53-4ad8-f7ca-fcc3fd0929f0"
   },
   "outputs": [
    {
     "name": "stdout",
     "output_type": "stream",
     "text": [
      "✅ Final Data Check:\n",
      "Training Set Shape: (871344, 77), (871344,)\n",
      "Test Set Shape: (111049, 77), (111049,)\n"
     ]
    }
   ],
   "source": [
    "print(\"✅ Final Data Check:\")\n",
    "print(f\"Training Set Shape: {X_train_resampled.shape}, {y_train_resampled.shape}\")\n",
    "print(f\"Test Set Shape: {X_test.shape}, {y_test.shape}\")\n"
   ]
  },
  {
   "cell_type": "code",
   "execution_count": 49,
   "metadata": {
    "colab": {
     "base_uri": "https://localhost:8080/"
    },
    "id": "3nlToDxgXcuV",
    "outputId": "04e855fd-a132-4063-c3c5-3477f503557c"
   },
   "outputs": [
    {
     "name": "stdout",
     "output_type": "stream",
     "text": [
      "✅ Model Performance:\n",
      "              precision    recall  f1-score   support\n",
      "\n",
      "           0       0.98      0.98      0.98    108918\n",
      "           1       0.16      0.16      0.16      2131\n",
      "\n",
      "    accuracy                           0.97    111049\n",
      "   macro avg       0.57      0.57      0.57    111049\n",
      "weighted avg       0.97      0.97      0.97    111049\n",
      "\n"
     ]
    }
   ],
   "source": [
    "from sklearn.linear_model import LogisticRegression\n",
    "from sklearn.metrics import accuracy_score, classification_report\n",
    "\n",
    "# Initialize and train the model\n",
    "model = LogisticRegression(max_iter=1000, class_weight=\"balanced\", random_state=42)\n",
    "model.fit(X_train_resampled, y_train_resampled)\n",
    "\n",
    "# Make Predictions\n",
    "y_pred = model.predict(X_test)\n",
    "\n",
    "# Evaluate Model Performance\n",
    "print(\"✅ Model Performance:\")\n",
    "print(classification_report(y_test, y_pred))\n"
   ]
  },
  {
   "cell_type": "code",
   "execution_count": 51,
   "metadata": {
    "colab": {
     "background_save": true
    },
    "id": "obav4KfxXpDF",
    "outputId": "8bbe9753-7854-44a8-d9c8-9ce8a8078557"
   },
   "outputs": [
    {
     "data": {
      "text/html": [
       "<style>#sk-container-id-1 {\n",
       "  /* Definition of color scheme common for light and dark mode */\n",
       "  --sklearn-color-text: black;\n",
       "  --sklearn-color-line: gray;\n",
       "  /* Definition of color scheme for unfitted estimators */\n",
       "  --sklearn-color-unfitted-level-0: #fff5e6;\n",
       "  --sklearn-color-unfitted-level-1: #f6e4d2;\n",
       "  --sklearn-color-unfitted-level-2: #ffe0b3;\n",
       "  --sklearn-color-unfitted-level-3: chocolate;\n",
       "  /* Definition of color scheme for fitted estimators */\n",
       "  --sklearn-color-fitted-level-0: #f0f8ff;\n",
       "  --sklearn-color-fitted-level-1: #d4ebff;\n",
       "  --sklearn-color-fitted-level-2: #b3dbfd;\n",
       "  --sklearn-color-fitted-level-3: cornflowerblue;\n",
       "\n",
       "  /* Specific color for light theme */\n",
       "  --sklearn-color-text-on-default-background: var(--sg-text-color, var(--theme-code-foreground, var(--jp-content-font-color1, black)));\n",
       "  --sklearn-color-background: var(--sg-background-color, var(--theme-background, var(--jp-layout-color0, white)));\n",
       "  --sklearn-color-border-box: var(--sg-text-color, var(--theme-code-foreground, var(--jp-content-font-color1, black)));\n",
       "  --sklearn-color-icon: #696969;\n",
       "\n",
       "  @media (prefers-color-scheme: dark) {\n",
       "    /* Redefinition of color scheme for dark theme */\n",
       "    --sklearn-color-text-on-default-background: var(--sg-text-color, var(--theme-code-foreground, var(--jp-content-font-color1, white)));\n",
       "    --sklearn-color-background: var(--sg-background-color, var(--theme-background, var(--jp-layout-color0, #111)));\n",
       "    --sklearn-color-border-box: var(--sg-text-color, var(--theme-code-foreground, var(--jp-content-font-color1, white)));\n",
       "    --sklearn-color-icon: #878787;\n",
       "  }\n",
       "}\n",
       "\n",
       "#sk-container-id-1 {\n",
       "  color: var(--sklearn-color-text);\n",
       "}\n",
       "\n",
       "#sk-container-id-1 pre {\n",
       "  padding: 0;\n",
       "}\n",
       "\n",
       "#sk-container-id-1 input.sk-hidden--visually {\n",
       "  border: 0;\n",
       "  clip: rect(1px 1px 1px 1px);\n",
       "  clip: rect(1px, 1px, 1px, 1px);\n",
       "  height: 1px;\n",
       "  margin: -1px;\n",
       "  overflow: hidden;\n",
       "  padding: 0;\n",
       "  position: absolute;\n",
       "  width: 1px;\n",
       "}\n",
       "\n",
       "#sk-container-id-1 div.sk-dashed-wrapped {\n",
       "  border: 1px dashed var(--sklearn-color-line);\n",
       "  margin: 0 0.4em 0.5em 0.4em;\n",
       "  box-sizing: border-box;\n",
       "  padding-bottom: 0.4em;\n",
       "  background-color: var(--sklearn-color-background);\n",
       "}\n",
       "\n",
       "#sk-container-id-1 div.sk-container {\n",
       "  /* jupyter's `normalize.less` sets `[hidden] { display: none; }`\n",
       "     but bootstrap.min.css set `[hidden] { display: none !important; }`\n",
       "     so we also need the `!important` here to be able to override the\n",
       "     default hidden behavior on the sphinx rendered scikit-learn.org.\n",
       "     See: https://github.com/scikit-learn/scikit-learn/issues/21755 */\n",
       "  display: inline-block !important;\n",
       "  position: relative;\n",
       "}\n",
       "\n",
       "#sk-container-id-1 div.sk-text-repr-fallback {\n",
       "  display: none;\n",
       "}\n",
       "\n",
       "div.sk-parallel-item,\n",
       "div.sk-serial,\n",
       "div.sk-item {\n",
       "  /* draw centered vertical line to link estimators */\n",
       "  background-image: linear-gradient(var(--sklearn-color-text-on-default-background), var(--sklearn-color-text-on-default-background));\n",
       "  background-size: 2px 100%;\n",
       "  background-repeat: no-repeat;\n",
       "  background-position: center center;\n",
       "}\n",
       "\n",
       "/* Parallel-specific style estimator block */\n",
       "\n",
       "#sk-container-id-1 div.sk-parallel-item::after {\n",
       "  content: \"\";\n",
       "  width: 100%;\n",
       "  border-bottom: 2px solid var(--sklearn-color-text-on-default-background);\n",
       "  flex-grow: 1;\n",
       "}\n",
       "\n",
       "#sk-container-id-1 div.sk-parallel {\n",
       "  display: flex;\n",
       "  align-items: stretch;\n",
       "  justify-content: center;\n",
       "  background-color: var(--sklearn-color-background);\n",
       "  position: relative;\n",
       "}\n",
       "\n",
       "#sk-container-id-1 div.sk-parallel-item {\n",
       "  display: flex;\n",
       "  flex-direction: column;\n",
       "}\n",
       "\n",
       "#sk-container-id-1 div.sk-parallel-item:first-child::after {\n",
       "  align-self: flex-end;\n",
       "  width: 50%;\n",
       "}\n",
       "\n",
       "#sk-container-id-1 div.sk-parallel-item:last-child::after {\n",
       "  align-self: flex-start;\n",
       "  width: 50%;\n",
       "}\n",
       "\n",
       "#sk-container-id-1 div.sk-parallel-item:only-child::after {\n",
       "  width: 0;\n",
       "}\n",
       "\n",
       "/* Serial-specific style estimator block */\n",
       "\n",
       "#sk-container-id-1 div.sk-serial {\n",
       "  display: flex;\n",
       "  flex-direction: column;\n",
       "  align-items: center;\n",
       "  background-color: var(--sklearn-color-background);\n",
       "  padding-right: 1em;\n",
       "  padding-left: 1em;\n",
       "}\n",
       "\n",
       "\n",
       "/* Toggleable style: style used for estimator/Pipeline/ColumnTransformer box that is\n",
       "clickable and can be expanded/collapsed.\n",
       "- Pipeline and ColumnTransformer use this feature and define the default style\n",
       "- Estimators will overwrite some part of the style using the `sk-estimator` class\n",
       "*/\n",
       "\n",
       "/* Pipeline and ColumnTransformer style (default) */\n",
       "\n",
       "#sk-container-id-1 div.sk-toggleable {\n",
       "  /* Default theme specific background. It is overwritten whether we have a\n",
       "  specific estimator or a Pipeline/ColumnTransformer */\n",
       "  background-color: var(--sklearn-color-background);\n",
       "}\n",
       "\n",
       "/* Toggleable label */\n",
       "#sk-container-id-1 label.sk-toggleable__label {\n",
       "  cursor: pointer;\n",
       "  display: block;\n",
       "  width: 100%;\n",
       "  margin-bottom: 0;\n",
       "  padding: 0.5em;\n",
       "  box-sizing: border-box;\n",
       "  text-align: center;\n",
       "}\n",
       "\n",
       "#sk-container-id-1 label.sk-toggleable__label-arrow:before {\n",
       "  /* Arrow on the left of the label */\n",
       "  content: \"▸\";\n",
       "  float: left;\n",
       "  margin-right: 0.25em;\n",
       "  color: var(--sklearn-color-icon);\n",
       "}\n",
       "\n",
       "#sk-container-id-1 label.sk-toggleable__label-arrow:hover:before {\n",
       "  color: var(--sklearn-color-text);\n",
       "}\n",
       "\n",
       "/* Toggleable content - dropdown */\n",
       "\n",
       "#sk-container-id-1 div.sk-toggleable__content {\n",
       "  max-height: 0;\n",
       "  max-width: 0;\n",
       "  overflow: hidden;\n",
       "  text-align: left;\n",
       "  /* unfitted */\n",
       "  background-color: var(--sklearn-color-unfitted-level-0);\n",
       "}\n",
       "\n",
       "#sk-container-id-1 div.sk-toggleable__content.fitted {\n",
       "  /* fitted */\n",
       "  background-color: var(--sklearn-color-fitted-level-0);\n",
       "}\n",
       "\n",
       "#sk-container-id-1 div.sk-toggleable__content pre {\n",
       "  margin: 0.2em;\n",
       "  border-radius: 0.25em;\n",
       "  color: var(--sklearn-color-text);\n",
       "  /* unfitted */\n",
       "  background-color: var(--sklearn-color-unfitted-level-0);\n",
       "}\n",
       "\n",
       "#sk-container-id-1 div.sk-toggleable__content.fitted pre {\n",
       "  /* unfitted */\n",
       "  background-color: var(--sklearn-color-fitted-level-0);\n",
       "}\n",
       "\n",
       "#sk-container-id-1 input.sk-toggleable__control:checked~div.sk-toggleable__content {\n",
       "  /* Expand drop-down */\n",
       "  max-height: 200px;\n",
       "  max-width: 100%;\n",
       "  overflow: auto;\n",
       "}\n",
       "\n",
       "#sk-container-id-1 input.sk-toggleable__control:checked~label.sk-toggleable__label-arrow:before {\n",
       "  content: \"▾\";\n",
       "}\n",
       "\n",
       "/* Pipeline/ColumnTransformer-specific style */\n",
       "\n",
       "#sk-container-id-1 div.sk-label input.sk-toggleable__control:checked~label.sk-toggleable__label {\n",
       "  color: var(--sklearn-color-text);\n",
       "  background-color: var(--sklearn-color-unfitted-level-2);\n",
       "}\n",
       "\n",
       "#sk-container-id-1 div.sk-label.fitted input.sk-toggleable__control:checked~label.sk-toggleable__label {\n",
       "  background-color: var(--sklearn-color-fitted-level-2);\n",
       "}\n",
       "\n",
       "/* Estimator-specific style */\n",
       "\n",
       "/* Colorize estimator box */\n",
       "#sk-container-id-1 div.sk-estimator input.sk-toggleable__control:checked~label.sk-toggleable__label {\n",
       "  /* unfitted */\n",
       "  background-color: var(--sklearn-color-unfitted-level-2);\n",
       "}\n",
       "\n",
       "#sk-container-id-1 div.sk-estimator.fitted input.sk-toggleable__control:checked~label.sk-toggleable__label {\n",
       "  /* fitted */\n",
       "  background-color: var(--sklearn-color-fitted-level-2);\n",
       "}\n",
       "\n",
       "#sk-container-id-1 div.sk-label label.sk-toggleable__label,\n",
       "#sk-container-id-1 div.sk-label label {\n",
       "  /* The background is the default theme color */\n",
       "  color: var(--sklearn-color-text-on-default-background);\n",
       "}\n",
       "\n",
       "/* On hover, darken the color of the background */\n",
       "#sk-container-id-1 div.sk-label:hover label.sk-toggleable__label {\n",
       "  color: var(--sklearn-color-text);\n",
       "  background-color: var(--sklearn-color-unfitted-level-2);\n",
       "}\n",
       "\n",
       "/* Label box, darken color on hover, fitted */\n",
       "#sk-container-id-1 div.sk-label.fitted:hover label.sk-toggleable__label.fitted {\n",
       "  color: var(--sklearn-color-text);\n",
       "  background-color: var(--sklearn-color-fitted-level-2);\n",
       "}\n",
       "\n",
       "/* Estimator label */\n",
       "\n",
       "#sk-container-id-1 div.sk-label label {\n",
       "  font-family: monospace;\n",
       "  font-weight: bold;\n",
       "  display: inline-block;\n",
       "  line-height: 1.2em;\n",
       "}\n",
       "\n",
       "#sk-container-id-1 div.sk-label-container {\n",
       "  text-align: center;\n",
       "}\n",
       "\n",
       "/* Estimator-specific */\n",
       "#sk-container-id-1 div.sk-estimator {\n",
       "  font-family: monospace;\n",
       "  border: 1px dotted var(--sklearn-color-border-box);\n",
       "  border-radius: 0.25em;\n",
       "  box-sizing: border-box;\n",
       "  margin-bottom: 0.5em;\n",
       "  /* unfitted */\n",
       "  background-color: var(--sklearn-color-unfitted-level-0);\n",
       "}\n",
       "\n",
       "#sk-container-id-1 div.sk-estimator.fitted {\n",
       "  /* fitted */\n",
       "  background-color: var(--sklearn-color-fitted-level-0);\n",
       "}\n",
       "\n",
       "/* on hover */\n",
       "#sk-container-id-1 div.sk-estimator:hover {\n",
       "  /* unfitted */\n",
       "  background-color: var(--sklearn-color-unfitted-level-2);\n",
       "}\n",
       "\n",
       "#sk-container-id-1 div.sk-estimator.fitted:hover {\n",
       "  /* fitted */\n",
       "  background-color: var(--sklearn-color-fitted-level-2);\n",
       "}\n",
       "\n",
       "/* Specification for estimator info (e.g. \"i\" and \"?\") */\n",
       "\n",
       "/* Common style for \"i\" and \"?\" */\n",
       "\n",
       ".sk-estimator-doc-link,\n",
       "a:link.sk-estimator-doc-link,\n",
       "a:visited.sk-estimator-doc-link {\n",
       "  float: right;\n",
       "  font-size: smaller;\n",
       "  line-height: 1em;\n",
       "  font-family: monospace;\n",
       "  background-color: var(--sklearn-color-background);\n",
       "  border-radius: 1em;\n",
       "  height: 1em;\n",
       "  width: 1em;\n",
       "  text-decoration: none !important;\n",
       "  margin-left: 1ex;\n",
       "  /* unfitted */\n",
       "  border: var(--sklearn-color-unfitted-level-1) 1pt solid;\n",
       "  color: var(--sklearn-color-unfitted-level-1);\n",
       "}\n",
       "\n",
       ".sk-estimator-doc-link.fitted,\n",
       "a:link.sk-estimator-doc-link.fitted,\n",
       "a:visited.sk-estimator-doc-link.fitted {\n",
       "  /* fitted */\n",
       "  border: var(--sklearn-color-fitted-level-1) 1pt solid;\n",
       "  color: var(--sklearn-color-fitted-level-1);\n",
       "}\n",
       "\n",
       "/* On hover */\n",
       "div.sk-estimator:hover .sk-estimator-doc-link:hover,\n",
       ".sk-estimator-doc-link:hover,\n",
       "div.sk-label-container:hover .sk-estimator-doc-link:hover,\n",
       ".sk-estimator-doc-link:hover {\n",
       "  /* unfitted */\n",
       "  background-color: var(--sklearn-color-unfitted-level-3);\n",
       "  color: var(--sklearn-color-background);\n",
       "  text-decoration: none;\n",
       "}\n",
       "\n",
       "div.sk-estimator.fitted:hover .sk-estimator-doc-link.fitted:hover,\n",
       ".sk-estimator-doc-link.fitted:hover,\n",
       "div.sk-label-container:hover .sk-estimator-doc-link.fitted:hover,\n",
       ".sk-estimator-doc-link.fitted:hover {\n",
       "  /* fitted */\n",
       "  background-color: var(--sklearn-color-fitted-level-3);\n",
       "  color: var(--sklearn-color-background);\n",
       "  text-decoration: none;\n",
       "}\n",
       "\n",
       "/* Span, style for the box shown on hovering the info icon */\n",
       ".sk-estimator-doc-link span {\n",
       "  display: none;\n",
       "  z-index: 9999;\n",
       "  position: relative;\n",
       "  font-weight: normal;\n",
       "  right: .2ex;\n",
       "  padding: .5ex;\n",
       "  margin: .5ex;\n",
       "  width: min-content;\n",
       "  min-width: 20ex;\n",
       "  max-width: 50ex;\n",
       "  color: var(--sklearn-color-text);\n",
       "  box-shadow: 2pt 2pt 4pt #999;\n",
       "  /* unfitted */\n",
       "  background: var(--sklearn-color-unfitted-level-0);\n",
       "  border: .5pt solid var(--sklearn-color-unfitted-level-3);\n",
       "}\n",
       "\n",
       ".sk-estimator-doc-link.fitted span {\n",
       "  /* fitted */\n",
       "  background: var(--sklearn-color-fitted-level-0);\n",
       "  border: var(--sklearn-color-fitted-level-3);\n",
       "}\n",
       "\n",
       ".sk-estimator-doc-link:hover span {\n",
       "  display: block;\n",
       "}\n",
       "\n",
       "/* \"?\"-specific style due to the `<a>` HTML tag */\n",
       "\n",
       "#sk-container-id-1 a.estimator_doc_link {\n",
       "  float: right;\n",
       "  font-size: 1rem;\n",
       "  line-height: 1em;\n",
       "  font-family: monospace;\n",
       "  background-color: var(--sklearn-color-background);\n",
       "  border-radius: 1rem;\n",
       "  height: 1rem;\n",
       "  width: 1rem;\n",
       "  text-decoration: none;\n",
       "  /* unfitted */\n",
       "  color: var(--sklearn-color-unfitted-level-1);\n",
       "  border: var(--sklearn-color-unfitted-level-1) 1pt solid;\n",
       "}\n",
       "\n",
       "#sk-container-id-1 a.estimator_doc_link.fitted {\n",
       "  /* fitted */\n",
       "  border: var(--sklearn-color-fitted-level-1) 1pt solid;\n",
       "  color: var(--sklearn-color-fitted-level-1);\n",
       "}\n",
       "\n",
       "/* On hover */\n",
       "#sk-container-id-1 a.estimator_doc_link:hover {\n",
       "  /* unfitted */\n",
       "  background-color: var(--sklearn-color-unfitted-level-3);\n",
       "  color: var(--sklearn-color-background);\n",
       "  text-decoration: none;\n",
       "}\n",
       "\n",
       "#sk-container-id-1 a.estimator_doc_link.fitted:hover {\n",
       "  /* fitted */\n",
       "  background-color: var(--sklearn-color-fitted-level-3);\n",
       "}\n",
       "</style><div id=\"sk-container-id-1\" class=\"sk-top-container\"><div class=\"sk-text-repr-fallback\"><pre>LogisticRegression(class_weight=&#x27;balanced&#x27;, max_iter=5000, random_state=42)</pre><b>In a Jupyter environment, please rerun this cell to show the HTML representation or trust the notebook. <br />On GitHub, the HTML representation is unable to render, please try loading this page with nbviewer.org.</b></div><div class=\"sk-container\" hidden><div class=\"sk-item\"><div class=\"sk-estimator fitted sk-toggleable\"><input class=\"sk-toggleable__control sk-hidden--visually\" id=\"sk-estimator-id-1\" type=\"checkbox\" checked><label for=\"sk-estimator-id-1\" class=\"sk-toggleable__label fitted sk-toggleable__label-arrow fitted\">&nbsp;&nbsp;LogisticRegression<a class=\"sk-estimator-doc-link fitted\" rel=\"noreferrer\" target=\"_blank\" href=\"https://scikit-learn.org/1.5/modules/generated/sklearn.linear_model.LogisticRegression.html\">?<span>Documentation for LogisticRegression</span></a><span class=\"sk-estimator-doc-link fitted\">i<span>Fitted</span></span></label><div class=\"sk-toggleable__content fitted\"><pre>LogisticRegression(class_weight=&#x27;balanced&#x27;, max_iter=5000, random_state=42)</pre></div> </div></div></div></div>"
      ],
      "text/plain": [
       "LogisticRegression(class_weight='balanced', max_iter=5000, random_state=42)"
      ]
     },
     "execution_count": 51,
     "metadata": {},
     "output_type": "execute_result"
    }
   ],
   "source": [
    "log_model = LogisticRegression(max_iter=5000, class_weight=\"balanced\", random_state=42)\n",
    "log_model.fit(X_train_resampled, y_train_resampled)\n"
   ]
  },
  {
   "cell_type": "markdown",
   "metadata": {
    "id": "hqOeKizdhDlC"
   },
   "source": [
    "🔹 Next Steps to Improve Performance\n",
    "1️⃣ Increase max_iter to allow convergence\n",
    "\n",
    "python\n",
    "Copy\n",
    "Edit\n",
    "log_model = LogisticRegression(max_iter=5000, class_weight=\"balanced\", random_state=42)\n",
    "log_model.fit(X_train_resampled, y_train_resampled)\n",
    "2️⃣ Ensure Feature Scaling\n",
    "\n"
   ]
  },
  {
   "cell_type": "code",
   "execution_count": 53,
   "metadata": {
    "id": "Uw63cXYFhIPe"
   },
   "outputs": [],
   "source": [
    "from sklearn.preprocessing import StandardScaler\n",
    "\n",
    "scaler = StandardScaler()\n",
    "X_train_resampled[numeric_cols] = scaler.fit_transform(X_train_resampled[numeric_cols])\n",
    "X_test[numeric_cols] = scaler.transform(X_test[numeric_cols])"
   ]
  },
  {
   "cell_type": "code",
   "execution_count": 55,
   "metadata": {
    "colab": {
     "base_uri": "https://localhost:8080/"
    },
    "id": "3nlToDxgXcuV",
    "outputId": "04e855fd-a132-4063-c3c5-3477f503557c"
   },
   "outputs": [
    {
     "name": "stdout",
     "output_type": "stream",
     "text": [
      "✅ Model Performance:\n",
      "              precision    recall  f1-score   support\n",
      "\n",
      "           0       0.98      0.98      0.98    108918\n",
      "           1       0.16      0.16      0.16      2131\n",
      "\n",
      "    accuracy                           0.97    111049\n",
      "   macro avg       0.57      0.57      0.57    111049\n",
      "weighted avg       0.97      0.97      0.97    111049\n",
      "\n"
     ]
    }
   ],
   "source": [
    "from sklearn.linear_model import LogisticRegression\n",
    "from sklearn.metrics import accuracy_score, classification_report\n",
    "\n",
    "# Initialize and train the model\n",
    "model = LogisticRegression(max_iter=1000, class_weight=\"balanced\", random_state=42)\n",
    "model.fit(X_train_resampled, y_train_resampled)\n",
    "\n",
    "# Make Predictions\n",
    "y_pred = model.predict(X_test)\n",
    "\n",
    "# Evaluate Model Performance\n",
    "print(\"✅ Model Performance:\")\n",
    "print(classification_report(y_test, y_pred))\n"
   ]
  },
  {
   "cell_type": "code",
   "execution_count": null,
   "metadata": {},
   "outputs": [],
   "source": []
  }
 ],
 "metadata": {
  "colab": {
   "provenance": []
  },
  "kernelspec": {
   "display_name": "Python [conda env:base] *",
   "language": "python",
   "name": "conda-base-py"
  },
  "language_info": {
   "codemirror_mode": {
    "name": "ipython",
    "version": 3
   },
   "file_extension": ".py",
   "mimetype": "text/x-python",
   "name": "python",
   "nbconvert_exporter": "python",
   "pygments_lexer": "ipython3",
   "version": "3.12.7"
  }
 },
 "nbformat": 4,
 "nbformat_minor": 4
}
