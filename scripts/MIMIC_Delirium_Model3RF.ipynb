{
 "cells": [
  {
   "cell_type": "markdown",
   "metadata": {
    "id": "Yz8_HG9GtDkP"
   },
   "source": [
    "## **Deliruim Data Cohort from MIMIC-IV-3.2 **\n",
    "Data Downloaded February 8th , 2025\n",
    "\n",
    "Phase 1 Data Extraction\n",
    "https://colab.research.google.com/drive/1IIYkR_CSGwakQJ5g47gtY1TnQIs91T02#scrollTo=71f2964d-361e-4a8a-b59f-429624b6e1ce\n",
    "\n",
    "# Phase 2 Extracted Dataset Mounted  \n",
    "Nth Attempt Feb 22, 24\n",
    "#Phase 3 Modeling \n",
    "Model 1 LR\n",
    "Model 2 NB\n",
    "Model 3 RF\n"
   ]
  },
  {
   "cell_type": "code",
   "execution_count": null,
   "metadata": {
    "colab": {
     "base_uri": "https://localhost:8080/"
    },
    "id": "nOaBt-iQuQL9",
    "outputId": "9e4922c2-deb3-4ace-9bb5-8d40a8d98848"
   },
   "outputs": [],
   "source": [
    "import pandas as pd\n",
    "#define file path\n",
    "file_path = \"D:/MIMIC-IV-Data-Pipeline/processed_data/delirium_prediction_data_v3.csv.gz\"\n",
    "\n",
    "# Load dataset\n",
    "df = pd.read_csv(file_path, compression=\"gzip\", low_memory=False)\n",
    "\n",
    "# creating a new variable \n",
    "df[\"past_icu_stay\"] = df.groupby(\"subject_id\")[\"stay_id\"].shift(1)\n",
    "df[\"past_icu_stay\"] = df[\"past_icu_stay\"].fillna(\"No Previous ICU Stay\")\n",
    "\n",
    "print(\"✅ Past ICU Stay Feature Added!\")\n",
    "\n",
    "# Select categorical columns\n",
    "categorical_cols = [\"admission_type\", \"admission_location\", \"discharge_location\", \n",
    "                    \"insurance\", \"race\", \"gender\", \"marital_status\", \"last_careunit\",\"past_icu_stay\"]\n",
    "\n",
    "# One-hot encode categorical variables\n",
    "df = pd.get_dummies(df, columns=categorical_cols, drop_first=True)\n",
    "\n",
    "print(\"✅ Categorical variables encoded!\")\n"
   ]
  },
  {
   "cell_type": "code",
   "execution_count": 5,
   "metadata": {
    "colab": {
     "base_uri": "https://localhost:8080/"
    },
    "id": "nOaBt-iQuQL9",
    "outputId": "9e4922c2-deb3-4ace-9bb5-8d40a8d98848"
   },
   "outputs": [
    {
     "name": "stdout",
     "output_type": "stream",
     "text": [
      "✅ Data Loaded! Shape: (555244, 98)\n",
      "   subject_id   hadm_id  ed_time_spent  anchor_age  anchor_year     stay_id  \\\n",
      "0    10000032  22595853          253.0          52         2180         NaN   \n",
      "1    10000032  22841357          337.0          52         2180         NaN   \n",
      "2    10000032  25742920          286.0          52         2180         NaN   \n",
      "3    10000032  29079034          486.0          52         2180  39553978.0   \n",
      "4    10000068  25022803          511.0          19         2160         NaN   \n",
      "\n",
      "        los  num_comorbidities  \\\n",
      "0       NaN                8.0   \n",
      "1       NaN                8.0   \n",
      "2       NaN               10.0   \n",
      "3  0.410266               13.0   \n",
      "4       NaN                1.0   \n",
      "\n",
      "                                      diagnosis_list  palliative_care_flag  \\\n",
      "0  ['5723', '78959', '5715', '07070', '496', '296...                   0.0   \n",
      "1  ['07071', '78959', '2875', '2761', '496', '571...                   0.0   \n",
      "2  ['07054', '78959', 'V462', '5715', '2767', '27...                   0.0   \n",
      "3  ['45829', '07044', '7994', '2761', '78959', '2...                   0.0   \n",
      "4                                          ['30500']                   0.0   \n",
      "\n",
      "   ...  last_careunit_Medicine/Cardiology Intermediate  \\\n",
      "0  ...                                           False   \n",
      "1  ...                                           False   \n",
      "2  ...                                           False   \n",
      "3  ...                                           False   \n",
      "4  ...                                           False   \n",
      "\n",
      "   last_careunit_Neuro Intermediate  last_careunit_Neuro Stepdown  \\\n",
      "0                             False                         False   \n",
      "1                             False                         False   \n",
      "2                             False                         False   \n",
      "3                             False                         False   \n",
      "4                             False                         False   \n",
      "\n",
      "   last_careunit_Neuro Surgical Intensive Care Unit (Neuro SICU)  \\\n",
      "0                                              False               \n",
      "1                                              False               \n",
      "2                                              False               \n",
      "3                                              False               \n",
      "4                                              False               \n",
      "\n",
      "   last_careunit_Neurology  last_careunit_PACU  last_careunit_Surgery/Trauma  \\\n",
      "0                    False               False                         False   \n",
      "1                    False               False                         False   \n",
      "2                    False               False                         False   \n",
      "3                    False               False                         False   \n",
      "4                    False               False                         False   \n",
      "\n",
      "   last_careunit_Surgery/Vascular/Intermediate  \\\n",
      "0                                        False   \n",
      "1                                        False   \n",
      "2                                        False   \n",
      "3                                        False   \n",
      "4                                        False   \n",
      "\n",
      "   last_careunit_Surgical Intensive Care Unit (SICU)  \\\n",
      "0                                              False   \n",
      "1                                              False   \n",
      "2                                              False   \n",
      "3                                              False   \n",
      "4                                              False   \n",
      "\n",
      "   last_careunit_Trauma SICU (TSICU)  \n",
      "0                              False  \n",
      "1                              False  \n",
      "2                              False  \n",
      "3                              False  \n",
      "4                              False  \n",
      "\n",
      "[5 rows x 98 columns]\n"
     ]
    }
   ],
   "source": [
    "print(\"✅ Data Loaded! Shape:\", df.shape)\n",
    "print(df.head())  # Show first 5 rows\n"
   ]
  },
  {
   "cell_type": "code",
   "execution_count": 7,
   "metadata": {
    "colab": {
     "base_uri": "https://localhost:8080/"
    },
    "id": "WzQ37M4V2b06",
    "outputId": "fad203f6-6317-4b99-f730-fe159ef06896"
   },
   "outputs": [
    {
     "name": "stdout",
     "output_type": "stream",
     "text": [
      "🔍 Dataset Overview:\n",
      "<class 'pandas.core.frame.DataFrame'>\n",
      "RangeIndex: 555244 entries, 0 to 555243\n",
      "Data columns (total 98 columns):\n",
      " #   Column                                                          Non-Null Count   Dtype  \n",
      "---  ------                                                          --------------   -----  \n",
      " 0   subject_id                                                      555244 non-null  int64  \n",
      " 1   hadm_id                                                         555244 non-null  int64  \n",
      " 2   ed_time_spent                                                   385225 non-null  float64\n",
      " 3   anchor_age                                                      555244 non-null  int64  \n",
      " 4   anchor_year                                                     555244 non-null  int64  \n",
      " 5   stay_id                                                         94458 non-null   float64\n",
      " 6   los                                                             94444 non-null   float64\n",
      " 7   num_comorbidities                                               554713 non-null  float64\n",
      " 8   diagnosis_list                                                  554713 non-null  object \n",
      " 9   palliative_care_flag                                            554713 non-null  float64\n",
      " 10  delirium                                                        554713 non-null  float64\n",
      " 11  high_risk_med                                                   472524 non-null  float64\n",
      " 12  admission_type_DIRECT EMER.                                     555244 non-null  bool   \n",
      " 13  admission_type_DIRECT OBSERVATION                               555244 non-null  bool   \n",
      " 14  admission_type_ELECTIVE                                         555244 non-null  bool   \n",
      " 15  admission_type_EU OBSERVATION                                   555244 non-null  bool   \n",
      " 16  admission_type_EW EMER.                                         555244 non-null  bool   \n",
      " 17  admission_type_OBSERVATION ADMIT                                555244 non-null  bool   \n",
      " 18  admission_type_SURGICAL SAME DAY ADMISSION                      555244 non-null  bool   \n",
      " 19  admission_type_URGENT                                           555244 non-null  bool   \n",
      " 20  admission_location_CLINIC REFERRAL                              555244 non-null  bool   \n",
      " 21  admission_location_EMERGENCY ROOM                               555244 non-null  bool   \n",
      " 22  admission_location_INFORMATION NOT AVAILABLE                    555244 non-null  bool   \n",
      " 23  admission_location_INTERNAL TRANSFER TO OR FROM PSYCH           555244 non-null  bool   \n",
      " 24  admission_location_PACU                                         555244 non-null  bool   \n",
      " 25  admission_location_PHYSICIAN REFERRAL                           555244 non-null  bool   \n",
      " 26  admission_location_PROCEDURE SITE                               555244 non-null  bool   \n",
      " 27  admission_location_TRANSFER FROM HOSPITAL                       555244 non-null  bool   \n",
      " 28  admission_location_TRANSFER FROM SKILLED NURSING FACILITY       555244 non-null  bool   \n",
      " 29  admission_location_WALK-IN/SELF REFERRAL                        555244 non-null  bool   \n",
      " 30  discharge_location_AGAINST ADVICE                               555244 non-null  bool   \n",
      " 31  discharge_location_ASSISTED LIVING                              555244 non-null  bool   \n",
      " 32  discharge_location_CHRONIC/LONG TERM ACUTE CARE                 555244 non-null  bool   \n",
      " 33  discharge_location_DIED                                         555244 non-null  bool   \n",
      " 34  discharge_location_HEALTHCARE FACILITY                          555244 non-null  bool   \n",
      " 35  discharge_location_HOME                                         555244 non-null  bool   \n",
      " 36  discharge_location_HOME HEALTH CARE                             555244 non-null  bool   \n",
      " 37  discharge_location_HOSPICE                                      555244 non-null  bool   \n",
      " 38  discharge_location_OTHER FACILITY                               555244 non-null  bool   \n",
      " 39  discharge_location_PSYCH FACILITY                               555244 non-null  bool   \n",
      " 40  discharge_location_REHAB                                        555244 non-null  bool   \n",
      " 41  discharge_location_SKILLED NURSING FACILITY                     555244 non-null  bool   \n",
      " 42  insurance_Medicare                                              555244 non-null  bool   \n",
      " 43  insurance_No charge                                             555244 non-null  bool   \n",
      " 44  insurance_Other                                                 555244 non-null  bool   \n",
      " 45  insurance_Private                                               555244 non-null  bool   \n",
      " 46  race_ASIAN                                                      555244 non-null  bool   \n",
      " 47  race_ASIAN - ASIAN INDIAN                                       555244 non-null  bool   \n",
      " 48  race_ASIAN - CHINESE                                            555244 non-null  bool   \n",
      " 49  race_ASIAN - KOREAN                                             555244 non-null  bool   \n",
      " 50  race_ASIAN - SOUTH EAST ASIAN                                   555244 non-null  bool   \n",
      " 51  race_BLACK/AFRICAN                                              555244 non-null  bool   \n",
      " 52  race_BLACK/AFRICAN AMERICAN                                     555244 non-null  bool   \n",
      " 53  race_BLACK/CAPE VERDEAN                                         555244 non-null  bool   \n",
      " 54  race_BLACK/CARIBBEAN ISLAND                                     555244 non-null  bool   \n",
      " 55  race_HISPANIC OR LATINO                                         555244 non-null  bool   \n",
      " 56  race_HISPANIC/LATINO - CENTRAL AMERICAN                         555244 non-null  bool   \n",
      " 57  race_HISPANIC/LATINO - COLUMBIAN                                555244 non-null  bool   \n",
      " 58  race_HISPANIC/LATINO - CUBAN                                    555244 non-null  bool   \n",
      " 59  race_HISPANIC/LATINO - DOMINICAN                                555244 non-null  bool   \n",
      " 60  race_HISPANIC/LATINO - GUATEMALAN                               555244 non-null  bool   \n",
      " 61  race_HISPANIC/LATINO - HONDURAN                                 555244 non-null  bool   \n",
      " 62  race_HISPANIC/LATINO - MEXICAN                                  555244 non-null  bool   \n",
      " 63  race_HISPANIC/LATINO - PUERTO RICAN                             555244 non-null  bool   \n",
      " 64  race_HISPANIC/LATINO - SALVADORAN                               555244 non-null  bool   \n",
      " 65  race_MULTIPLE RACE/ETHNICITY                                    555244 non-null  bool   \n",
      " 66  race_NATIVE HAWAIIAN OR OTHER PACIFIC ISLANDER                  555244 non-null  bool   \n",
      " 67  race_OTHER                                                      555244 non-null  bool   \n",
      " 68  race_PATIENT DECLINED TO ANSWER                                 555244 non-null  bool   \n",
      " 69  race_PORTUGUESE                                                 555244 non-null  bool   \n",
      " 70  race_SOUTH AMERICAN                                             555244 non-null  bool   \n",
      " 71  race_UNABLE TO OBTAIN                                           555244 non-null  bool   \n",
      " 72  race_UNKNOWN                                                    555244 non-null  bool   \n",
      " 73  race_WHITE                                                      555244 non-null  bool   \n",
      " 74  race_WHITE - BRAZILIAN                                          555244 non-null  bool   \n",
      " 75  race_WHITE - EASTERN EUROPEAN                                   555244 non-null  bool   \n",
      " 76  race_WHITE - OTHER EUROPEAN                                     555244 non-null  bool   \n",
      " 77  race_WHITE - RUSSIAN                                            555244 non-null  bool   \n",
      " 78  gender_M                                                        555244 non-null  bool   \n",
      " 79  marital_status_MARRIED                                          555244 non-null  bool   \n",
      " 80  marital_status_SINGLE                                           555244 non-null  bool   \n",
      " 81  marital_status_WIDOWED                                          555244 non-null  bool   \n",
      " 82  last_careunit_Coronary Care Unit (CCU)                          555244 non-null  bool   \n",
      " 83  last_careunit_Intensive Care Unit (ICU)                         555244 non-null  bool   \n",
      " 84  last_careunit_Med/Surg                                          555244 non-null  bool   \n",
      " 85  last_careunit_Medical Intensive Care Unit (MICU)                555244 non-null  bool   \n",
      " 86  last_careunit_Medical/Surgical Intensive Care Unit (MICU/SICU)  555244 non-null  bool   \n",
      " 87  last_careunit_Medicine                                          555244 non-null  bool   \n",
      " 88  last_careunit_Medicine/Cardiology Intermediate                  555244 non-null  bool   \n",
      " 89  last_careunit_Neuro Intermediate                                555244 non-null  bool   \n",
      " 90  last_careunit_Neuro Stepdown                                    555244 non-null  bool   \n",
      " 91  last_careunit_Neuro Surgical Intensive Care Unit (Neuro SICU)   555244 non-null  bool   \n",
      " 92  last_careunit_Neurology                                         555244 non-null  bool   \n",
      " 93  last_careunit_PACU                                              555244 non-null  bool   \n",
      " 94  last_careunit_Surgery/Trauma                                    555244 non-null  bool   \n",
      " 95  last_careunit_Surgery/Vascular/Intermediate                     555244 non-null  bool   \n",
      " 96  last_careunit_Surgical Intensive Care Unit (SICU)               555244 non-null  bool   \n",
      " 97  last_careunit_Trauma SICU (TSICU)                               555244 non-null  bool   \n",
      "dtypes: bool(86), float64(7), int64(4), object(1)\n",
      "memory usage: 96.4+ MB\n",
      "None\n",
      "\n",
      "Missing Values:\n",
      " subject_id                                                0\n",
      "hadm_id                                                   0\n",
      "ed_time_spent                                        170019\n",
      "anchor_age                                                0\n",
      "anchor_year                                               0\n",
      "                                                      ...  \n",
      "last_careunit_PACU                                        0\n",
      "last_careunit_Surgery/Trauma                              0\n",
      "last_careunit_Surgery/Vascular/Intermediate               0\n",
      "last_careunit_Surgical Intensive Care Unit (SICU)         0\n",
      "last_careunit_Trauma SICU (TSICU)                         0\n",
      "Length: 98, dtype: int64\n"
     ]
    }
   ],
   "source": [
    "print(\"🔍 Dataset Overview:\")\n",
    "print(df.info())  # Check column types and memory usage\n",
    "print(\"\\nMissing Values:\\n\", df.isnull().sum())  # Count missing values\n"
   ]
  },
  {
   "cell_type": "markdown",
   "metadata": {
    "id": "TsX6iCPiEU7r"
   },
   "source": [
    "✅ Next Steps: Handling Missing Data\n",
    "\n"
   ]
  },
  {
   "cell_type": "code",
   "execution_count": 10,
   "metadata": {
    "id": "MVzqHvFQDd0R"
   },
   "outputs": [
    {
     "name": "stdout",
     "output_type": "stream",
     "text": [
      "✅ Missing values handled!\n"
     ]
    }
   ],
   "source": [
    "# Fill ICU LOS missing values (0 for non-ICU admissions)\n",
    "df[\"los\"] = df[\"los\"].fillna(0)\n",
    "\n",
    "# Fill num_comorbidities with median\n",
    "df[\"num_comorbidities\"] = df[\"num_comorbidities\"].fillna(df[\"num_comorbidities\"].median())\n",
    "\n",
    "print(\"✅ Missing values handled!\")\n",
    "\n"
   ]
  },
  {
   "cell_type": "code",
   "execution_count": 12,
   "metadata": {
    "id": "_-TdSdDNJu4X"
   },
   "outputs": [
    {
     "name": "stdout",
     "output_type": "stream",
     "text": [
      "✅ Dropped unnecessary identifiers!\n"
     ]
    }
   ],
   "source": [
    "# Drop identifiers that don't contribute to predictions\n",
    "df = df.drop(columns=[\"subject_id\", \"hadm_id\", \"stay_id\", \"anchor_year\"])\n",
    "\n",
    "print(\"✅ Dropped unnecessary identifiers!\")\n"
   ]
  },
  {
   "cell_type": "code",
   "execution_count": 14,
   "metadata": {
    "colab": {
     "base_uri": "https://localhost:8080/"
    },
    "id": "uMcb9mwANRmp",
    "outputId": "b5926d7f-7999-4d00-a4ba-d0acdebf0263"
   },
   "outputs": [
    {
     "name": "stdout",
     "output_type": "stream",
     "text": [
      "🔍 Dataset Overview:\n",
      "<class 'pandas.core.frame.DataFrame'>\n",
      "RangeIndex: 555244 entries, 0 to 555243\n",
      "Data columns (total 94 columns):\n",
      " #   Column                                                          Non-Null Count   Dtype  \n",
      "---  ------                                                          --------------   -----  \n",
      " 0   ed_time_spent                                                   385225 non-null  float64\n",
      " 1   anchor_age                                                      555244 non-null  int64  \n",
      " 2   los                                                             555244 non-null  float64\n",
      " 3   num_comorbidities                                               555244 non-null  float64\n",
      " 4   diagnosis_list                                                  554713 non-null  object \n",
      " 5   palliative_care_flag                                            554713 non-null  float64\n",
      " 6   delirium                                                        554713 non-null  float64\n",
      " 7   high_risk_med                                                   472524 non-null  float64\n",
      " 8   admission_type_DIRECT EMER.                                     555244 non-null  bool   \n",
      " 9   admission_type_DIRECT OBSERVATION                               555244 non-null  bool   \n",
      " 10  admission_type_ELECTIVE                                         555244 non-null  bool   \n",
      " 11  admission_type_EU OBSERVATION                                   555244 non-null  bool   \n",
      " 12  admission_type_EW EMER.                                         555244 non-null  bool   \n",
      " 13  admission_type_OBSERVATION ADMIT                                555244 non-null  bool   \n",
      " 14  admission_type_SURGICAL SAME DAY ADMISSION                      555244 non-null  bool   \n",
      " 15  admission_type_URGENT                                           555244 non-null  bool   \n",
      " 16  admission_location_CLINIC REFERRAL                              555244 non-null  bool   \n",
      " 17  admission_location_EMERGENCY ROOM                               555244 non-null  bool   \n",
      " 18  admission_location_INFORMATION NOT AVAILABLE                    555244 non-null  bool   \n",
      " 19  admission_location_INTERNAL TRANSFER TO OR FROM PSYCH           555244 non-null  bool   \n",
      " 20  admission_location_PACU                                         555244 non-null  bool   \n",
      " 21  admission_location_PHYSICIAN REFERRAL                           555244 non-null  bool   \n",
      " 22  admission_location_PROCEDURE SITE                               555244 non-null  bool   \n",
      " 23  admission_location_TRANSFER FROM HOSPITAL                       555244 non-null  bool   \n",
      " 24  admission_location_TRANSFER FROM SKILLED NURSING FACILITY       555244 non-null  bool   \n",
      " 25  admission_location_WALK-IN/SELF REFERRAL                        555244 non-null  bool   \n",
      " 26  discharge_location_AGAINST ADVICE                               555244 non-null  bool   \n",
      " 27  discharge_location_ASSISTED LIVING                              555244 non-null  bool   \n",
      " 28  discharge_location_CHRONIC/LONG TERM ACUTE CARE                 555244 non-null  bool   \n",
      " 29  discharge_location_DIED                                         555244 non-null  bool   \n",
      " 30  discharge_location_HEALTHCARE FACILITY                          555244 non-null  bool   \n",
      " 31  discharge_location_HOME                                         555244 non-null  bool   \n",
      " 32  discharge_location_HOME HEALTH CARE                             555244 non-null  bool   \n",
      " 33  discharge_location_HOSPICE                                      555244 non-null  bool   \n",
      " 34  discharge_location_OTHER FACILITY                               555244 non-null  bool   \n",
      " 35  discharge_location_PSYCH FACILITY                               555244 non-null  bool   \n",
      " 36  discharge_location_REHAB                                        555244 non-null  bool   \n",
      " 37  discharge_location_SKILLED NURSING FACILITY                     555244 non-null  bool   \n",
      " 38  insurance_Medicare                                              555244 non-null  bool   \n",
      " 39  insurance_No charge                                             555244 non-null  bool   \n",
      " 40  insurance_Other                                                 555244 non-null  bool   \n",
      " 41  insurance_Private                                               555244 non-null  bool   \n",
      " 42  race_ASIAN                                                      555244 non-null  bool   \n",
      " 43  race_ASIAN - ASIAN INDIAN                                       555244 non-null  bool   \n",
      " 44  race_ASIAN - CHINESE                                            555244 non-null  bool   \n",
      " 45  race_ASIAN - KOREAN                                             555244 non-null  bool   \n",
      " 46  race_ASIAN - SOUTH EAST ASIAN                                   555244 non-null  bool   \n",
      " 47  race_BLACK/AFRICAN                                              555244 non-null  bool   \n",
      " 48  race_BLACK/AFRICAN AMERICAN                                     555244 non-null  bool   \n",
      " 49  race_BLACK/CAPE VERDEAN                                         555244 non-null  bool   \n",
      " 50  race_BLACK/CARIBBEAN ISLAND                                     555244 non-null  bool   \n",
      " 51  race_HISPANIC OR LATINO                                         555244 non-null  bool   \n",
      " 52  race_HISPANIC/LATINO - CENTRAL AMERICAN                         555244 non-null  bool   \n",
      " 53  race_HISPANIC/LATINO - COLUMBIAN                                555244 non-null  bool   \n",
      " 54  race_HISPANIC/LATINO - CUBAN                                    555244 non-null  bool   \n",
      " 55  race_HISPANIC/LATINO - DOMINICAN                                555244 non-null  bool   \n",
      " 56  race_HISPANIC/LATINO - GUATEMALAN                               555244 non-null  bool   \n",
      " 57  race_HISPANIC/LATINO - HONDURAN                                 555244 non-null  bool   \n",
      " 58  race_HISPANIC/LATINO - MEXICAN                                  555244 non-null  bool   \n",
      " 59  race_HISPANIC/LATINO - PUERTO RICAN                             555244 non-null  bool   \n",
      " 60  race_HISPANIC/LATINO - SALVADORAN                               555244 non-null  bool   \n",
      " 61  race_MULTIPLE RACE/ETHNICITY                                    555244 non-null  bool   \n",
      " 62  race_NATIVE HAWAIIAN OR OTHER PACIFIC ISLANDER                  555244 non-null  bool   \n",
      " 63  race_OTHER                                                      555244 non-null  bool   \n",
      " 64  race_PATIENT DECLINED TO ANSWER                                 555244 non-null  bool   \n",
      " 65  race_PORTUGUESE                                                 555244 non-null  bool   \n",
      " 66  race_SOUTH AMERICAN                                             555244 non-null  bool   \n",
      " 67  race_UNABLE TO OBTAIN                                           555244 non-null  bool   \n",
      " 68  race_UNKNOWN                                                    555244 non-null  bool   \n",
      " 69  race_WHITE                                                      555244 non-null  bool   \n",
      " 70  race_WHITE - BRAZILIAN                                          555244 non-null  bool   \n",
      " 71  race_WHITE - EASTERN EUROPEAN                                   555244 non-null  bool   \n",
      " 72  race_WHITE - OTHER EUROPEAN                                     555244 non-null  bool   \n",
      " 73  race_WHITE - RUSSIAN                                            555244 non-null  bool   \n",
      " 74  gender_M                                                        555244 non-null  bool   \n",
      " 75  marital_status_MARRIED                                          555244 non-null  bool   \n",
      " 76  marital_status_SINGLE                                           555244 non-null  bool   \n",
      " 77  marital_status_WIDOWED                                          555244 non-null  bool   \n",
      " 78  last_careunit_Coronary Care Unit (CCU)                          555244 non-null  bool   \n",
      " 79  last_careunit_Intensive Care Unit (ICU)                         555244 non-null  bool   \n",
      " 80  last_careunit_Med/Surg                                          555244 non-null  bool   \n",
      " 81  last_careunit_Medical Intensive Care Unit (MICU)                555244 non-null  bool   \n",
      " 82  last_careunit_Medical/Surgical Intensive Care Unit (MICU/SICU)  555244 non-null  bool   \n",
      " 83  last_careunit_Medicine                                          555244 non-null  bool   \n",
      " 84  last_careunit_Medicine/Cardiology Intermediate                  555244 non-null  bool   \n",
      " 85  last_careunit_Neuro Intermediate                                555244 non-null  bool   \n",
      " 86  last_careunit_Neuro Stepdown                                    555244 non-null  bool   \n",
      " 87  last_careunit_Neuro Surgical Intensive Care Unit (Neuro SICU)   555244 non-null  bool   \n",
      " 88  last_careunit_Neurology                                         555244 non-null  bool   \n",
      " 89  last_careunit_PACU                                              555244 non-null  bool   \n",
      " 90  last_careunit_Surgery/Trauma                                    555244 non-null  bool   \n",
      " 91  last_careunit_Surgery/Vascular/Intermediate                     555244 non-null  bool   \n",
      " 92  last_careunit_Surgical Intensive Care Unit (SICU)               555244 non-null  bool   \n",
      " 93  last_careunit_Trauma SICU (TSICU)                               555244 non-null  bool   \n",
      "dtypes: bool(86), float64(6), int64(1), object(1)\n",
      "memory usage: 79.4+ MB\n",
      "None\n",
      "\n",
      "Missing Values:\n",
      " ed_time_spent                                        170019\n",
      "anchor_age                                                0\n",
      "los                                                       0\n",
      "num_comorbidities                                         0\n",
      "diagnosis_list                                          531\n",
      "                                                      ...  \n",
      "last_careunit_PACU                                        0\n",
      "last_careunit_Surgery/Trauma                              0\n",
      "last_careunit_Surgery/Vascular/Intermediate               0\n",
      "last_careunit_Surgical Intensive Care Unit (SICU)         0\n",
      "last_careunit_Trauma SICU (TSICU)                         0\n",
      "Length: 94, dtype: int64\n"
     ]
    }
   ],
   "source": [
    "print(\"🔍 Dataset Overview:\")\n",
    "print(df.info())  # Check column types and memory usage\n",
    "print(\"\\nMissing Values:\\n\", df.isnull().sum())  # Count missing values"
   ]
  },
  {
   "cell_type": "code",
   "execution_count": 16,
   "metadata": {
    "colab": {
     "base_uri": "https://localhost:8080/"
    },
    "id": "MTaZyV-aU1Tl",
    "outputId": "710eebaa-4cdb-4178-ee31-e560bbdc645a"
   },
   "outputs": [],
   "source": [
    "# Define target variable\n",
    "y = df[\"delirium\"]\n",
    "\n",
    "# Drop target column from features\n",
    "X = df.drop(columns=[\"delirium\"])\n"
   ]
  },
  {
   "cell_type": "code",
   "execution_count": 22,
   "metadata": {},
   "outputs": [
    {
     "name": "stdout",
     "output_type": "stream",
     "text": [
      "🔍 Missing values in target variable (y): 531\n",
      "✅ Features Shape (X): (555244, 93)\n",
      "✅ Target Shape (y): (555244,)\n"
     ]
    }
   ],
   "source": [
    "# Check if there are missing values in the target variable\n",
    "print(\"🔍 Missing values in target variable (y):\", y.isnull().sum())\n",
    "\n",
    "# Check dimensions of X and y\n",
    "print(\"✅ Features Shape (X):\", X.shape)\n",
    "print(\"✅ Target Shape (y):\", y.shape)\n"
   ]
  },
  {
   "cell_type": "code",
   "execution_count": 24,
   "metadata": {},
   "outputs": [],
   "source": [
    "df = df.dropna(subset=[\"delirium\"])  # Ensures no missing values in y\n",
    "X = df.drop(columns=[\"delirium\"])\n",
    "y = df[\"delirium\"]\n"
   ]
  },
  {
   "cell_type": "code",
   "execution_count": 26,
   "metadata": {},
   "outputs": [],
   "source": [
    "# Drop non-numeric columns before splitting\n",
    "non_numeric_cols = [\"diagnosis_list\"]\n",
    "X = X.drop(columns=non_numeric_cols, errors=\"ignore\")\n"
   ]
  },
  {
   "cell_type": "code",
   "execution_count": 28,
   "metadata": {},
   "outputs": [
    {
     "name": "stdout",
     "output_type": "stream",
     "text": [
      "✅ Train-test split completed!\n",
      "Training Set: (443770, 92), Test Set: (110943, 92)\n"
     ]
    }
   ],
   "source": [
    "from sklearn.model_selection import train_test_split\n",
    "\n",
    "# Perform train-test split (80% train, 20% test)\n",
    "X_train, X_test, y_train, y_test = train_test_split(\n",
    "    X, y, test_size=0.2, stratify=y, random_state=42\n",
    ")\n",
    "\n",
    "print(\"✅ Train-test split completed!\")\n",
    "print(f\"Training Set: {X_train.shape}, Test Set: {X_test.shape}\")\n"
   ]
  },
  {
   "cell_type": "code",
   "execution_count": 30,
   "metadata": {},
   "outputs": [
    {
     "name": "stdout",
     "output_type": "stream",
     "text": [
      "🔍 Non-Numeric Columns in X_train:\n",
      "Index([], dtype='object')\n",
      "🔍 Missing Values in X_train: 201851\n"
     ]
    }
   ],
   "source": [
    "# Check for non-numeric columns\n",
    "print(\"🔍 Non-Numeric Columns in X_train:\")\n",
    "print(X_train.select_dtypes(include=[\"object\"]).columns)\n",
    "\n",
    "# Check for missing values\n",
    "print(\"🔍 Missing Values in X_train:\", X_train.isnull().sum().sum())\n"
   ]
  },
  {
   "cell_type": "code",
   "execution_count": 32,
   "metadata": {},
   "outputs": [],
   "source": [
    "X_train = pd.get_dummies(X_train, drop_first=True)\n",
    "X_test = pd.get_dummies(X_test, drop_first=True)\n"
   ]
  },
  {
   "cell_type": "code",
   "execution_count": 34,
   "metadata": {},
   "outputs": [],
   "source": [
    "X_train = X_train.fillna(0)\n",
    "X_test = X_test.fillna(0)\n"
   ]
  },
  {
   "cell_type": "code",
   "execution_count": 46,
   "metadata": {},
   "outputs": [],
   "source": [
    "# Reapply SMOTE after fixes\n",
    "from imblearn.over_sampling import SMOTE\n"
   ]
  },
  {
   "cell_type": "code",
   "execution_count": 50,
   "metadata": {},
   "outputs": [
    {
     "name": "stdout",
     "output_type": "stream",
     "text": [
      "✅ SMOTE applied! New class distribution:\n",
      "delirium\n",
      "0.0    0.5\n",
      "1.0    0.5\n",
      "Name: proportion, dtype: float64\n"
     ]
    }
   ],
   "source": [
    "# Initialize SMOTE with n_jobs=1 to disable multiprocessing\n",
    "# smote = SMOTE(random_state=42,n_jobs=1)\n",
    "# gave error , remove & redone\n",
    "smote = SMOTE(random_state=42)\n",
    "\n",
    "# Apply SMOTE only on the training data\n",
    "X_train_resampled, y_train_resampled = smote.fit_resample(X_train, y_train)\n",
    "\n",
    "print(\"✅ SMOTE applied! New class distribution:\")\n",
    "print(pd.Series(y_train_resampled).value_counts(normalize=True))\n",
    "\n"
   ]
  },
  {
   "cell_type": "code",
   "execution_count": 52,
   "metadata": {},
   "outputs": [
    {
     "name": "stdout",
     "output_type": "stream",
     "text": [
      "✅ Random Forest Model Performance:\n",
      "              precision    recall  f1-score   support\n",
      "\n",
      "         0.0       0.98      1.00      0.99    108812\n",
      "         1.0       0.50      0.09      0.15      2131\n",
      "\n",
      "    accuracy                           0.98    110943\n",
      "   macro avg       0.74      0.54      0.57    110943\n",
      "weighted avg       0.97      0.98      0.97    110943\n",
      "\n"
     ]
    }
   ],
   "source": [
    "from sklearn.ensemble import RandomForestClassifier\n",
    "from sklearn.metrics import classification_report\n",
    "\n",
    "# Initialize Random Forest with class balancing\n",
    "rf_model = RandomForestClassifier(n_estimators=100, class_weight=\"balanced\", random_state=42)\n",
    "\n",
    "# Train model\n",
    "rf_model.fit(X_train_resampled, y_train_resampled)\n",
    "\n",
    "# Make predictions\n",
    "y_pred_rf = rf_model.predict(X_test)\n",
    "\n",
    "# Evaluate performance\n",
    "print(\"✅ Random Forest Model Performance:\")\n",
    "print(classification_report(y_test, y_pred_rf))\n"
   ]
  },
  {
   "cell_type": "code",
   "execution_count": 54,
   "metadata": {},
   "outputs": [
    {
     "name": "stdout",
     "output_type": "stream",
     "text": [
      "🔍 Top 10 Important Features for Delirium Prediction:\n",
      "num_comorbidities: 0.1318\n",
      "discharge_location_SKILLED NURSING FACILITY: 0.1044\n",
      "los: 0.0864\n",
      "anchor_age: 0.0636\n",
      "high_risk_med: 0.0582\n",
      "insurance_Medicare: 0.0510\n",
      "ed_time_spent: 0.0330\n",
      "admission_type_EW EMER.: 0.0306\n",
      "admission_type_OBSERVATION ADMIT: 0.0269\n",
      "discharge_location_HOME HEALTH CARE: 0.0251\n"
     ]
    }
   ],
   "source": [
    "import numpy as np\n",
    "\n",
    "# Get feature importances\n",
    "importances = rf_model.feature_importances_\n",
    "feature_names = X_train_resampled.columns\n",
    "\n",
    "# Sort and display top 10 features\n",
    "sorted_indices = np.argsort(importances)[::-1]\n",
    "\n",
    "print(\"🔍 Top 10 Important Features for Delirium Prediction:\")\n",
    "for idx in sorted_indices[:10]:\n",
    "    print(f\"{feature_names[idx]}: {importances[idx]:.4f}\")\n"
   ]
  },
  {
   "cell_type": "code",
   "execution_count": 56,
   "metadata": {},
   "outputs": [],
   "source": [
    "rf_model = RandomForestClassifier(n_estimators=200, class_weight=\"balanced_subsample\", random_state=42)\n"
   ]
  },
  {
   "cell_type": "code",
   "execution_count": null,
   "metadata": {},
   "outputs": [],
   "source": [
    "from sklearn.model_selection import GridSearchCV\n",
    "\n",
    "param_grid = {\n",
    "    \"n_estimators\": [100, 200, 300],\n",
    "    \"max_depth\": [10, 20, None],\n",
    "    \"min_samples_split\": [2, 5, 10],\n",
    "    \"min_samples_leaf\": [1, 2, 4]\n",
    "}\n",
    "\n",
    "grid_search = GridSearchCV(RandomForestClassifier(class_weight=\"balanced_subsample\", random_state=42), \n",
    "                           param_grid, cv=5, scoring=\"f1\")\n",
    "grid_search.fit(X_train_resampled, y_train_resampled)\n",
    "\n",
    "print(\"✅ Best Parameters:\", grid_search.best_params_)\n"
   ]
  },
  {
   "cell_type": "code",
   "execution_count": null,
   "metadata": {},
   "outputs": [],
   "source": []
  }
 ],
 "metadata": {
  "colab": {
   "provenance": []
  },
  "kernelspec": {
   "display_name": "Python [conda env:base] *",
   "language": "python",
   "name": "conda-base-py"
  },
  "language_info": {
   "codemirror_mode": {
    "name": "ipython",
    "version": 3
   },
   "file_extension": ".py",
   "mimetype": "text/x-python",
   "name": "python",
   "nbconvert_exporter": "python",
   "pygments_lexer": "ipython3",
   "version": "3.12.7"
  }
 },
 "nbformat": 4,
 "nbformat_minor": 4
}
