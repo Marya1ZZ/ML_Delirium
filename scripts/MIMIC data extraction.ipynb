{
 "cells": [
  {
   "cell_type": "code",
   "execution_count": 1,
   "id": "51d29662-36cb-4862-9324-7df26292c636",
   "metadata": {},
   "outputs": [
    {
     "name": "stdout",
     "output_type": "stream",
     "text": [
      "Memory Usage: 30.6%\n"
     ]
    }
   ],
   "source": [
    "import pandas as pd\n",
    "import os\n",
    "import psutil\n",
    "import dask.dataframe as dd\n",
    "\n",
    "# Step 1: Define Data Path for Local Execution\n",
    "data_path = \"D:/mimic-iv-3.1\"\n",
    "\n",
    "# Step 2: Check memory usage before loading data\n",
    "def check_memory():\n",
    "    print(f\"Memory Usage: {psutil.virtual_memory().percent}%\")\n",
    "\n",
    "check_memory()"
   ]
  },
  {
   "cell_type": "code",
   "execution_count": 9,
   "id": "61e4301b-7913-422c-9019-c258dae0fa58",
   "metadata": {},
   "outputs": [],
   "source": [
    "# Step 3: Load MIMIC-IV Tables with optimized memory handling\n",
    "# Load small tables directlyadmissions = pd.read_csv(os.path.join(data_path, \"hosp/admissions.csv.gz\"), \n",
    "admissions = pd.read_csv(os.path.join(data_path, \"hosp/admissions.csv.gz\"), \n",
    "                          usecols=[\"subject_id\", \"hadm_id\", \"admission_type\", \"admission_location\", \"discharge_location\", \"insurance\", \"race\", \"marital_status\", \"edregtime\", \"edouttime\"], \n",
    "                          low_memory=False)\n",
    "\n",
    "# Calculate time spent in ED before admission\n",
    "admissions[\"ed_time_spent\"] = (pd.to_datetime(admissions[\"edouttime\"]) - pd.to_datetime(admissions[\"edregtime\"])).dt.total_seconds() / 60  # Convert to minutes\n",
    "\n",
    "# Drop original ED timestamps\n",
    "admissions = admissions.drop(columns=[\"edregtime\", \"edouttime\"], errors=\"ignore\")\n",
    "\n"
   ]
  },
  {
   "cell_type": "code",
   "execution_count": 11,
   "id": "2753a261-5e04-41de-907f-30093db57fdd",
   "metadata": {},
   "outputs": [],
   "source": [
    "\n",
    "patients = pd.read_csv(os.path.join(data_path, \"hosp/patients.csv.gz\"), \n",
    "                        usecols=[\"subject_id\", \"gender\", \"anchor_age\", \"anchor_year\"], \n",
    "                        low_memory=False)\n",
    "\n",
    "icustays = pd.read_csv(os.path.join(data_path, \"icu/icustays.csv.gz\"), \n",
    "                        usecols=[\"subject_id\", \"hadm_id\", \"stay_id\",\"last_careunit\", \"los\",], \n",
    "                        low_memory=False)\n",
    "\n",
    "diagnoses = pd.read_csv(os.path.join(data_path, \"hosp/diagnoses_icd.csv.gz\"), \n",
    "                         usecols=[\"subject_id\", \"hadm_id\", \"icd_code\"], \n",
    "                         low_memory=False)\n"
   ]
  },
  {
   "cell_type": "code",
   "execution_count": null,
   "id": "96077efe-c3da-4864-b616-acbbab84c73e",
   "metadata": {},
   "outputs": [],
   "source": [
    "# Load large tables in chunks\n",
    "chunk_size = 250000  # Adjusted chunk size for stability\n",
    "\n",
    "prescriptions = pd.read_csv(os.path.join(data_path, \"hosp/prescriptions.csv.gz\"),\n",
    "                            usecols=[\"subject_id\", \"hadm_id\", \"starttime\", \"stoptime\", \"drug\", \"drug_type\", \"formulary_drug_cd\"],\n",
    "                            low_memory=False)\n",
    "\n",
    "lab_events_iter = pd.read_csv(os.path.join(data_path, \"hosp/labevents.csv.gz\"), \n",
    "                               usecols=[\"subject_id\", \"hadm_id\", \"itemid\", \"valuenum\"], \n",
    "                               low_memory=False, \n",
    "                               chunksize=chunk_size)\n",
    "lab_events = pd.concat(lab_events_iter)\n",
    "\n",
    "chartevents_iter = pd.read_csv(os.path.join(data_path, \"icu/chartevents.csv.gz\"), \n",
    "                                usecols=[\"subject_id\", \"hadm_id\", \"itemid\", \"valuenum\"], \n",
    "                                low_memory=False, \n",
    "                                chunksize=chunk_size)\n",
    "chartevents = pd.concat(chartevents_iter)\n"
   ]
  },
  {
   "cell_type": "code",
   "execution_count": 13,
   "id": "eb5d1c71-9aa2-434c-b2e6-8f2b408d939b",
   "metadata": {},
   "outputs": [],
   "source": [
    "\n",
    "# Load item labels\n",
    "d_items = pd.read_csv(os.path.join(data_path, \"icu/d_items.csv.gz\"), usecols=[\"itemid\", \"label\"], low_memory=False)\n",
    "d_labitems = pd.read_csv(os.path.join(data_path, \"hosp/d_labitems.csv.gz\"), usecols=[\"itemid\", \"label\"], low_memory=False)\n",
    "d_procedures = pd.read_csv(os.path.join(data_path, \"hosp/d_icd_procedures.csv.gz\"), usecols=[\"icd_code\", \"long_title\"], low_memory=False)\n"
   ]
  },
  {
   "cell_type": "code",
   "execution_count": 15,
   "id": "13dae2bb-8759-47ea-9336-f9912ba2f1b1",
   "metadata": {},
   "outputs": [
    {
     "name": "stdout",
     "output_type": "stream",
     "text": [
      "Memory Usage: 30.9%\n"
     ]
    }
   ],
   "source": [
    "# Step 4: Check memory usage after loading data\n",
    "check_memory()\n",
    "\n",
    "# Step 5: Merge Data for Delirium Prediction\n",
    "core_data = pd.merge(admissions, patients, on=\"subject_id\", how=\"inner\")\n",
    "core_data = pd.merge(core_data, icustays, on=[\"subject_id\", \"hadm_id\"], how=\"left\")\n",
    "core_data = pd.merge(core_data, diagnoses, on=[\"subject_id\", \"hadm_id\"], how=\"left\") \n",
    "\n",
    "# Identify Delirium Cases Using ICD Codes\n",
    "# Define ICD Codes for Delirium\n",
    "delirium_icd_codes = [\"F05\", \"2930\", \"2931\",\"F051\",\"F050\",\"F059\" ]  # ICD-10 & ICD-9 Codes\n",
    "core_data[\"delirium\"] = core_data[\"icd_code\"].isin(delirium_icd_codes).astype(int)\n",
    "\n",
    "# Comorbidity Identification\n",
    "comorbidity_count = diagnoses.groupby([\"subject_id\", \"hadm_id\"])['icd_code'].nunique().reset_index()\n",
    "comorbidity_count.rename(columns={'icd_code': 'num_comorbidities'}, inplace=True)\n",
    "core_data = pd.merge(core_data, comorbidity_count, on=[\"subject_id\", \"hadm_id\"], how=\"left\")"
   ]
  },
  {
   "cell_type": "code",
   "execution_count": 17,
   "id": "62b53356-32e6-411c-a7d7-06f1323a5d77",
   "metadata": {},
   "outputs": [],
   "source": [
    "# Merge ICU procedures\n",
    "diagnoses_labeled = pd.merge(diagnoses, d_procedures, on=\"icd_code\", how=\"left\")\n",
    "primary_procedure = diagnoses_labeled.groupby([\"subject_id\", \"hadm_id\"])['long_title'].first().reset_index()\n",
    "primary_procedure.rename(columns={'long_title': 'primary_procedure'}, inplace=True)\n",
    "core_data = pd.merge(core_data, primary_procedure, on=[\"subject_id\", \"hadm_id\"], how=\"left\")\n",
    "\n"
   ]
  },
  {
   "cell_type": "code",
   "execution_count": 19,
   "id": "cf0b6e4e-2722-4574-aec0-07a3092ba5ee",
   "metadata": {},
   "outputs": [],
   "source": [
    "prescriptions = pd.read_csv(os.path.join(data_path, \"hosp/prescriptions.csv.gz\"),\n",
    "                            usecols=[\"subject_id\", \"hadm_id\", \"starttime\", \"stoptime\", \"drug\", \"drug_type\", \"formulary_drug_cd\"],\n",
    "                            low_memory=False)\n"
   ]
  },
  {
   "cell_type": "code",
   "execution_count": 3,
   "id": "b6bef8c5-8bac-4114-9fa4-209445bc2552",
   "metadata": {},
   "outputs": [
    {
     "ename": "NameError",
     "evalue": "name 'prescriptions' is not defined",
     "output_type": "error",
     "traceback": [
      "\u001b[1;31m---------------------------------------------------------------------------\u001b[0m",
      "\u001b[1;31mNameError\u001b[0m                                 Traceback (most recent call last)",
      "Cell \u001b[1;32mIn[3], line 26\u001b[0m\n\u001b[0;32m      2\u001b[0m high_risk_meds \u001b[38;5;241m=\u001b[39m [\n\u001b[0;32m      3\u001b[0m     \u001b[38;5;66;03m# **Benzodiazepines**\u001b[39;00m\n\u001b[0;32m      4\u001b[0m     \u001b[38;5;124m\"\u001b[39m\u001b[38;5;124mlorazepam\u001b[39m\u001b[38;5;124m\"\u001b[39m, \u001b[38;5;124m\"\u001b[39m\u001b[38;5;124mmidazolam\u001b[39m\u001b[38;5;124m\"\u001b[39m, \u001b[38;5;124m\"\u001b[39m\u001b[38;5;124mdiazepam\u001b[39m\u001b[38;5;124m\"\u001b[39m, \u001b[38;5;124m\"\u001b[39m\u001b[38;5;124mclonazepam\u001b[39m\u001b[38;5;124m\"\u001b[39m, \u001b[38;5;124m\"\u001b[39m\u001b[38;5;124malprazolam\u001b[39m\u001b[38;5;124m\"\u001b[39m, \u001b[38;5;124m\"\u001b[39m\u001b[38;5;124mtemazepam\u001b[39m\u001b[38;5;124m\"\u001b[39m, \u001b[38;5;124m\"\u001b[39m\u001b[38;5;124mchlordiazepoxide\u001b[39m\u001b[38;5;124m\"\u001b[39m,\n\u001b[1;32m   (...)\u001b[0m\n\u001b[0;32m     22\u001b[0m     \u001b[38;5;124m\"\u001b[39m\u001b[38;5;124mmetoclopramide\u001b[39m\u001b[38;5;124m\"\u001b[39m, \u001b[38;5;124m\"\u001b[39m\u001b[38;5;124mcyclobenzaprine\u001b[39m\u001b[38;5;124m\"\u001b[39m, \u001b[38;5;124m\"\u001b[39m\u001b[38;5;124mbaclofen\u001b[39m\u001b[38;5;124m\"\u001b[39m, \u001b[38;5;124m\"\u001b[39m\u001b[38;5;124mamantadine\u001b[39m\u001b[38;5;124m\"\u001b[39m\n\u001b[0;32m     23\u001b[0m ]\n\u001b[0;32m     25\u001b[0m \u001b[38;5;66;03m# Convert drug names to lowercase for consistency\u001b[39;00m\n\u001b[1;32m---> 26\u001b[0m prescriptions[\u001b[38;5;124m\"\u001b[39m\u001b[38;5;124mdrug\u001b[39m\u001b[38;5;124m\"\u001b[39m] \u001b[38;5;241m=\u001b[39m prescriptions[\u001b[38;5;124m\"\u001b[39m\u001b[38;5;124mdrug\u001b[39m\u001b[38;5;124m\"\u001b[39m]\u001b[38;5;241m.\u001b[39mastype(\u001b[38;5;28mstr\u001b[39m)\u001b[38;5;241m.\u001b[39mstr\u001b[38;5;241m.\u001b[39mlower()\u001b[38;5;241m.\u001b[39mstr\u001b[38;5;241m.\u001b[39mstrip()\n\u001b[0;32m     28\u001b[0m \u001b[38;5;66;03m# Identify if patient received any high-risk medications\u001b[39;00m\n\u001b[0;32m     29\u001b[0m prescriptions[\u001b[38;5;124m\"\u001b[39m\u001b[38;5;124mhigh_risk_med\u001b[39m\u001b[38;5;124m\"\u001b[39m] \u001b[38;5;241m=\u001b[39m prescriptions[\u001b[38;5;124m\"\u001b[39m\u001b[38;5;124mdrug\u001b[39m\u001b[38;5;124m\"\u001b[39m]\u001b[38;5;241m.\u001b[39mapply(\u001b[38;5;28;01mlambda\u001b[39;00m x: \u001b[38;5;241m1\u001b[39m \u001b[38;5;28;01mif\u001b[39;00m \u001b[38;5;28many\u001b[39m(med \u001b[38;5;129;01min\u001b[39;00m x \u001b[38;5;28;01mfor\u001b[39;00m med \u001b[38;5;129;01min\u001b[39;00m high_risk_meds) \u001b[38;5;28;01melse\u001b[39;00m \u001b[38;5;241m0\u001b[39m)\n",
      "\u001b[1;31mNameError\u001b[0m: name 'prescriptions' is not defined"
     ]
    }
   ],
   "source": [
    "# Define expanded high-risk medications list based on literature\n",
    "high_risk_meds = [\n",
    "    # **Benzodiazepines**\n",
    "    \"lorazepam\", \"midazolam\", \"diazepam\", \"clonazepam\", \"alprazolam\", \"temazepam\", \"chlordiazepoxide\",\n",
    "\n",
    "    # **Opioids**\n",
    "    \"morphine\", \"fentanyl\", \"hydromorphone\", \"oxycodone\", \"meperidine\", \"codeine\", \"tramadol\", \"buprenorphine\",\n",
    "\n",
    "    # **Propofol & Sedatives**\n",
    "    \"propofol\", \"dexmedetomidine\",\n",
    "\n",
    "    # **Antipsychotics**\n",
    "    \"haloperidol\", \"olanzapine\", \"quetiapine\", \"risperidone\", \"ziprasidone\", \"chlorpromazine\", \"aripiprazole\",\n",
    "\n",
    "    # **Anticholinergics**\n",
    "    \"diphenhydramine\", \"hydroxyzine\", \"promethazine\", \"oxybutynin\", \"scopolamine\", \"benztropine\", \"atropine\",\n",
    "\n",
    "    # **Corticosteroids**\n",
    "    \"dexamethasone\", \"prednisone\", \"methylprednisolone\", \"hydrocortisone\",\n",
    "\n",
    "    # **Other elirium-Associated Medications**\n",
    "    \"metoclopramide\", \"cyclobenzaprine\", \"baclofen\", \"amantadine\"\n",
    "]\n",
    "\n",
    "# Convert drug names to lowercase for consistency\n",
    "prescriptions[\"drug\"] = prescriptions[\"drug\"].astype(str).str.lower().str.strip()\n",
    "\n",
    "# Identify if patient received any high-risk medications\n",
    "prescriptions[\"high_risk_med\"] = prescriptions[\"drug\"].apply(lambda x: 1 if any(med in x for med in high_risk_meds) else 0)\n",
    "\n",
    "# Aggregate per admission\n",
    "medication_use = prescriptions.groupby([\"subject_id\", \"hadm_id\"])[\"high_risk_med\"].max().reset_index()\n",
    "\n"
   ]
  },
  {
   "cell_type": "code",
   "execution_count": 35,
   "id": "c49f80e3-d339-475f-a3f3-86ea43c2bc52",
   "metadata": {},
   "outputs": [
    {
     "name": "stdout",
     "output_type": "stream",
     "text": [
      "🔍 High-Risk Medication Distribution:\n",
      "high_risk_med\n",
      "0    18051937\n",
      "1     2240674\n",
      "Name: count, dtype: int64\n",
      "✅ High-Risk Medication Counts Processed!\n",
      "   subject_id   hadm_id  high_risk_med                 high_risk_med_type_x  \\\n",
      "0    10000032  22595853              0                                  NaN   \n",
      "1    10000032  22841357              0                                  NaN   \n",
      "2    10000032  25742920              1  tramadol (ultram), morphine sulfate   \n",
      "3    10000032  29079034              1                    tramadol (ultram)   \n",
      "4    10000084  23052089              1                  quetiapine fumarate   \n",
      "\n",
      "                  high_risk_med_type_y  \n",
      "0                                  NaN  \n",
      "1                                  NaN  \n",
      "2  tramadol (ultram), morphine sulfate  \n",
      "3                    tramadol (ultram)  \n",
      "4                  quetiapine fumarate  \n"
     ]
    }
   ],
   "source": [
    "# Count the number of admissions that received high-risk meds\n",
    "high_risk_med_counts = prescriptions[\"high_risk_med\"].value_counts()\n",
    "\n",
    "print(\"🔍 High-Risk Medication Distribution:\")\n",
    "print(high_risk_med_counts)\n",
    "\n",
    "# Retain specific high-risk medication type given per admission\n",
    "high_risk_med_types = prescriptions[prescriptions[\"high_risk_med\"] == 1].groupby([\"subject_id\", \"hadm_id\"])[\"drug\"].unique().reset_index()\n",
    "high_risk_med_types.rename(columns={\"drug\": \"high_risk_med_type\"}, inplace=True)\n",
    "\n",
    "# Convert lists of medications to comma-separated strings for easy readability\n",
    "high_risk_med_types[\"high_risk_med_type\"] = high_risk_med_types[\"high_risk_med_type\"].apply(lambda x: \", \".join(x))\n",
    "\n",
    "# Merge high-risk medication types into `medication_use`\n",
    "medication_use = pd.merge(medication_use, high_risk_med_types, on=[\"subject_id\", \"hadm_id\"], how=\"left\")\n",
    "\n",
    "print(\"✅ High-Risk Medication Counts Processed!\")\n",
    "print(medication_use.head())  # Display first few rows to verify\n"
   ]
  },
  {
   "cell_type": "code",
   "execution_count": 51,
   "id": "d09c65e0-05cb-4b2d-8451-1b3ac4748c17",
   "metadata": {},
   "outputs": [
    {
     "name": "stdout",
     "output_type": "stream",
     "text": [
      "✅ Prescriptions merged successfully. Updated shape: (6599888, 28)\n"
     ]
    }
   ],
   "source": [
    "# Merge high-risk medication flag and counts into core_data\n",
    "core_data = pd.merge(core_data, medication_use, on=[\"subject_id\", \"hadm_id\"], how=\"left\")\n",
    "\n",
    "print(\"✅ Prescriptions merged successfully. Updated shape:\", core_data.shape)"
   ]
  },
  {
   "cell_type": "code",
   "execution_count": 39,
   "id": "d5f2968e-6a94-4766-b0fd-65a222a3008c",
   "metadata": {},
   "outputs": [
    {
     "name": "stdout",
     "output_type": "stream",
     "text": [
      "✅ Core Data Shape: (6599888, 22)\n",
      "   subject_id   hadm_id admission_type      admission_location  \\\n",
      "0    10000032  22595853         URGENT  TRANSFER FROM HOSPITAL   \n",
      "1    10000032  22595853         URGENT  TRANSFER FROM HOSPITAL   \n",
      "2    10000032  22595853         URGENT  TRANSFER FROM HOSPITAL   \n",
      "3    10000032  22595853         URGENT  TRANSFER FROM HOSPITAL   \n",
      "4    10000032  22595853         URGENT  TRANSFER FROM HOSPITAL   \n",
      "\n",
      "  discharge_location insurance marital_status   race  ed_time_spent gender  \\\n",
      "0               HOME  Medicaid        WIDOWED  WHITE          253.0      F   \n",
      "1               HOME  Medicaid        WIDOWED  WHITE          253.0      F   \n",
      "2               HOME  Medicaid        WIDOWED  WHITE          253.0      F   \n",
      "3               HOME  Medicaid        WIDOWED  WHITE          253.0      F   \n",
      "4               HOME  Medicaid        WIDOWED  WHITE          253.0      F   \n",
      "\n",
      "   ...  stay_id  last_careunit  los icd_code  delirium num_comorbidities  \\\n",
      "0  ...      NaN            NaN  NaN     5723         0               8.0   \n",
      "1  ...      NaN            NaN  NaN    78959         0               8.0   \n",
      "2  ...      NaN            NaN  NaN     5715         0               8.0   \n",
      "3  ...      NaN            NaN  NaN    07070         0               8.0   \n",
      "4  ...      NaN            NaN  NaN      496         0               8.0   \n",
      "\n",
      "   primary_procedure  high_risk_med high_risk_med_type_x  high_risk_med_type_y  \n",
      "0   Excision of anus            0.0                  NaN                   NaN  \n",
      "1   Excision of anus            0.0                  NaN                   NaN  \n",
      "2   Excision of anus            0.0                  NaN                   NaN  \n",
      "3   Excision of anus            0.0                  NaN                   NaN  \n",
      "4   Excision of anus            0.0                  NaN                   NaN  \n",
      "\n",
      "[5 rows x 22 columns]\n"
     ]
    }
   ],
   "source": [
    "print(\"✅ Core Data Shape:\", core_data.shape)\n",
    "print(core_data.head())  # Show first 5 rows\n"
   ]
  },
  {
   "cell_type": "code",
   "execution_count": 41,
   "id": "ebd05c01-6cb0-4049-9d6f-ffc772354487",
   "metadata": {},
   "outputs": [
    {
     "name": "stdout",
     "output_type": "stream",
     "text": [
      "🔍 Core Data Columns:\n",
      "['subject_id', 'hadm_id', 'admission_type', 'admission_location', 'discharge_location', 'insurance', 'marital_status', 'race', 'ed_time_spent', 'gender', 'anchor_age', 'anchor_year', 'stay_id', 'last_careunit', 'los', 'icd_code', 'delirium', 'num_comorbidities', 'primary_procedure', 'high_risk_med', 'high_risk_med_type_x', 'high_risk_med_type_y']\n"
     ]
    }
   ],
   "source": [
    "print(\"🔍 Core Data Columns:\")\n",
    "print(core_data.columns.tolist())\n"
   ]
  },
  {
   "cell_type": "code",
   "execution_count": 43,
   "id": "49aec16d-6376-4e18-920e-8cb20cffacf2",
   "metadata": {},
   "outputs": [
    {
     "name": "stdout",
     "output_type": "stream",
     "text": [
      "🔍 Missing Values Summary:\n",
      "subject_id                    0\n",
      "hadm_id                       0\n",
      "admission_type                0\n",
      "admission_location            3\n",
      "discharge_location      1098655\n",
      "insurance                 63470\n",
      "marital_status           210998\n",
      "race                          0\n",
      "ed_time_spent           1960984\n",
      "gender                        0\n",
      "anchor_age                    0\n",
      "anchor_year                   0\n",
      "stay_id                 4840622\n",
      "last_careunit           4840622\n",
      "los                     4840963\n",
      "icd_code                    531\n",
      "delirium                      0\n",
      "num_comorbidities           531\n",
      "primary_procedure       3879371\n",
      "high_risk_med            443166\n",
      "high_risk_med_type_x    1524367\n",
      "high_risk_med_type_y    1524367\n",
      "dtype: int64\n"
     ]
    }
   ],
   "source": [
    "print(\"🔍 Missing Values Summary:\")\n",
    "print(core_data.isnull().sum())\n"
   ]
  },
  {
   "cell_type": "code",
   "execution_count": 45,
   "id": "99101ce9-3206-4625-a7ad-de3d9b152c98",
   "metadata": {},
   "outputs": [
    {
     "name": "stdout",
     "output_type": "stream",
     "text": [
      "🔍 Unique values in high_risk_med:\n",
      "high_risk_med\n",
      "1.0    5075521\n",
      "0.0    1081201\n",
      "Name: count, dtype: int64\n"
     ]
    }
   ],
   "source": [
    "print(\"🔍 Unique values in high_risk_med:\")\n",
    "print(core_data[\"high_risk_med\"].value_counts())\n"
   ]
  },
  {
   "cell_type": "code",
   "execution_count": 47,
   "id": "c202f28e-eedb-4473-a9be-b3a9720425da",
   "metadata": {},
   "outputs": [
    {
     "name": "stdout",
     "output_type": "stream",
     "text": [
      "🔍 Data Types:\n",
      "subject_id                int64\n",
      "hadm_id                   int64\n",
      "admission_type           object\n",
      "admission_location       object\n",
      "discharge_location       object\n",
      "insurance                object\n",
      "marital_status           object\n",
      "race                     object\n",
      "ed_time_spent           float64\n",
      "gender                   object\n",
      "anchor_age                int64\n",
      "anchor_year               int64\n",
      "stay_id                 float64\n",
      "last_careunit            object\n",
      "los                     float64\n",
      "icd_code                 object\n",
      "delirium                  int32\n",
      "num_comorbidities       float64\n",
      "primary_procedure        object\n",
      "high_risk_med           float64\n",
      "high_risk_med_type_x     object\n",
      "high_risk_med_type_y     object\n",
      "dtype: object\n"
     ]
    }
   ],
   "source": [
    "print(\"🔍 Data Types:\")\n",
    "print(core_data.dtypes)\n"
   ]
  },
  {
   "cell_type": "code",
   "execution_count": null,
   "id": "32c6c505-0226-4739-9aa2-94b2a6e3d94d",
   "metadata": {},
   "outputs": [],
   "source": [
    "# DID NOT RUN SAVE FOR EDA ??  # Fill NaN values for missing medications\n",
    "core_data[\"high_risk_med\"] = core_data[\"high_risk_med\"].fillna(0).astype(int)"
   ]
  },
  {
   "cell_type": "code",
   "execution_count": 53,
   "id": "1791893e-ed9a-4af7-ace7-67c883f35e6d",
   "metadata": {},
   "outputs": [
    {
     "name": "stdout",
     "output_type": "stream",
     "text": [
      "✅ Delirium prediction dataset saved successfully!\n"
     ]
    }
   ],
   "source": [
    "# Step 6: Save Processed Data for ML Modeling\n",
    "output_path = \"D:/MIMIC-IV-Data-Pipeline/processed_data\"\n",
    "os.makedirs(output_path, exist_ok=True)\n",
    "core_data.to_csv(os.path.join(output_path, \"delirium_prediction_data_v2.csv.gz\"), index=False, compression='gzip')\n",
    "\n",
    "print(\"✅ Delirium prediction dataset saved successfully!\")\n"
   ]
  },
  {
   "cell_type": "code",
   "execution_count": 1,
   "id": "71f2964d-361e-4a8a-b59f-429624b6e1ce",
   "metadata": {},
   "outputs": [
    {
     "name": "stdout",
     "output_type": "stream",
     "text": [
      "🔍 Unique Diagnoses in Dataset:\n"
     ]
    },
    {
     "ename": "NameError",
     "evalue": "name 'core_data' is not defined",
     "output_type": "error",
     "traceback": [
      "\u001b[1;31m---------------------------------------------------------------------------\u001b[0m",
      "\u001b[1;31mNameError\u001b[0m                                 Traceback (most recent call last)",
      "Cell \u001b[1;32mIn[1], line 3\u001b[0m\n\u001b[0;32m      1\u001b[0m \u001b[38;5;66;03m#Check if icd_code was kept in core_data\u001b[39;00m\n\u001b[0;32m      2\u001b[0m \u001b[38;5;28mprint\u001b[39m(\u001b[38;5;124m\"\u001b[39m\u001b[38;5;124m🔍 Unique Diagnoses in Dataset:\u001b[39m\u001b[38;5;124m\"\u001b[39m)\n\u001b[1;32m----> 3\u001b[0m \u001b[38;5;28mprint\u001b[39m(core_data[\u001b[38;5;124m\"\u001b[39m\u001b[38;5;124micd_code\u001b[39m\u001b[38;5;124m\"\u001b[39m]\u001b[38;5;241m.\u001b[39mnunique())  \u001b[38;5;66;03m# Count unique ICD codes\u001b[39;00m\n\u001b[0;32m      4\u001b[0m \u001b[38;5;66;03m#List Sample of Diagnoses\u001b[39;00m\n\u001b[0;32m      5\u001b[0m \u001b[38;5;28mprint\u001b[39m(\u001b[38;5;124m\"\u001b[39m\u001b[38;5;124m🔍 Sample Diagnoses in Dataset:\u001b[39m\u001b[38;5;124m\"\u001b[39m)\n",
      "\u001b[1;31mNameError\u001b[0m: name 'core_data' is not defined"
     ]
    }
   ],
   "source": [
    "#Check if icd_code was kept in core_data\n",
    "print(\"🔍 Unique Diagnoses in Dataset:\")\n",
    "print(core_data[\"icd_code\"].nunique())  # Count unique ICD codes\n",
    "#List Sample of Diagnoses\n",
    "print(\"🔍 Sample Diagnoses in Dataset:\")\n",
    "print(core_data[\"icd_code\"].value_counts().head(20))  # Show top 20 diagnoses\n",
    "#Check If Palliative Care ICD Codes Exist  \n",
    "# didnt work\n",
    "palliative_care_codes = [\"Z51.5\", \"V66.7\"]\n",
    "print(\"🔍 Palliative Care Diagnoses Found:\")\n",
    "print(core_data[core_data[\"icd_code\"].isin(palliative_care_codes)])"
   ]
  },
  {
   "cell_type": "code",
   "execution_count": null,
   "id": "cac3681f-4ce7-4520-94a6-f3661744db7b",
   "metadata": {},
   "outputs": [],
   "source": []
  }
 ],
 "metadata": {
  "kernelspec": {
   "display_name": "Python [conda env:base] *",
   "language": "python",
   "name": "conda-base-py"
  },
  "language_info": {
   "codemirror_mode": {
    "name": "ipython",
    "version": 3
   },
   "file_extension": ".py",
   "mimetype": "text/x-python",
   "name": "python",
   "nbconvert_exporter": "python",
   "pygments_lexer": "ipython3",
   "version": "3.12.7"
  }
 },
 "nbformat": 4,
 "nbformat_minor": 5
}
