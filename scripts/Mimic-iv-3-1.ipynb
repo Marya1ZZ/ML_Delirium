{
 "cells": [
  {
   "cell_type": "code",
   "execution_count": null,
   "id": "0a3ed510-1fa5-4590-924e-d730d85886a7",
   "metadata": {},
   "outputs": [],
   "source": [
    "import pandas as pd\n",
    "import os\n",
    "\n",
    "# Step 1: Define Data Path for Local Execution\n",
    "# Modify this path to the location of your MIMIC-IV data on your hard drive\n",
    "# Example: Windows - \"D:\\\\MIMIC-IV-Data-Pipeline\\\\data\"\n",
    "# Example: macOS/Linux - \"/Users/username/MIMIC-IV-Data-Pipeline/data\"\n",
    "data_path = \"D:/mimic-iv-3.1\"\n",
    "\n",
    "# Step 2: Load MIMIC-IV Tables with optimized memory handling\n",
    "admissions = pd.read_csv(os.path.join(data_path, \"hosp/admissions.csv.gz\"), low_memory=False)\n",
    "patients = pd.read_csv(os.path.join(data_path, \"hosp/patients.csv.gz\"), low_memory=False)\n",
    "icustays = pd.read_csv(os.path.join(data_path, \"icu/icustays.csv.gz\"), low_memory=False)\n",
    "diagnoses = pd.read_csv(os.path.join(data_path, \"hosp/diagnoses_icd.csv.gz\"), low_memory=False)\n",
    "prescriptions = pd.read_csv(os.path.join(data_path, \"hosp/prescriptions.csv.gz\"), dtype=str, low_memory=False)\n",
    "lab_events = pd.read_csv(os.path.join(data_path, \"hosp/labevents.csv.gz\"), usecols=[\"subject_id\", \"hadm_id\", \"itemid\", \"valuenum\"], low_memory=False)\n",
    "chartevents = pd.read_csv(os.path.join(data_path, \"icu/chartevents.csv.gz\"), usecols=[\"subject_id\", \"hadm_id\", \"itemid\", \"valuenum\"], low_memory=False)\n"
   ]
  }
 ],
 "metadata": {
  "kernelspec": {
   "display_name": "Python [conda env:base] *",
   "language": "python",
   "name": "conda-base-py"
  },
  "language_info": {
   "codemirror_mode": {
    "name": "ipython",
    "version": 3
   },
   "file_extension": ".py",
   "mimetype": "text/x-python",
   "name": "python",
   "nbconvert_exporter": "python",
   "pygments_lexer": "ipython3",
   "version": "3.12.7"
  }
 },
 "nbformat": 4,
 "nbformat_minor": 5
}
