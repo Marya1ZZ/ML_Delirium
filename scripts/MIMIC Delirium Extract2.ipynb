{
 "cells": [
  {
   "cell_type": "code",
   "execution_count": 1,
   "id": "33976f0f-27f1-43e4-9872-4698a34a9457",
   "metadata": {},
   "outputs": [
    {
     "name": "stdout",
     "output_type": "stream",
     "text": [
      "Memory Usage: 43.2%\n"
     ]
    }
   ],
   "source": [
    "import pandas as pd\n",
    "import os\n",
    "import psutil\n",
    "\n",
    "# Step 1: Define Data Path\n",
    "data_path = \"D:/mimic-iv-3.1\"\n",
    "\n",
    "# Step 2: Check memory usage before loading data\n",
    "def check_memory():\n",
    "    print(f\"Memory Usage: {psutil.virtual_memory().percent}%\")\n",
    "\n",
    "check_memory()\n",
    "\n",
    "# Step 3: Load MIMIC-IV Tables with optimized memory handling\n",
    "# Load small tables directly\n",
    "admissions = pd.read_csv(os.path.join(data_path, \"hosp/admissions.csv.gz\"), \n",
    "                          usecols=[\"subject_id\", \"hadm_id\", \"admission_type\", \"admission_location\", \"discharge_location\", \"insurance\", \"race\", \"marital_status\", \"edregtime\", \"edouttime\"], \n",
    "                          low_memory=False)"
   ]
  },
  {
   "cell_type": "code",
   "execution_count": 43,
   "id": "34b22fe1-59fd-43b0-afaa-4077c6a8cfca",
   "metadata": {},
   "outputs": [],
   "source": [
    "admissions = pd.read_csv(os.path.join(data_path, \"hosp/admissions.csv.gz\"), \n",
    "                          usecols=[\"subject_id\", \"hadm_id\", \"admission_type\", \"admission_location\", \"discharge_location\", \"insurance\", \"race\", \"marital_status\", \"edregtime\", \"edouttime\"], \n",
    "                          low_memory=False)\n",
    "\n",
    "# Calculate time spent in ED before admission\n",
    "admissions[\"ed_time_spent\"] = (pd.to_datetime(admissions[\"edouttime\"]) - pd.to_datetime(admissions[\"edregtime\"])).dt.total_seconds() / 60  # Convert to minutes\n",
    "\n",
    "# Drop original ED timestamps\n",
    "admissions = admissions.drop(columns=[\"edregtime\", \"edouttime\"], errors=\"ignore\")"
   ]
  },
  {
   "cell_type": "code",
   "execution_count": 3,
   "id": "b1fc9906-0d7e-493e-963c-b8d81fb8034e",
   "metadata": {},
   "outputs": [],
   "source": [
    " # Load patient demographics\n",
    "patients = pd.read_csv(os.path.join(data_path, \"hosp/patients.csv.gz\"),\n",
    "                        usecols=[\"subject_id\", \"gender\", \"anchor_age\", \"anchor_year\"],\n",
    "                        low_memory=False)\n",
    "\n",
    "# Load ICU stays with length of stay\n",
    "icustays = pd.read_csv(os.path.join(data_path, \"icu/icustays.csv.gz\"),\n",
    "                        usecols=[\"subject_id\", \"hadm_id\", \"stay_id\", \"last_careunit\", \"los\"],\n",
    "                        low_memory=False)"
   ]
  },
  {
   "cell_type": "code",
   "execution_count": 24,
   "id": "12467d20-0fc7-4736-a3ab-ccfab28174c1",
   "metadata": {},
   "outputs": [],
   "source": [
    "# Load diagnoses and count unique conditions per admission\n",
    "diagnoses = pd.read_csv(os.path.join(data_path, \"hosp/diagnoses_icd.csv.gz\"),\n",
    "                         usecols=[\"subject_id\", \"hadm_id\", \"icd_code\"],\n",
    "                         low_memory=False)\n",
    "\n",
    "diagnosis_counts = diagnoses.groupby([\"subject_id\", \"hadm_id\"]).agg(\n",
    "    num_comorbidities=('icd_code', 'nunique'),  # Count unique diagnoses\n",
    "    diagnosis_list=('icd_code', lambda x: list(x))  # Retain list of all diagnoses for admission\n",
    ").reset_index()"
   ]
  },
  {
   "cell_type": "code",
   "execution_count": 25,
   "id": "efdca566-46ba-451a-9d51-8300515204d4",
   "metadata": {},
   "outputs": [],
   "source": [
    "# Define Palliative Care ICD Codes in Diagnosis Table \n",
    "palliative_care_codes = [\"Z515\", \"V667\"]\n",
    "\n",
    "# Create Palliative Care Flag Based on Diagnoses\n",
    "diagnosis_counts[\"palliative_care_flag\"] = diagnosis_counts[\"diagnosis_list\"].apply(\n",
    "    lambda x: 1 if any(code in palliative_care_codes for code in x) else 0\n",
    ")\n",
    "\n"
   ]
  },
  {
   "cell_type": "code",
   "execution_count": 17,
   "id": "89ee5048-f463-463c-8545-b7b5a6ba4e85",
   "metadata": {},
   "outputs": [
    {
     "name": "stdout",
     "output_type": "stream",
     "text": [
      "🔍 Palliative Care Flag Distribution:\n",
      "palliative_care_flag\n",
      "0    0.976385\n",
      "1    0.023615\n",
      "Name: proportion, dtype: float64\n"
     ]
    }
   ],
   "source": [
    "print(\"🔍 Palliative Care Flag Distribution:\")\n",
    "print(diagnosis_counts[\"palliative_care_flag\"].value_counts(normalize=True))\n"
   ]
  },
  {
   "cell_type": "code",
   "execution_count": 35,
   "id": "a9ccacc8-be3c-457d-b418-60b77b86c22d",
   "metadata": {},
   "outputs": [],
   "source": [
    "# Define ICD Codes for Delirium\n",
    "delirium_icd_codes = [\"F05\", \"2930\", \"2931\",\"F051\",\"F050\",\"F059\" ]  # ICD-10 & ICD-9 Codes\n",
    "# Ensure diagnosis_list is a list, and handle missing values\n",
    "diagnosis_counts[\"delirium\"] = diagnosis_counts[\"diagnosis_list\"].apply(\n",
    "    lambda x: 1 if isinstance(x, list) and any(code in delirium_icd_codes for code in x) else 0\n",
    ")\n"
   ]
  },
  {
   "cell_type": "code",
   "execution_count": 37,
   "id": "24979b71-11cd-4e47-9d99-ee5426460ae3",
   "metadata": {},
   "outputs": [
    {
     "name": "stdout",
     "output_type": "stream",
     "text": [
      "delirium\n",
      "0    0.982277\n",
      "1    0.017723\n",
      "Name: proportion, dtype: float64\n"
     ]
    }
   ],
   "source": [
    "print(diagnosis_counts[\"delirium\"].value_counts(normalize=True))"
   ]
  },
  {
   "cell_type": "code",
   "execution_count": 23,
   "id": "f22f037f-8031-4ab4-a576-2cb5d3def476",
   "metadata": {},
   "outputs": [],
   "source": [
    "# Load prescriptions and flag high-risk medications\n",
    "prescriptions = pd.read_csv(os.path.join(data_path, \"hosp/prescriptions.csv.gz\"),\n",
    "                            usecols=[\"subject_id\", \"hadm_id\", \"drug\"],\n",
    "                            low_memory=False)\n",
    "\n",
    "# Define expanded high-risk medications list based on literature\n",
    "high_risk_meds = [\n",
    "    \"lorazepam\", \"midazolam\", \"diazepam\", \"clonazepam\", \"alprazolam\", \"temazepam\", \"chlordiazepoxide\",\n",
    "    \"morphine\", \"fentanyl\", \"hydromorphone\", \"oxycodone\", \"meperidine\", \"codeine\", \"tramadol\", \"buprenorphine\",\n",
    "    \"propofol\", \"dexmedetomidine\",\n",
    "    \"haloperidol\", \"olanzapine\", \"quetiapine\", \"risperidone\", \"ziprasidone\", \"chlorpromazine\", \"aripiprazole\",\n",
    "    \"diphenhydramine\", \"hydroxyzine\", \"promethazine\", \"oxybutynin\", \"scopolamine\", \"benztropine\", \"atropine\",\n",
    "    \"dexamethasone\", \"prednisone\", \"methylprednisolone\", \"hydrocortisone\",\n",
    "    \"metoclopramide\", \"cyclobenzaprine\", \"baclofen\", \"amantadine\"\n",
    "]\n",
    "\n",
    "prescriptions[\"drug\"] = prescriptions[\"drug\"].astype(str).str.lower().str.strip()\n",
    "prescriptions[\"high_risk_med\"] = prescriptions[\"drug\"].apply(lambda x: 1 if any(med in x for med in high_risk_meds) else 0)\n",
    "\n",
    "high_risk_med_counts = prescriptions.groupby([\"subject_id\", \"hadm_id\"])['high_risk_med'].max().reset_index()\n"
   ]
  },
  {
   "cell_type": "code",
   "execution_count": 39,
   "id": "b0c8088e-46b8-4a6d-984f-6fbfc690d601",
   "metadata": {},
   "outputs": [],
   "source": [
    "# Merge data to ensure one row per admission\n",
    "core_data = admissions.merge(patients, on=\"subject_id\", how=\"inner\")\n",
    "core_data = core_data.merge(icustays, on=[\"subject_id\", \"hadm_id\"], how=\"left\")\n",
    "core_data = core_data.merge(diagnosis_counts, on=[\"subject_id\", \"hadm_id\"], how=\"left\")\n",
    "core_data = core_data.merge(high_risk_med_counts, on=[\"subject_id\", \"hadm_id\"], how=\"left\")"
   ]
  },
  {
   "cell_type": "code",
   "execution_count": 21,
   "id": "435f17b1-51fb-4e3b-8ae2-c54470ef6a47",
   "metadata": {},
   "outputs": [],
   "source": [
    "#Skipped for now\n",
    "# Fill missing values\n",
    "core_data[\"num_comorbidities\"] = core_data[\"num_comorbidities\"].fillna(0).astype(int)\n",
    "core_data[\"high_risk_med\"] = core_data[\"high_risk_med\"].fillna(0).astype(int)\n",
    "\n",
    "\n"
   ]
  },
  {
   "cell_type": "code",
   "execution_count": 41,
   "id": "04deb95c-5856-4f7e-851c-d61948c7f784",
   "metadata": {},
   "outputs": [
    {
     "name": "stdout",
     "output_type": "stream",
     "text": [
      "✅ Cleaned dataset saved successfully! One row per admission.\n"
     ]
    }
   ],
   "source": [
    "# Step 4: Save Processed Data for ML Modeling\n",
    "output_path = \"D:/MIMIC-IV-Data-Pipeline/processed_data\"\n",
    "os.makedirs(output_path, exist_ok=True)\n",
    "core_data.to_csv(os.path.join(output_path, \"delirium_prediction_data_v3.csv.gz\"), index=False, compression='gzip')\n",
    "\n",
    "print(\"✅ Cleaned dataset saved successfully! One row per admission.\")"
   ]
  },
  {
   "cell_type": "code",
   "execution_count": null,
   "id": "fad1145a-093c-4118-9bcd-6b7d06b3d942",
   "metadata": {},
   "outputs": [],
   "source": []
  }
 ],
 "metadata": {
  "kernelspec": {
   "display_name": "Python [conda env:base] *",
   "language": "python",
   "name": "conda-base-py"
  },
  "language_info": {
   "codemirror_mode": {
    "name": "ipython",
    "version": 3
   },
   "file_extension": ".py",
   "mimetype": "text/x-python",
   "name": "python",
   "nbconvert_exporter": "python",
   "pygments_lexer": "ipython3",
   "version": "3.12.7"
  }
 },
 "nbformat": 4,
 "nbformat_minor": 5
}
